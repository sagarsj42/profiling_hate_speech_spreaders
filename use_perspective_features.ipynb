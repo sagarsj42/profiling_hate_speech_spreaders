{
 "cells": [
  {
   "cell_type": "code",
   "execution_count": 1,
   "id": "57c5a1d6",
   "metadata": {},
   "outputs": [],
   "source": [
    "import os\n",
    "import pyarrow.parquet as pq\n",
    "\n",
    "from sklearn.decomposition import PCA\n",
    "from sklearn.decomposition import KernelPCA\n",
    "from sklearn.decomposition import NMF\n",
    "from sklearn.svm import SVC\n",
    "from sklearn.linear_model import LogisticRegression\n",
    "from sklearn.discriminant_analysis import LinearDiscriminantAnalysis\n",
    "from sklearn.naive_bayes import GaussianNB\n",
    "from sklearn.neighbors import KNeighborsClassifier\n",
    "from sklearn.tree import DecisionTreeClassifier\n",
    "from sklearn.ensemble import RandomForestClassifier\n",
    "from sklearn.neural_network import MLPClassifier\n",
    "from sklearn.metrics import accuracy_score\n",
    "\n",
    "import xgboost as xgb\n",
    "\n",
    "from data_io import *\n",
    "from prepare_data import *\n",
    "from perspective_scores_api import extract_perspective_scores_for_authors"
   ]
  },
  {
   "cell_type": "code",
   "execution_count": 2,
   "id": "3b7b28ac",
   "metadata": {},
   "outputs": [],
   "source": [
    "def fit_and_print_scores(clf, name, x_train, y_train, x_dev, y_dev):\n",
    "    clf.fit(x_train, y_train)\n",
    "    train_score = clf.score(x_train, y_train)\n",
    "    dev_score = clf.score(x_dev, y_dev)\n",
    "    \n",
    "    print(name, ': -> train = ', train_score, '|  dev = ', dev_score)\n",
    "    \n",
    "    return clf\n",
    "\n",
    "\n",
    "def run_classifiers(x_train, y_train, x_dev, y_dev):\n",
    "    clf = SVC()\n",
    "    fit_and_print_scores(clf, 'SVC', x_train, y_train, x_dev, y_dev)\n",
    "\n",
    "    clf = LogisticRegression()\n",
    "    fit_and_print_scores(clf, 'Logistic Regression', x_train, y_train, x_dev, y_dev)\n",
    "\n",
    "    clf = LinearDiscriminantAnalysis()\n",
    "    fit_and_print_scores(clf, 'LinearDiscriminantAnalysis', x_train, y_train, x_dev, y_dev)\n",
    "\n",
    "    clf = GaussianNB()\n",
    "    fit_and_print_scores(clf, 'GaussianNB', x_train, y_train, x_dev, y_dev)\n",
    "\n",
    "    clf = KNeighborsClassifier(n_neighbors=5, weights='distance')\n",
    "    fit_and_print_scores(clf, 'KNeighborsClassifier', x_train, y_train, x_dev, y_dev)\n",
    "\n",
    "    clf = DecisionTreeClassifier()\n",
    "    fit_and_print_scores(clf, 'DecisionTreeClassifier', x_train, y_train, x_dev, y_dev)\n",
    "\n",
    "    clf = RandomForestClassifier(n_estimators=100)\n",
    "    fit_and_print_scores(clf, 'RandomForestClassifier', x_train, y_train, x_dev, y_dev)\n",
    "\n",
    "    hidden_layer_size = 20\n",
    "    clf = MLPClassifier(hidden_layer_sizes=hidden_layer_size, activation='relu', solver='adam', \n",
    "                        alpha=0.0001, learning_rate_init=0.001, max_iter=1000)\n",
    "    clf.fit(x_train, y_train)\n",
    "    fit_and_print_scores(clf, 'MLPClassifier', x_train, y_train, x_dev, y_dev)\n",
    "\n",
    "    dtrain = xgb.DMatrix(x_train, label=y_train)\n",
    "    ddev = xgb.DMatrix(x_dev, label=y_dev)\n",
    "    param = {'objective': 'binary:logistic', 'nthread': 4, 'eval_metric': 'mape', 'base_score': 0.5}\n",
    "    num_round = 10\n",
    "    evallist = [(ddev, 'eval'), (dtrain, 'train')]\n",
    "    bst = xgb.train(param, dtrain, num_round, evallist)\n",
    "    y_pred = np.around(bst.predict(dtrain))\n",
    "    train_score = accuracy_score(y_true=y_train, y_pred=y_pred)\n",
    "    y_pred = np.around(bst.predict(ddev))\n",
    "    dev_score = accuracy_score(y_true=y_dev, y_pred=y_pred)\n",
    "    print('XGBoost', ': -> train = ', train_score, '|  dev = ', dev_score)\n",
    "    \n",
    "    return"
   ]
  },
  {
   "cell_type": "code",
   "execution_count": 3,
   "id": "2af01856",
   "metadata": {},
   "outputs": [],
   "source": [
    "data_dir = os.path.join('..', 'data', 'pan21-author-profiling-training-2021-03-14')\n",
    "op_dir = os.path.join('..', 'res', 'preds')\n",
    "df_columns = ['author_id', 'tweet', 'label']"
   ]
  },
  {
   "cell_type": "markdown",
   "id": "ec597e4d",
   "metadata": {},
   "source": [
    "## English Data"
   ]
  },
  {
   "cell_type": "code",
   "execution_count": 4,
   "id": "5f5f1c07",
   "metadata": {},
   "outputs": [
    {
     "data": {
      "text/plain": [
       "((32000, 3), (8000, 3))"
      ]
     },
     "execution_count": 4,
     "metadata": {},
     "output_type": "execute_result"
    }
   ],
   "source": [
    "#en_df = create_df(data_dir, lang='en', df_columns=df_columns)\n",
    "en_df = pq.read_table(os.path.join(data_dir, 'en_df.parquet')).to_pandas()\n",
    "en_train, en_dev = get_single_split(en_df, data_dir, lang='en')\n",
    "en_train.shape, en_dev.shape"
   ]
  },
  {
   "cell_type": "code",
   "execution_count": 5,
   "id": "5d154d02",
   "metadata": {},
   "outputs": [
    {
     "data": {
      "text/html": [
       "<div>\n",
       "<style scoped>\n",
       "    .dataframe tbody tr th:only-of-type {\n",
       "        vertical-align: middle;\n",
       "    }\n",
       "\n",
       "    .dataframe tbody tr th {\n",
       "        vertical-align: top;\n",
       "    }\n",
       "\n",
       "    .dataframe thead th {\n",
       "        text-align: right;\n",
       "    }\n",
       "</style>\n",
       "<table border=\"1\" class=\"dataframe\">\n",
       "  <thead>\n",
       "    <tr style=\"text-align: right;\">\n",
       "      <th></th>\n",
       "      <th>author_id</th>\n",
       "      <th>tweet</th>\n",
       "      <th>label</th>\n",
       "    </tr>\n",
       "  </thead>\n",
       "  <tbody>\n",
       "    <tr>\n",
       "      <th>200</th>\n",
       "      <td>06893abba0bb8f94fed7562350233ed7</td>\n",
       "      <td>Romanian graftbuster’s firing violated rights,...</td>\n",
       "      <td>0</td>\n",
       "    </tr>\n",
       "    <tr>\n",
       "      <th>201</th>\n",
       "      <td>06893abba0bb8f94fed7562350233ed7</td>\n",
       "      <td>Russian ventilators sent to U.S. made by firm ...</td>\n",
       "      <td>0</td>\n",
       "    </tr>\n",
       "    <tr>\n",
       "      <th>202</th>\n",
       "      <td>06893abba0bb8f94fed7562350233ed7</td>\n",
       "      <td>Hezbollah prevented ISIS from reaching Europe:...</td>\n",
       "      <td>0</td>\n",
       "    </tr>\n",
       "    <tr>\n",
       "      <th>203</th>\n",
       "      <td>06893abba0bb8f94fed7562350233ed7</td>\n",
       "      <td>Epidemiologist Dr Knut Wittkowski: ‘Lockdown H...</td>\n",
       "      <td>0</td>\n",
       "    </tr>\n",
       "    <tr>\n",
       "      <th>204</th>\n",
       "      <td>06893abba0bb8f94fed7562350233ed7</td>\n",
       "      <td>China refuses to let WHO investigate truth beh...</td>\n",
       "      <td>0</td>\n",
       "    </tr>\n",
       "  </tbody>\n",
       "</table>\n",
       "</div>"
      ],
      "text/plain": [
       "                            author_id  \\\n",
       "200  06893abba0bb8f94fed7562350233ed7   \n",
       "201  06893abba0bb8f94fed7562350233ed7   \n",
       "202  06893abba0bb8f94fed7562350233ed7   \n",
       "203  06893abba0bb8f94fed7562350233ed7   \n",
       "204  06893abba0bb8f94fed7562350233ed7   \n",
       "\n",
       "                                                 tweet  label  \n",
       "200  Romanian graftbuster’s firing violated rights,...      0  \n",
       "201  Russian ventilators sent to U.S. made by firm ...      0  \n",
       "202  Hezbollah prevented ISIS from reaching Europe:...      0  \n",
       "203  Epidemiologist Dr Knut Wittkowski: ‘Lockdown H...      0  \n",
       "204  China refuses to let WHO investigate truth beh...      0  "
      ]
     },
     "execution_count": 5,
     "metadata": {},
     "output_type": "execute_result"
    }
   ],
   "source": [
    "en_train.head()"
   ]
  },
  {
   "cell_type": "code",
   "execution_count": 6,
   "id": "824e37ab",
   "metadata": {},
   "outputs": [
    {
     "data": {
      "text/plain": [
       "((160, 160), (160,))"
      ]
     },
     "execution_count": 6,
     "metadata": {},
     "output_type": "execute_result"
    }
   ],
   "source": [
    "x_train = extract_perspective_scores_for_authors(en_train, data_dir, lang='en', steps=20)\n",
    "_, y_train, _ = prepare_xy(en_train, tweet_feature_method=prepare_tweets_using_tfidf, lang='en',\n",
    "                           return_y=True, usr_len=200, is_train=True, vec=None)\n",
    "x_train.shape, y_train.shape"
   ]
  },
  {
   "cell_type": "code",
   "execution_count": 7,
   "id": "595a30ab",
   "metadata": {},
   "outputs": [
    {
     "data": {
      "text/plain": [
       "((40, 160), (40,))"
      ]
     },
     "execution_count": 7,
     "metadata": {},
     "output_type": "execute_result"
    }
   ],
   "source": [
    "x_dev = extract_perspective_scores_for_authors(en_dev, data_dir, lang='en', steps=20)\n",
    "_, y_dev, _ = prepare_xy(en_dev, tweet_feature_method=prepare_tweets_using_tfidf, lang='en',\n",
    "                           return_y=True, usr_len=200, is_train=True, vec=None)\n",
    "x_dev.shape, y_dev.shape"
   ]
  },
  {
   "cell_type": "markdown",
   "id": "00c1852c",
   "metadata": {},
   "source": [
    "### All Features"
   ]
  },
  {
   "cell_type": "code",
   "execution_count": 8,
   "id": "42a26dc0",
   "metadata": {},
   "outputs": [
    {
     "name": "stdout",
     "output_type": "stream",
     "text": [
      "SVC : -> train =  0.91875 |  dev =  0.675\n",
      "Logistic Regression : -> train =  0.875 |  dev =  0.7\n",
      "LinearDiscriminantAnalysis : -> train =  1.0 |  dev =  0.525\n",
      "GaussianNB : -> train =  0.6375 |  dev =  0.65\n",
      "KNeighborsClassifier : -> train =  1.0 |  dev =  0.625\n",
      "DecisionTreeClassifier : -> train =  1.0 |  dev =  0.625\n",
      "RandomForestClassifier : -> train =  1.0 |  dev =  0.7\n",
      "MLPClassifier : -> train =  1.0 |  dev =  0.625\n",
      "[0]\teval-mape:inf\ttrain-mape:inf\n",
      "[1]\teval-mape:inf\ttrain-mape:inf\n",
      "[2]\teval-mape:inf\ttrain-mape:inf\n",
      "[3]\teval-mape:inf\ttrain-mape:inf\n"
     ]
    },
    {
     "name": "stderr",
     "output_type": "stream",
     "text": [
      "/home/sagar/.local/lib/python3.8/site-packages/sklearn/neural_network/_multilayer_perceptron.py:568: ConvergenceWarning: Stochastic Optimizer: Maximum iterations (1000) reached and the optimization hasn't converged yet.\n",
      "  warnings.warn(\n"
     ]
    },
    {
     "name": "stdout",
     "output_type": "stream",
     "text": [
      "[4]\teval-mape:inf\ttrain-mape:inf\n",
      "[5]\teval-mape:inf\ttrain-mape:inf\n",
      "[6]\teval-mape:inf\ttrain-mape:inf\n",
      "[7]\teval-mape:inf\ttrain-mape:inf\n",
      "[8]\teval-mape:inf\ttrain-mape:inf\n",
      "[9]\teval-mape:inf\ttrain-mape:inf\n",
      "XGBoost : -> train =  1.0 |  dev =  0.6\n"
     ]
    }
   ],
   "source": [
    "run_classifiers(x_train, y_train, x_dev, y_dev)"
   ]
  },
  {
   "cell_type": "markdown",
   "id": "79e67136",
   "metadata": {},
   "source": [
    "### PCA"
   ]
  },
  {
   "cell_type": "code",
   "execution_count": 9,
   "id": "d3d909d9",
   "metadata": {},
   "outputs": [
    {
     "name": "stdout",
     "output_type": "stream",
     "text": [
      "(160, 50) (40, 50)\n"
     ]
    },
    {
     "data": {
      "text/plain": [
       "array([26.19382969,  7.83508751,  7.10265551,  6.97600428,  6.55426293,\n",
       "        6.36509136,  6.20802854,  5.95206833,  5.86963011,  5.77430962,\n",
       "        5.56067101,  5.43460676,  5.30549088,  5.06903537,  4.90511163,\n",
       "        4.81436008,  4.64481584,  4.46325598,  4.36193513,  4.22569465,\n",
       "        4.09509179,  3.80768813,  3.4514503 ,  3.3350317 ,  3.14021894,\n",
       "        2.99495971,  2.93743654,  2.86905819,  2.83695026,  2.71634341,\n",
       "        2.68874415,  2.64934544,  2.61997657,  2.55876661,  2.50754807,\n",
       "        2.47601816,  2.43672051,  2.40817307,  2.36182404,  2.29694776,\n",
       "        2.2421081 ,  2.19225205,  2.15617101,  2.12744053,  2.08958321,\n",
       "        2.04318623,  2.02566307,  1.98751921,  1.96672489,  1.92258272])"
      ]
     },
     "execution_count": 9,
     "metadata": {},
     "output_type": "execute_result"
    }
   ],
   "source": [
    "n_components = 50\n",
    "pca = PCA(n_components=n_components, svd_solver='full')\n",
    "x_train_p = pca.fit_transform(x_train)\n",
    "x_dev_p = pca.transform(x_dev)\n",
    "print(x_train_p.shape, x_dev_p.shape)\n",
    "pca.singular_values_"
   ]
  },
  {
   "cell_type": "code",
   "execution_count": 10,
   "id": "4a5c3e2d",
   "metadata": {},
   "outputs": [
    {
     "name": "stdout",
     "output_type": "stream",
     "text": [
      "SVC : -> train =  0.90625 |  dev =  0.725\n",
      "Logistic Regression : -> train =  0.8375 |  dev =  0.7\n",
      "LinearDiscriminantAnalysis : -> train =  0.83125 |  dev =  0.725\n",
      "GaussianNB : -> train =  0.81875 |  dev =  0.65\n",
      "KNeighborsClassifier : -> train =  1.0 |  dev =  0.625\n",
      "DecisionTreeClassifier : -> train =  1.0 |  dev =  0.55\n",
      "RandomForestClassifier : -> train =  1.0 |  dev =  0.675\n",
      "MLPClassifier : -> train =  1.0 |  dev =  0.75\n",
      "[0]\teval-mape:inf\ttrain-mape:inf\n",
      "[1]\teval-mape:inf\ttrain-mape:inf\n",
      "[2]\teval-mape:inf\ttrain-mape:inf\n",
      "[3]\teval-mape:inf\ttrain-mape:inf\n",
      "[4]\teval-mape:inf\ttrain-mape:inf\n",
      "[5]\teval-mape:inf\ttrain-mape:inf\n",
      "[6]\teval-mape:inf\ttrain-mape:inf\n",
      "[7]\teval-mape:inf\ttrain-mape:inf\n",
      "[8]\teval-mape:inf\ttrain-mape:inf\n",
      "[9]\teval-mape:inf\ttrain-mape:inf\n",
      "XGBoost : -> train =  1.0 |  dev =  0.775\n"
     ]
    }
   ],
   "source": [
    "run_classifiers(x_train_p, y_train, x_dev_p, y_dev)"
   ]
  },
  {
   "cell_type": "markdown",
   "id": "1f4ace8b",
   "metadata": {},
   "source": [
    "### Kernel PCA"
   ]
  },
  {
   "cell_type": "code",
   "execution_count": 11,
   "id": "8c3f31f8",
   "metadata": {},
   "outputs": [
    {
     "name": "stdout",
     "output_type": "stream",
     "text": [
      "(160, 50) (40, 50)\n"
     ]
    },
    {
     "data": {
      "text/plain": [
       "array([7.33777474, 0.68396385, 0.57969203, 0.54586355, 0.48594237,\n",
       "       0.45215814, 0.43562222, 0.42770364, 0.39225425, 0.38463268,\n",
       "       0.35917629, 0.33609168, 0.3239094 , 0.29123352, 0.27199872,\n",
       "       0.27075729, 0.24904103, 0.22905834, 0.21869784, 0.21134111,\n",
       "       0.19189844, 0.16899552, 0.15495735, 0.13565327, 0.12895083,\n",
       "       0.11279013, 0.10534592, 0.10190451, 0.09735498, 0.09503605,\n",
       "       0.08868639, 0.08787198, 0.08292633, 0.08221109, 0.07890201,\n",
       "       0.07507085, 0.07315583, 0.07158336, 0.06978766, 0.06734465,\n",
       "       0.06460213, 0.06101473, 0.05961286, 0.05811223, 0.05570242,\n",
       "       0.05460439, 0.05295793, 0.04986242, 0.04927391, 0.04826387])"
      ]
     },
     "execution_count": 11,
     "metadata": {},
     "output_type": "execute_result"
    }
   ],
   "source": [
    "kpca = KernelPCA(n_components=n_components, kernel='rbf', fit_inverse_transform=True)\n",
    "x_train_kp = kpca.fit_transform(x_train)\n",
    "x_dev_kp = kpca.transform(x_dev)\n",
    "print(x_train_p.shape, x_dev_p.shape)\n",
    "kpca.lambdas_"
   ]
  },
  {
   "cell_type": "code",
   "execution_count": 12,
   "id": "a883d279",
   "metadata": {},
   "outputs": [
    {
     "name": "stdout",
     "output_type": "stream",
     "text": [
      "SVC : -> train =  0.9125 |  dev =  0.725\n",
      "Logistic Regression : -> train =  0.65625 |  dev =  0.65\n",
      "LinearDiscriminantAnalysis : -> train =  0.8375 |  dev =  0.725\n",
      "GaussianNB : -> train =  0.79375 |  dev =  0.7\n",
      "KNeighborsClassifier : -> train =  1.0 |  dev =  0.6\n",
      "DecisionTreeClassifier : -> train =  1.0 |  dev =  0.675\n",
      "RandomForestClassifier : -> train =  1.0 |  dev =  0.625\n"
     ]
    },
    {
     "name": "stderr",
     "output_type": "stream",
     "text": [
      "/home/sagar/.local/lib/python3.8/site-packages/sklearn/neural_network/_multilayer_perceptron.py:568: ConvergenceWarning: Stochastic Optimizer: Maximum iterations (1000) reached and the optimization hasn't converged yet.\n",
      "  warnings.warn(\n"
     ]
    },
    {
     "name": "stdout",
     "output_type": "stream",
     "text": [
      "MLPClassifier : -> train =  0.875 |  dev =  0.775\n",
      "[0]\teval-mape:inf\ttrain-mape:inf\n",
      "[1]\teval-mape:inf\ttrain-mape:inf\n",
      "[2]\teval-mape:inf\ttrain-mape:inf\n",
      "[3]\teval-mape:inf\ttrain-mape:inf\n",
      "[4]\teval-mape:inf\ttrain-mape:inf\n",
      "[5]\teval-mape:inf\ttrain-mape:inf\n",
      "[6]\teval-mape:inf\ttrain-mape:inf\n",
      "[7]\teval-mape:inf\ttrain-mape:inf\n",
      "[8]\teval-mape:inf\ttrain-mape:inf\n",
      "[9]\teval-mape:inf\ttrain-mape:inf\n",
      "XGBoost : -> train =  1.0 |  dev =  0.65\n"
     ]
    },
    {
     "name": "stderr",
     "output_type": "stream",
     "text": [
      "/home/sagar/.local/lib/python3.8/site-packages/sklearn/neural_network/_multilayer_perceptron.py:568: ConvergenceWarning: Stochastic Optimizer: Maximum iterations (1000) reached and the optimization hasn't converged yet.\n",
      "  warnings.warn(\n"
     ]
    }
   ],
   "source": [
    "run_classifiers(x_train_kp, y_train, x_dev_kp, y_dev)"
   ]
  },
  {
   "cell_type": "markdown",
   "id": "23be6c9f",
   "metadata": {},
   "source": [
    "### NMF"
   ]
  },
  {
   "cell_type": "code",
   "execution_count": 13,
   "id": "92268773",
   "metadata": {},
   "outputs": [
    {
     "name": "stdout",
     "output_type": "stream",
     "text": [
      "(160, 50) (40, 50)\n"
     ]
    },
    {
     "data": {
      "text/plain": [
       "11.68868645117112"
      ]
     },
     "execution_count": 13,
     "metadata": {},
     "output_type": "execute_result"
    }
   ],
   "source": [
    "nmf = NMF(n_components=n_components, init='random')\n",
    "x_train_nmf = nmf.fit_transform(x_train)\n",
    "x_dev_nmf = nmf.transform(x_dev)\n",
    "print(x_train_nmf.shape, x_dev_nmf.shape)\n",
    "nmf.reconstruction_err_"
   ]
  },
  {
   "cell_type": "code",
   "execution_count": 14,
   "id": "a4c800e0",
   "metadata": {},
   "outputs": [
    {
     "name": "stdout",
     "output_type": "stream",
     "text": [
      "SVC : -> train =  0.7625 |  dev =  0.675\n",
      "Logistic Regression : -> train =  0.73125 |  dev =  0.7\n",
      "LinearDiscriminantAnalysis : -> train =  0.79375 |  dev =  0.675\n",
      "GaussianNB : -> train =  0.725 |  dev =  0.6\n",
      "KNeighborsClassifier : -> train =  1.0 |  dev =  0.575\n",
      "DecisionTreeClassifier : -> train =  1.0 |  dev =  0.575\n",
      "RandomForestClassifier : -> train =  1.0 |  dev =  0.65\n"
     ]
    },
    {
     "name": "stderr",
     "output_type": "stream",
     "text": [
      "/home/sagar/.local/lib/python3.8/site-packages/sklearn/neural_network/_multilayer_perceptron.py:568: ConvergenceWarning: Stochastic Optimizer: Maximum iterations (1000) reached and the optimization hasn't converged yet.\n",
      "  warnings.warn(\n"
     ]
    },
    {
     "name": "stdout",
     "output_type": "stream",
     "text": [
      "MLPClassifier : -> train =  0.99375 |  dev =  0.625\n",
      "[0]\teval-mape:inf\ttrain-mape:inf\n",
      "[1]\teval-mape:inf\ttrain-mape:inf\n",
      "[2]\teval-mape:inf\ttrain-mape:inf\n",
      "[3]\teval-mape:inf\ttrain-mape:inf\n",
      "[4]\teval-mape:inf\ttrain-mape:inf\n",
      "[5]\teval-mape:inf\ttrain-mape:inf\n",
      "[6]\teval-mape:inf\ttrain-mape:inf\n",
      "[7]\teval-mape:inf\ttrain-mape:inf\n",
      "[8]\teval-mape:inf\ttrain-mape:inf\n",
      "[9]\teval-mape:inf\ttrain-mape:inf\n",
      "XGBoost : -> train =  1.0 |  dev =  0.6\n"
     ]
    },
    {
     "name": "stderr",
     "output_type": "stream",
     "text": [
      "/home/sagar/.local/lib/python3.8/site-packages/sklearn/neural_network/_multilayer_perceptron.py:568: ConvergenceWarning: Stochastic Optimizer: Maximum iterations (1000) reached and the optimization hasn't converged yet.\n",
      "  warnings.warn(\n"
     ]
    }
   ],
   "source": [
    "run_classifiers(x_train_nmf, y_train, x_dev_nmf, y_dev)"
   ]
  },
  {
   "cell_type": "markdown",
   "id": "ba6a923b",
   "metadata": {},
   "source": [
    "## Spanish Data"
   ]
  },
  {
   "cell_type": "code",
   "execution_count": 15,
   "id": "94e1d66e",
   "metadata": {},
   "outputs": [
    {
     "data": {
      "text/plain": [
       "((32000, 3), (8000, 3))"
      ]
     },
     "execution_count": 15,
     "metadata": {},
     "output_type": "execute_result"
    }
   ],
   "source": [
    "#es_df = create_df(data_dir, lang='es', df_columns=df_columns)\n",
    "es_df = pq.read_table(os.path.join(data_dir, 'es_df.parquet')).to_pandas()\n",
    "es_train, es_dev = get_single_split(es_df, data_dir, lang='es')\n",
    "es_train.shape, es_dev.shape"
   ]
  },
  {
   "cell_type": "code",
   "execution_count": 16,
   "id": "6b96d2a7",
   "metadata": {},
   "outputs": [
    {
     "data": {
      "text/html": [
       "<div>\n",
       "<style scoped>\n",
       "    .dataframe tbody tr th:only-of-type {\n",
       "        vertical-align: middle;\n",
       "    }\n",
       "\n",
       "    .dataframe tbody tr th {\n",
       "        vertical-align: top;\n",
       "    }\n",
       "\n",
       "    .dataframe thead th {\n",
       "        text-align: right;\n",
       "    }\n",
       "</style>\n",
       "<table border=\"1\" class=\"dataframe\">\n",
       "  <thead>\n",
       "    <tr style=\"text-align: right;\">\n",
       "      <th></th>\n",
       "      <th>author_id</th>\n",
       "      <th>tweet</th>\n",
       "      <th>label</th>\n",
       "    </tr>\n",
       "  </thead>\n",
       "  <tbody>\n",
       "    <tr>\n",
       "      <th>0</th>\n",
       "      <td>0035a3060d075506f5b9b978a910aa1f</td>\n",
       "      <td>#USER# pasta con bichos de agua</td>\n",
       "      <td>0</td>\n",
       "    </tr>\n",
       "    <tr>\n",
       "      <th>1</th>\n",
       "      <td>0035a3060d075506f5b9b978a910aa1f</td>\n",
       "      <td>De verdad puto lol de mierda qué asco de juego...</td>\n",
       "      <td>0</td>\n",
       "    </tr>\n",
       "    <tr>\n",
       "      <th>2</th>\n",
       "      <td>0035a3060d075506f5b9b978a910aa1f</td>\n",
       "      <td>RT #USER#: me hice una pcr y ya tengo los resu...</td>\n",
       "      <td>0</td>\n",
       "    </tr>\n",
       "    <tr>\n",
       "      <th>3</th>\n",
       "      <td>0035a3060d075506f5b9b978a910aa1f</td>\n",
       "      <td>Y un lomo queso de baguette entera, tranqui #URL#</td>\n",
       "      <td>0</td>\n",
       "    </tr>\n",
       "    <tr>\n",
       "      <th>4</th>\n",
       "      <td>0035a3060d075506f5b9b978a910aa1f</td>\n",
       "      <td>Me cambio de curro y me llegan 3 ofertas direc...</td>\n",
       "      <td>0</td>\n",
       "    </tr>\n",
       "  </tbody>\n",
       "</table>\n",
       "</div>"
      ],
      "text/plain": [
       "                          author_id  \\\n",
       "0  0035a3060d075506f5b9b978a910aa1f   \n",
       "1  0035a3060d075506f5b9b978a910aa1f   \n",
       "2  0035a3060d075506f5b9b978a910aa1f   \n",
       "3  0035a3060d075506f5b9b978a910aa1f   \n",
       "4  0035a3060d075506f5b9b978a910aa1f   \n",
       "\n",
       "                                               tweet  label  \n",
       "0                    #USER# pasta con bichos de agua      0  \n",
       "1  De verdad puto lol de mierda qué asco de juego...      0  \n",
       "2  RT #USER#: me hice una pcr y ya tengo los resu...      0  \n",
       "3  Y un lomo queso de baguette entera, tranqui #URL#      0  \n",
       "4  Me cambio de curro y me llegan 3 ofertas direc...      0  "
      ]
     },
     "execution_count": 16,
     "metadata": {},
     "output_type": "execute_result"
    }
   ],
   "source": [
    "es_train.head()"
   ]
  },
  {
   "cell_type": "code",
   "execution_count": 17,
   "id": "009bd879",
   "metadata": {},
   "outputs": [
    {
     "data": {
      "text/plain": [
       "((160, 120), (160,))"
      ]
     },
     "execution_count": 17,
     "metadata": {},
     "output_type": "execute_result"
    }
   ],
   "source": [
    "x_train = extract_perspective_scores_for_authors(es_train, data_dir, lang='es', steps=20)\n",
    "_, y_train, _ = prepare_xy(es_train, tweet_feature_method=prepare_tweets_using_tfidf, lang='es',\n",
    "                           return_y=True, usr_len=200, is_train=True, vec=None)\n",
    "x_train.shape, y_train.shape"
   ]
  },
  {
   "cell_type": "code",
   "execution_count": 18,
   "id": "94666f46",
   "metadata": {},
   "outputs": [
    {
     "data": {
      "text/plain": [
       "((40, 120), (40,))"
      ]
     },
     "execution_count": 18,
     "metadata": {},
     "output_type": "execute_result"
    }
   ],
   "source": [
    "x_dev = extract_perspective_scores_for_authors(es_dev, data_dir, lang='es', steps=20)\n",
    "_, y_dev, _ = prepare_xy(es_dev, tweet_feature_method=prepare_tweets_using_tfidf, lang='es',\n",
    "                           return_y=True, usr_len=200, is_train=True, vec=None)\n",
    "x_dev.shape, y_dev.shape"
   ]
  },
  {
   "cell_type": "markdown",
   "id": "9020856d",
   "metadata": {},
   "source": [
    "### All Features"
   ]
  },
  {
   "cell_type": "code",
   "execution_count": 19,
   "id": "ae4c880b",
   "metadata": {},
   "outputs": [
    {
     "name": "stdout",
     "output_type": "stream",
     "text": [
      "SVC : -> train =  0.925 |  dev =  0.8\n",
      "Logistic Regression : -> train =  0.88125 |  dev =  0.825\n",
      "LinearDiscriminantAnalysis : -> train =  1.0 |  dev =  0.375\n",
      "GaussianNB : -> train =  0.7375 |  dev =  0.7\n",
      "KNeighborsClassifier : -> train =  1.0 |  dev =  0.75\n",
      "DecisionTreeClassifier : -> train =  1.0 |  dev =  0.775\n",
      "RandomForestClassifier : -> train =  1.0 |  dev =  0.725\n",
      "MLPClassifier : -> train =  1.0 |  dev =  0.775\n",
      "[0]\teval-mape:inf\ttrain-mape:inf\n",
      "[1]\teval-mape:inf\ttrain-mape:inf\n",
      "[2]\teval-mape:inf\ttrain-mape:inf\n",
      "[3]\teval-mape:inf\ttrain-mape:inf\n",
      "[4]\teval-mape:inf\ttrain-mape:inf\n",
      "[5]\teval-mape:inf\ttrain-mape:inf\n",
      "[6]\teval-mape:inf\ttrain-mape:inf\n",
      "[7]\teval-mape:inf\ttrain-mape:inf\n",
      "[8]\teval-mape:inf\ttrain-mape:inf\n",
      "[9]\teval-mape:inf\ttrain-mape:inf\n",
      "XGBoost : -> train =  1.0 |  dev =  0.675\n"
     ]
    }
   ],
   "source": [
    "run_classifiers(x_train, y_train, x_dev, y_dev)"
   ]
  },
  {
   "cell_type": "markdown",
   "id": "902bda46",
   "metadata": {},
   "source": [
    "### PCA"
   ]
  },
  {
   "cell_type": "code",
   "execution_count": 20,
   "id": "e2544246",
   "metadata": {},
   "outputs": [
    {
     "name": "stdout",
     "output_type": "stream",
     "text": [
      "(160, 40) (40, 40)\n"
     ]
    },
    {
     "data": {
      "text/plain": [
       "array([20.87730389,  7.95694644,  6.97541445,  6.93562704,  6.58450391,\n",
       "        6.30114656,  6.17187826,  6.06417209,  5.89434985,  5.50202955,\n",
       "        5.44674671,  5.30659403,  5.26211737,  5.08392637,  4.80990758,\n",
       "        4.58096578,  4.48959968,  4.33392519,  4.16842643,  3.95374989,\n",
       "        3.60460936,  3.52793679,  2.86087818,  2.82063837,  2.63969822,\n",
       "        2.55722055,  2.50677374,  2.43613251,  2.31841893,  2.27574376,\n",
       "        2.23359802,  2.18630093,  2.14898616,  2.09827094,  1.99493171,\n",
       "        1.95634788,  1.93050352,  1.85866554,  1.78640636,  1.74362207])"
      ]
     },
     "execution_count": 20,
     "metadata": {},
     "output_type": "execute_result"
    }
   ],
   "source": [
    "n_components = 40\n",
    "pca = PCA(n_components=n_components, svd_solver='full')\n",
    "x_train_p = pca.fit_transform(x_train)\n",
    "x_dev_p = pca.transform(x_dev)\n",
    "print(x_train_p.shape, x_dev_p.shape)\n",
    "pca.singular_values_"
   ]
  },
  {
   "cell_type": "code",
   "execution_count": 21,
   "id": "c2ab060a",
   "metadata": {},
   "outputs": [
    {
     "name": "stdout",
     "output_type": "stream",
     "text": [
      "SVC : -> train =  0.925 |  dev =  0.825\n",
      "Logistic Regression : -> train =  0.85625 |  dev =  0.825\n",
      "LinearDiscriminantAnalysis : -> train =  0.875 |  dev =  0.8\n",
      "GaussianNB : -> train =  0.875 |  dev =  0.825\n",
      "KNeighborsClassifier : -> train =  1.0 |  dev =  0.775\n",
      "DecisionTreeClassifier : -> train =  1.0 |  dev =  0.525\n",
      "RandomForestClassifier : -> train =  1.0 |  dev =  0.8\n",
      "MLPClassifier : -> train =  1.0 |  dev =  0.825\n",
      "[0]\teval-mape:inf\ttrain-mape:inf\n",
      "[1]\teval-mape:inf\ttrain-mape:inf\n",
      "[2]\teval-mape:inf\ttrain-mape:inf\n",
      "[3]\teval-mape:inf\ttrain-mape:inf\n",
      "[4]\teval-mape:inf\ttrain-mape:inf\n",
      "[5]\teval-mape:inf\ttrain-mape:inf\n",
      "[6]\teval-mape:inf\ttrain-mape:inf\n",
      "[7]\teval-mape:inf\ttrain-mape:inf\n",
      "[8]\teval-mape:inf\ttrain-mape:inf\n",
      "[9]\teval-mape:inf\ttrain-mape:inf\n",
      "XGBoost : -> train =  1.0 |  dev =  0.775\n"
     ]
    }
   ],
   "source": [
    "run_classifiers(x_train_p, y_train, x_dev_p, y_dev)"
   ]
  },
  {
   "cell_type": "markdown",
   "id": "e26290b2",
   "metadata": {},
   "source": [
    "### Kernel PCA"
   ]
  },
  {
   "cell_type": "code",
   "execution_count": 22,
   "id": "2d49957c",
   "metadata": {},
   "outputs": [
    {
     "name": "stdout",
     "output_type": "stream",
     "text": [
      "(160, 40) (40, 40)\n"
     ]
    },
    {
     "data": {
      "text/plain": [
       "array([6.10310692, 0.94582695, 0.72475426, 0.72200725, 0.64263922,\n",
       "       0.59173553, 0.56692813, 0.54697544, 0.52316042, 0.4501591 ,\n",
       "       0.44627623, 0.42273616, 0.41945332, 0.39187915, 0.34692951,\n",
       "       0.33026473, 0.31534916, 0.2860135 , 0.28256431, 0.25443564,\n",
       "       0.23334837, 0.19239341, 0.16456481, 0.12423734, 0.12154541,\n",
       "       0.10955577, 0.10246341, 0.09808585, 0.09119461, 0.08527125,\n",
       "       0.08068409, 0.08042121, 0.07728154, 0.07480601, 0.06861622,\n",
       "       0.06612093, 0.06320416, 0.05927497, 0.05737951, 0.05331462])"
      ]
     },
     "execution_count": 22,
     "metadata": {},
     "output_type": "execute_result"
    }
   ],
   "source": [
    "kpca = KernelPCA(n_components=n_components, kernel='rbf', fit_inverse_transform=True)\n",
    "x_train_kp = kpca.fit_transform(x_train)\n",
    "x_dev_kp = kpca.transform(x_dev)\n",
    "print(x_train_p.shape, x_dev_p.shape)\n",
    "kpca.lambdas_"
   ]
  },
  {
   "cell_type": "code",
   "execution_count": 23,
   "id": "c949207b",
   "metadata": {},
   "outputs": [
    {
     "name": "stdout",
     "output_type": "stream",
     "text": [
      "SVC : -> train =  0.925 |  dev =  0.8\n",
      "Logistic Regression : -> train =  0.74375 |  dev =  0.725\n",
      "LinearDiscriminantAnalysis : -> train =  0.90625 |  dev =  0.8\n",
      "GaussianNB : -> train =  0.8875 |  dev =  0.8\n",
      "KNeighborsClassifier : -> train =  1.0 |  dev =  0.75\n",
      "DecisionTreeClassifier : -> train =  1.0 |  dev =  0.625\n",
      "RandomForestClassifier : -> train =  1.0 |  dev =  0.825\n"
     ]
    },
    {
     "name": "stderr",
     "output_type": "stream",
     "text": [
      "/home/sagar/.local/lib/python3.8/site-packages/sklearn/neural_network/_multilayer_perceptron.py:568: ConvergenceWarning: Stochastic Optimizer: Maximum iterations (1000) reached and the optimization hasn't converged yet.\n",
      "  warnings.warn(\n"
     ]
    },
    {
     "name": "stdout",
     "output_type": "stream",
     "text": [
      "MLPClassifier : -> train =  0.9 |  dev =  0.75\n",
      "[0]\teval-mape:inf\ttrain-mape:inf\n",
      "[1]\teval-mape:inf\ttrain-mape:inf\n",
      "[2]\teval-mape:inf\ttrain-mape:inf\n",
      "[3]\teval-mape:inf\ttrain-mape:inf\n",
      "[4]\teval-mape:inf\ttrain-mape:inf\n",
      "[5]\teval-mape:inf\ttrain-mape:inf\n",
      "[6]\teval-mape:inf\ttrain-mape:inf\n",
      "[7]\teval-mape:inf\ttrain-mape:inf\n",
      "[8]\teval-mape:inf\ttrain-mape:inf\n",
      "[9]\teval-mape:inf\ttrain-mape:inf\n",
      "XGBoost : -> train =  1.0 |  dev =  0.725\n"
     ]
    },
    {
     "name": "stderr",
     "output_type": "stream",
     "text": [
      "/home/sagar/.local/lib/python3.8/site-packages/sklearn/neural_network/_multilayer_perceptron.py:568: ConvergenceWarning: Stochastic Optimizer: Maximum iterations (1000) reached and the optimization hasn't converged yet.\n",
      "  warnings.warn(\n"
     ]
    }
   ],
   "source": [
    "run_classifiers(x_train_kp, y_train, x_dev_kp, y_dev)"
   ]
  },
  {
   "cell_type": "markdown",
   "id": "bd287ca6",
   "metadata": {},
   "source": [
    "### NMF"
   ]
  },
  {
   "cell_type": "code",
   "execution_count": 24,
   "id": "db246aa9",
   "metadata": {},
   "outputs": [
    {
     "name": "stdout",
     "output_type": "stream",
     "text": [
      "(160, 40) (40, 40)\n"
     ]
    },
    {
     "data": {
      "text/plain": [
       "9.788962382287838"
      ]
     },
     "execution_count": 24,
     "metadata": {},
     "output_type": "execute_result"
    }
   ],
   "source": [
    "nmf = NMF(n_components=n_components, init='nndsvda')\n",
    "x_train_nmf = nmf.fit_transform(x_train)\n",
    "x_dev_nmf = nmf.transform(x_dev)\n",
    "print(x_train_nmf.shape, x_dev_nmf.shape)\n",
    "nmf.reconstruction_err_"
   ]
  },
  {
   "cell_type": "code",
   "execution_count": 25,
   "id": "922926ec",
   "metadata": {},
   "outputs": [
    {
     "name": "stdout",
     "output_type": "stream",
     "text": [
      "SVC : -> train =  0.85 |  dev =  0.7\n",
      "Logistic Regression : -> train =  0.75625 |  dev =  0.6\n",
      "LinearDiscriminantAnalysis : -> train =  0.88125 |  dev =  0.8\n",
      "GaussianNB : -> train =  0.8125 |  dev =  0.7\n",
      "KNeighborsClassifier : -> train =  1.0 |  dev =  0.6\n",
      "DecisionTreeClassifier : -> train =  1.0 |  dev =  0.775\n",
      "RandomForestClassifier : -> train =  1.0 |  dev =  0.8\n"
     ]
    },
    {
     "name": "stderr",
     "output_type": "stream",
     "text": [
      "/home/sagar/.local/lib/python3.8/site-packages/sklearn/neural_network/_multilayer_perceptron.py:568: ConvergenceWarning: Stochastic Optimizer: Maximum iterations (1000) reached and the optimization hasn't converged yet.\n",
      "  warnings.warn(\n"
     ]
    },
    {
     "name": "stdout",
     "output_type": "stream",
     "text": [
      "MLPClassifier : -> train =  0.84375 |  dev =  0.7\n",
      "[0]\teval-mape:inf\ttrain-mape:inf\n",
      "[1]\teval-mape:inf\ttrain-mape:inf\n",
      "[2]\teval-mape:inf\ttrain-mape:inf\n",
      "[3]\teval-mape:inf\ttrain-mape:inf\n",
      "[4]\teval-mape:inf\ttrain-mape:inf\n",
      "[5]\teval-mape:inf\ttrain-mape:inf\n",
      "[6]\teval-mape:inf\ttrain-mape:inf\n",
      "[7]\teval-mape:inf\ttrain-mape:inf\n",
      "[8]\teval-mape:inf\ttrain-mape:inf\n",
      "[9]\teval-mape:inf\ttrain-mape:inf\n",
      "XGBoost : -> train =  1.0 |  dev =  0.775\n"
     ]
    },
    {
     "name": "stderr",
     "output_type": "stream",
     "text": [
      "/home/sagar/.local/lib/python3.8/site-packages/sklearn/neural_network/_multilayer_perceptron.py:568: ConvergenceWarning: Stochastic Optimizer: Maximum iterations (1000) reached and the optimization hasn't converged yet.\n",
      "  warnings.warn(\n"
     ]
    }
   ],
   "source": [
    "run_classifiers(x_train_nmf, y_train, x_dev_nmf, y_dev)"
   ]
  },
  {
   "cell_type": "code",
   "execution_count": null,
   "id": "f98d9750",
   "metadata": {},
   "outputs": [],
   "source": []
  }
 ],
 "metadata": {
  "kernelspec": {
   "display_name": "Python 3",
   "language": "python",
   "name": "python3"
  },
  "language_info": {
   "codemirror_mode": {
    "name": "ipython",
    "version": 3
   },
   "file_extension": ".py",
   "mimetype": "text/x-python",
   "name": "python",
   "nbconvert_exporter": "python",
   "pygments_lexer": "ipython3",
   "version": "3.8.5"
  }
 },
 "nbformat": 4,
 "nbformat_minor": 5
}
