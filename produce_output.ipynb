{
 "cells": [
  {
   "cell_type": "code",
   "execution_count": 61,
   "id": "bd310fae",
   "metadata": {},
   "outputs": [],
   "source": [
    "import os\n",
    "import pickle\n",
    "import xml.etree.ElementTree as et\n",
    "import numpy as np"
   ]
  },
  {
   "cell_type": "code",
   "execution_count": 62,
   "id": "1687c30c",
   "metadata": {},
   "outputs": [],
   "source": [
    "op_dir = os.path.join('..', 'res')"
   ]
  },
  {
   "cell_type": "code",
   "execution_count": 63,
   "id": "5344ad7b",
   "metadata": {},
   "outputs": [
    {
     "data": {
      "text/plain": [
       "40"
      ]
     },
     "execution_count": 63,
     "metadata": {},
     "output_type": "execute_result"
    }
   ],
   "source": [
    "with open(os.path.join(op_dir, 'dev_auth_list.pkl'), 'rb') as f:\n",
    "    authlist = pickle.load(f)\n",
    "\n",
    "len(authlist)"
   ]
  },
  {
   "cell_type": "code",
   "execution_count": 64,
   "id": "d3b3cae6",
   "metadata": {},
   "outputs": [
    {
     "data": {
      "text/plain": [
       "40"
      ]
     },
     "execution_count": 64,
     "metadata": {},
     "output_type": "execute_result"
    }
   ],
   "source": [
    "with open(os.path.join(op_dir, 'preds', 'dev-preds.npy'), 'rb') as f:\n",
    "    preds = np.load(f)\n",
    "    \n",
    "len(preds)"
   ]
  },
  {
   "cell_type": "code",
   "execution_count": 65,
   "id": "a56c6778",
   "metadata": {},
   "outputs": [
    {
     "data": {
      "text/plain": [
       "<xml.etree.ElementTree.ElementTree at 0x7fde13b86910>"
      ]
     },
     "execution_count": 65,
     "metadata": {},
     "output_type": "execute_result"
    }
   ],
   "source": [
    "def create_xml(author_id, lang, label, filedir):\n",
    "    root = et.Element('author')\n",
    "    root.set('id', author_id)\n",
    "    root.set('lang', lang)\n",
    "    root.set('type', str(label))\n",
    "    \n",
    "    tree = et.ElementTree(root)\n",
    "    filename = os.path.join(filedir, author_id + '.xml')\n",
    "    \n",
    "    with open(filename, 'wb') as f:\n",
    "        tree.write(f)\n",
    "    \n",
    "    return tree\n",
    "    \n",
    "create_xml('4322', 'en', 0, os.path.join(op_dir, 'trial'))"
   ]
  },
  {
   "cell_type": "code",
   "execution_count": 66,
   "id": "160a6f80",
   "metadata": {},
   "outputs": [],
   "source": [
    "def combine_and_save_output(auth, pred, lang, filedir):\n",
    "    for a, p in zip(auth, pred):\n",
    "        create_xml(a, 'en', p, filedir)\n",
    "        \n",
    "    return\n",
    "\n",
    "combine_and_save_output(authlist, preds, 'en', os.path.join(op_dir, 'trial'))"
   ]
  },
  {
   "cell_type": "code",
   "execution_count": null,
   "id": "de7b4210",
   "metadata": {},
   "outputs": [],
   "source": []
  }
 ],
 "metadata": {
  "kernelspec": {
   "display_name": "Python 3",
   "language": "python",
   "name": "python3"
  },
  "language_info": {
   "codemirror_mode": {
    "name": "ipython",
    "version": 3
   },
   "file_extension": ".py",
   "mimetype": "text/x-python",
   "name": "python",
   "nbconvert_exporter": "python",
   "pygments_lexer": "ipython3",
   "version": "3.8.5"
  }
 },
 "nbformat": 4,
 "nbformat_minor": 5
}
