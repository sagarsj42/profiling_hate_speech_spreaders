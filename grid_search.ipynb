{
 "cells": [
  {
   "cell_type": "code",
   "execution_count": 1,
   "id": "2284a787",
   "metadata": {},
   "outputs": [],
   "source": [
    "import os\n",
    "import pyarrow.parquet as pq\n",
    "\n",
    "from sklearn.model_selection import GridSearchCV\n",
    "from sklearn.decomposition import PCA\n",
    "from sklearn.decomposition import KernelPCA\n",
    "from sklearn.decomposition import NMF\n",
    "from sklearn.svm import SVC\n",
    "from sklearn.linear_model import LogisticRegression\n",
    "from sklearn.discriminant_analysis import LinearDiscriminantAnalysis\n",
    "from sklearn.naive_bayes import GaussianNB\n",
    "from sklearn.neighbors import KNeighborsClassifier\n",
    "from sklearn.tree import DecisionTreeClassifier\n",
    "from sklearn.ensemble import RandomForestClassifier\n",
    "from sklearn.neural_network import MLPClassifier\n",
    "from sklearn.metrics import accuracy_score\n",
    "\n",
    "import xgboost as xgb\n",
    "\n",
    "from data_io import *\n",
    "from prepare_data import *\n",
    "from perspective_scores_api import extract_perspective_scores_for_authors"
   ]
  },
  {
   "cell_type": "code",
   "execution_count": 2,
   "id": "71888034",
   "metadata": {},
   "outputs": [],
   "source": [
    "data_dir = os.path.join('..', 'data', 'pan21-author-profiling-training-2021-03-14')\n",
    "op_dir = os.path.join('..', 'res', 'preds')\n",
    "df_columns = ['author_id', 'tweet', 'label']"
   ]
  },
  {
   "cell_type": "markdown",
   "id": "77dbde0a",
   "metadata": {},
   "source": [
    "## English Data"
   ]
  },
  {
   "cell_type": "code",
   "execution_count": 3,
   "id": "bbb573d2",
   "metadata": {},
   "outputs": [
    {
     "data": {
      "text/plain": [
       "((32000, 3), (8000, 3))"
      ]
     },
     "execution_count": 3,
     "metadata": {},
     "output_type": "execute_result"
    }
   ],
   "source": [
    "#en_df = create_df(data_dir, lang='en', df_columns=df_columns)\n",
    "en_df = pq.read_table(os.path.join(data_dir, 'en_df.parquet')).to_pandas()\n",
    "en_train, en_dev = get_single_split(en_df, data_dir, lang='en')\n",
    "en_train.shape, en_dev.shape"
   ]
  },
  {
   "cell_type": "code",
   "execution_count": 4,
   "id": "7647a600",
   "metadata": {},
   "outputs": [
    {
     "data": {
      "text/html": [
       "<div>\n",
       "<style scoped>\n",
       "    .dataframe tbody tr th:only-of-type {\n",
       "        vertical-align: middle;\n",
       "    }\n",
       "\n",
       "    .dataframe tbody tr th {\n",
       "        vertical-align: top;\n",
       "    }\n",
       "\n",
       "    .dataframe thead th {\n",
       "        text-align: right;\n",
       "    }\n",
       "</style>\n",
       "<table border=\"1\" class=\"dataframe\">\n",
       "  <thead>\n",
       "    <tr style=\"text-align: right;\">\n",
       "      <th></th>\n",
       "      <th>author_id</th>\n",
       "      <th>tweet</th>\n",
       "      <th>label</th>\n",
       "    </tr>\n",
       "  </thead>\n",
       "  <tbody>\n",
       "    <tr>\n",
       "      <th>0</th>\n",
       "      <td>043e2766cc6d22ae4e447ca5f2885a2a</td>\n",
       "      <td>Fuck New York #URL#</td>\n",
       "      <td>1</td>\n",
       "    </tr>\n",
       "    <tr>\n",
       "      <th>1</th>\n",
       "      <td>043e2766cc6d22ae4e447ca5f2885a2a</td>\n",
       "      <td>#USER# #USER# I think I'm in love</td>\n",
       "      <td>1</td>\n",
       "    </tr>\n",
       "    <tr>\n",
       "      <th>2</th>\n",
       "      <td>043e2766cc6d22ae4e447ca5f2885a2a</td>\n",
       "      <td>Trump is awesome #URL#</td>\n",
       "      <td>1</td>\n",
       "    </tr>\n",
       "    <tr>\n",
       "      <th>3</th>\n",
       "      <td>043e2766cc6d22ae4e447ca5f2885a2a</td>\n",
       "      <td>#USER# You have the greatest tweets sweetheart...</td>\n",
       "      <td>1</td>\n",
       "    </tr>\n",
       "    <tr>\n",
       "      <th>4</th>\n",
       "      <td>043e2766cc6d22ae4e447ca5f2885a2a</td>\n",
       "      <td>#USER# It's free pizza Hun, just free food</td>\n",
       "      <td>1</td>\n",
       "    </tr>\n",
       "  </tbody>\n",
       "</table>\n",
       "</div>"
      ],
      "text/plain": [
       "                          author_id  \\\n",
       "0  043e2766cc6d22ae4e447ca5f2885a2a   \n",
       "1  043e2766cc6d22ae4e447ca5f2885a2a   \n",
       "2  043e2766cc6d22ae4e447ca5f2885a2a   \n",
       "3  043e2766cc6d22ae4e447ca5f2885a2a   \n",
       "4  043e2766cc6d22ae4e447ca5f2885a2a   \n",
       "\n",
       "                                               tweet  label  \n",
       "0                                Fuck New York #URL#      1  \n",
       "1                  #USER# #USER# I think I'm in love      1  \n",
       "2                             Trump is awesome #URL#      1  \n",
       "3  #USER# You have the greatest tweets sweetheart...      1  \n",
       "4         #USER# It's free pizza Hun, just free food      1  "
      ]
     },
     "execution_count": 4,
     "metadata": {},
     "output_type": "execute_result"
    }
   ],
   "source": [
    "en_df.head()"
   ]
  },
  {
   "cell_type": "code",
   "execution_count": 20,
   "id": "ccbedf45",
   "metadata": {},
   "outputs": [
    {
     "name": "stdout",
     "output_type": "stream",
     "text": [
      "(200, 60)\n",
      "[30.09955133  8.394896    7.76896769  7.66163536  7.17700332  6.9891127\n",
      "  6.76888324  6.56223996  6.34800107  6.31203066  6.20219051  6.04994782\n",
      "  5.87902222  5.68537456  5.59075626  5.30708762  5.2282202   4.99310171\n",
      "  4.87025083  4.75280772  4.68379532  4.3687815   3.81053762  3.58222062\n",
      "  3.45677129  3.32135212  3.27728282  3.16021462  3.10965455  3.07774252\n",
      "  2.96652065  2.89334705  2.88822641  2.81111765  2.78321628  2.7486442\n",
      "  2.70490065  2.6729237   2.62251254  2.59544929  2.55887945  2.52070738\n",
      "  2.48740162  2.44416817  2.39041748  2.3272917   2.30225963  2.24640683\n",
      "  2.23222877  2.17823462  2.14848117  2.10436325  2.08433539  2.04742693\n",
      "  1.99377035  1.98672473  1.93253653  1.91636561  1.89853942  1.86439287]\n",
      "(200, 100)\n",
      "[3.12798826 1.93875002 1.71068712 1.50590449 1.45371905 1.37461331\n",
      " 1.34522264 1.27017024 1.24104622 1.21604627 1.19844042 1.16339599\n",
      " 1.1559843  1.14773407 1.13728326 1.11772955 1.1082077  1.10021238\n",
      " 1.08721517 1.07565623 1.07388557 1.05457008 1.05006832 1.04517214\n",
      " 1.03863628 1.03458973 1.0285385  1.02695157 1.02300149 1.02160024\n",
      " 1.01539656 1.01348124 1.01079832 1.00646469 1.00421399 1.00324379\n",
      " 1.00019972 0.9945498  0.99271928 0.98834063 0.98766705 0.9850639\n",
      " 0.98211543 0.98121439 0.97708607 0.97669772 0.97536595 0.97207112\n",
      " 0.97038917 0.96636398 0.96546275 0.96184946 0.9607084  0.96048142\n",
      " 0.95880644 0.95443095 0.95224391 0.94953323 0.94901176 0.9478501\n",
      " 0.94664134 0.94481615 0.94238596 0.94046076 0.93963592 0.9372563\n",
      " 0.93504209 0.93270522 0.93200019 0.92770344 0.92706352 0.9252388\n",
      " 0.92263372 0.92058667 0.91832269 0.91608107 0.91537221 0.91388728\n",
      " 0.91347806 0.91202284 0.91045334 0.90967876 0.90562688 0.90475296\n",
      " 0.90257036 0.90182224 0.89999627 0.89886031 0.89747199 0.89589548\n",
      " 0.89431859 0.89201519 0.89093001 0.88871136 0.8861806  0.88540295\n",
      " 0.88412589 0.88266498 0.88159395 0.88044254]\n",
      "(200, 160) (200,)\n"
     ]
    }
   ],
   "source": [
    "x_train_persp = extract_perspective_scores_for_authors(en_train, data_dir, lang='en', steps=20)\n",
    "x_train_tfidf, y_train, en_vec = prepare_xy(en_train, tweet_feature_method=prepare_tweets_using_tfidf, lang='en',\n",
    "                           return_y=True, usr_len=200, is_train=True, vec=None)\n",
    "\n",
    "x_dev_persp = extract_perspective_scores_for_authors(en_dev, data_dir, lang='en', steps=20)\n",
    "x_dev_tfidf, y_dev, _ = prepare_xy(en_dev, tweet_feature_method=prepare_tweets_using_tfidf, lang='en',\n",
    "                           return_y=True, usr_len=200, is_train=False, vec=en_vec)\n",
    "\n",
    "x_persp = np.concatenate((x_train_persp, x_dev_persp), axis=0)\n",
    "x_tfidf = np.concatenate((x_train_tfidf.toarray(), x_dev_tfidf.toarray()), axis=0)\n",
    "y = np.concatenate((y_train, y_dev), axis=0)\n",
    "\n",
    "n_components = 60\n",
    "pca = PCA(n_components=n_components, svd_solver='full')\n",
    "x_persp_p = pca.fit_transform(x_persp)\n",
    "print(x_persp_p.shape)\n",
    "print(pca.singular_values_)\n",
    "\n",
    "n_components = 100\n",
    "pca = PCA(n_components=n_components, svd_solver='full')\n",
    "x_tfidf_p = pca.fit_transform(x_tfidf)\n",
    "print(x_tfidf_p.shape)\n",
    "print(pca.singular_values_)\n",
    "\n",
    "x = np.concatenate((x_persp_p, x_tfidf_p), axis=1)\n",
    "\n",
    "print(x.shape, y.shape)"
   ]
  },
  {
   "cell_type": "code",
   "execution_count": 21,
   "id": "be78dce8",
   "metadata": {},
   "outputs": [
    {
     "name": "stdout",
     "output_type": "stream",
     "text": [
      "Fitting 5 folds for each of 1728 candidates, totalling 8640 fits\n"
     ]
    },
    {
     "name": "stderr",
     "output_type": "stream",
     "text": [
      "[Parallel(n_jobs=-1)]: Using backend LokyBackend with 8 concurrent workers.\n",
      "[Parallel(n_jobs=-1)]: Done   8 tasks      | elapsed:    0.1s\n",
      "[Parallel(n_jobs=-1)]: Done 296 tasks      | elapsed:    0.6s\n",
      "[Parallel(n_jobs=-1)]: Done 2208 tasks      | elapsed:    3.3s\n",
      "[Parallel(n_jobs=-1)]: Done 4944 tasks      | elapsed:    6.9s\n",
      "[Parallel(n_jobs=-1)]: Done 8450 tasks      | elapsed:   11.8s\n",
      "[Parallel(n_jobs=-1)]: Done 8625 out of 8640 | elapsed:   11.9s remaining:    0.0s\n",
      "[Parallel(n_jobs=-1)]: Done 8640 out of 8640 | elapsed:   12.0s finished\n"
     ]
    },
    {
     "data": {
      "text/plain": [
       "GridSearchCV(cv=None, error_score=nan,\n",
       "             estimator=SVC(C=1.0, break_ties=False, cache_size=200,\n",
       "                           class_weight=None, coef0=0.0,\n",
       "                           decision_function_shape='ovr', degree=3,\n",
       "                           gamma='scale', kernel='rbf', max_iter=-1,\n",
       "                           probability=False, random_state=None, shrinking=True,\n",
       "                           tol=0.001, verbose=False),\n",
       "             iid='deprecated', n_jobs=-1,\n",
       "             param_grid={'C': (0.0001, 0.01, 1.0, 10, 100, 1000),\n",
       "                         'degree': (2, 4, 5, 6), 'gamma': ('scale', 'auto'),\n",
       "                         'kernel': ('linear', 'rbf', 'sigmoid', 'poly'),\n",
       "                         'max_iter': (-1, 100, 1000),\n",
       "                         'tol': (1e-07, 1e-05, 0.001)},\n",
       "             pre_dispatch='2*n_jobs', refit=True, return_train_score=False,\n",
       "             scoring=None, verbose=4)"
      ]
     },
     "execution_count": 21,
     "metadata": {},
     "output_type": "execute_result"
    }
   ],
   "source": [
    "parameters = {\n",
    "    'C': (0.0001, 0.01, 1.0, 10, 100, 1000),\n",
    "    'kernel': ('linear', 'rbf', 'sigmoid', 'poly'),\n",
    "    'degree': (2, 4, 5, 6),\n",
    "    'gamma': ('scale', 'auto'),\n",
    "    'max_iter': (-1, 100, 1000),\n",
    "    'tol': (1e-7, 1e-5, 1e-3)\n",
    "}\n",
    "\n",
    "gs = GridSearchCV(SVC(), param_grid=parameters, n_jobs=-1, verbose=4)\n",
    "gs.fit(x, y)"
   ]
  },
  {
   "cell_type": "code",
   "execution_count": 22,
   "id": "a82b1084",
   "metadata": {},
   "outputs": [
    {
     "data": {
      "text/plain": [
       "(SVC(C=10, break_ties=False, cache_size=200, class_weight=None, coef0=0.0,\n",
       "     decision_function_shape='ovr', degree=2, gamma='auto', kernel='rbf',\n",
       "     max_iter=-1, probability=False, random_state=None, shrinking=True,\n",
       "     tol=1e-07, verbose=False),\n",
       " 0.72,\n",
       " {'C': 10,\n",
       "  'degree': 2,\n",
       "  'gamma': 'auto',\n",
       "  'kernel': 'rbf',\n",
       "  'max_iter': -1,\n",
       "  'tol': 1e-07})"
      ]
     },
     "execution_count": 22,
     "metadata": {},
     "output_type": "execute_result"
    }
   ],
   "source": [
    "gs.best_estimator_, gs.best_score_, gs.best_params_"
   ]
  },
  {
   "cell_type": "code",
   "execution_count": null,
   "id": "4ecd40c4",
   "metadata": {},
   "outputs": [],
   "source": []
  }
 ],
 "metadata": {
  "kernelspec": {
   "display_name": "Python 3",
   "language": "python",
   "name": "python3"
  },
  "language_info": {
   "codemirror_mode": {
    "name": "ipython",
    "version": 3
   },
   "file_extension": ".py",
   "mimetype": "text/x-python",
   "name": "python",
   "nbconvert_exporter": "python",
   "pygments_lexer": "ipython3",
   "version": "3.8.5"
  }
 },
 "nbformat": 4,
 "nbformat_minor": 5
}
