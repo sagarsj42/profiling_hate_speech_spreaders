{
 "cells": [
  {
   "cell_type": "code",
   "execution_count": 1,
   "id": "57695bfb",
   "metadata": {},
   "outputs": [],
   "source": [
    "import os\n",
    "import pickle\n",
    "import numpy as np\n",
    "import pyarrow.parquet as pq\n",
    "\n",
    "from sklearn.feature_extraction.text import TfidfVectorizer\n",
    "from sklearn.svm import SVC\n",
    "from sklearn.discriminant_analysis import LinearDiscriminantAnalysis\n",
    "from sklearn.discriminant_analysis import QuadraticDiscriminantAnalysis\n",
    "from sklearn.linear_model import LogisticRegression\n",
    "from sklearn.naive_bayes import GaussianNB\n",
    "from sklearn.naive_bayes import MultinomialNB\n",
    "from sklearn.neighbors import KNeighborsClassifier\n",
    "from sklearn.tree import DecisionTreeClassifier\n",
    "from sklearn.ensemble import RandomForestClassifier\n",
    "from sklearn.neural_network import MLPClassifier\n",
    "from sklearn.metrics import accuracy_score\n",
    "\n",
    "import xgboost as xgb\n",
    "\n",
    "from data_io import *\n",
    "from prepare_data import *"
   ]
  },
  {
   "cell_type": "code",
   "execution_count": 2,
   "id": "b2a5e918",
   "metadata": {},
   "outputs": [
    {
     "data": {
      "text/plain": [
       "((32000, 3), (8000, 3))"
      ]
     },
     "execution_count": 2,
     "metadata": {},
     "output_type": "execute_result"
    }
   ],
   "source": [
    "data_dir = os.path.join('..', 'data', 'pan21-author-profiling-training-2021-03-14')\n",
    "op_dir = os.path.join('..', 'res', 'preds')\n",
    "df_columns = ['author_id', 'tweet', 'label']\n",
    "\n",
    "#en_df = create_df(data_dir, lang='en', df_columns=df_columns)\n",
    "en_df = pq.read_table(os.path.join(data_dir, 'en_df.parquet')).to_pandas()\n",
    "en_train, en_dev = get_single_split(en_df, data_dir, lang='en')\n",
    "en_train.shape, en_dev.shape"
   ]
  },
  {
   "cell_type": "code",
   "execution_count": 3,
   "id": "ba7849d0",
   "metadata": {},
   "outputs": [
    {
     "data": {
      "text/html": [
       "<div>\n",
       "<style scoped>\n",
       "    .dataframe tbody tr th:only-of-type {\n",
       "        vertical-align: middle;\n",
       "    }\n",
       "\n",
       "    .dataframe tbody tr th {\n",
       "        vertical-align: top;\n",
       "    }\n",
       "\n",
       "    .dataframe thead th {\n",
       "        text-align: right;\n",
       "    }\n",
       "</style>\n",
       "<table border=\"1\" class=\"dataframe\">\n",
       "  <thead>\n",
       "    <tr style=\"text-align: right;\">\n",
       "      <th></th>\n",
       "      <th>author_id</th>\n",
       "      <th>tweet</th>\n",
       "      <th>label</th>\n",
       "    </tr>\n",
       "  </thead>\n",
       "  <tbody>\n",
       "    <tr>\n",
       "      <th>200</th>\n",
       "      <td>06893abba0bb8f94fed7562350233ed7</td>\n",
       "      <td>Romanian graftbuster’s firing violated rights,...</td>\n",
       "      <td>0</td>\n",
       "    </tr>\n",
       "    <tr>\n",
       "      <th>201</th>\n",
       "      <td>06893abba0bb8f94fed7562350233ed7</td>\n",
       "      <td>Russian ventilators sent to U.S. made by firm ...</td>\n",
       "      <td>0</td>\n",
       "    </tr>\n",
       "    <tr>\n",
       "      <th>202</th>\n",
       "      <td>06893abba0bb8f94fed7562350233ed7</td>\n",
       "      <td>Hezbollah prevented ISIS from reaching Europe:...</td>\n",
       "      <td>0</td>\n",
       "    </tr>\n",
       "    <tr>\n",
       "      <th>203</th>\n",
       "      <td>06893abba0bb8f94fed7562350233ed7</td>\n",
       "      <td>Epidemiologist Dr Knut Wittkowski: ‘Lockdown H...</td>\n",
       "      <td>0</td>\n",
       "    </tr>\n",
       "    <tr>\n",
       "      <th>204</th>\n",
       "      <td>06893abba0bb8f94fed7562350233ed7</td>\n",
       "      <td>China refuses to let WHO investigate truth beh...</td>\n",
       "      <td>0</td>\n",
       "    </tr>\n",
       "  </tbody>\n",
       "</table>\n",
       "</div>"
      ],
      "text/plain": [
       "                            author_id  \\\n",
       "200  06893abba0bb8f94fed7562350233ed7   \n",
       "201  06893abba0bb8f94fed7562350233ed7   \n",
       "202  06893abba0bb8f94fed7562350233ed7   \n",
       "203  06893abba0bb8f94fed7562350233ed7   \n",
       "204  06893abba0bb8f94fed7562350233ed7   \n",
       "\n",
       "                                                 tweet  label  \n",
       "200  Romanian graftbuster’s firing violated rights,...      0  \n",
       "201  Russian ventilators sent to U.S. made by firm ...      0  \n",
       "202  Hezbollah prevented ISIS from reaching Europe:...      0  \n",
       "203  Epidemiologist Dr Knut Wittkowski: ‘Lockdown H...      0  \n",
       "204  China refuses to let WHO investigate truth beh...      0  "
      ]
     },
     "execution_count": 3,
     "metadata": {},
     "output_type": "execute_result"
    }
   ],
   "source": [
    "en_train.head()"
   ]
  },
  {
   "cell_type": "code",
   "execution_count": 4,
   "id": "cb362488",
   "metadata": {},
   "outputs": [
    {
     "data": {
      "text/plain": [
       "(32000, 32000)"
      ]
     },
     "execution_count": 4,
     "metadata": {},
     "output_type": "execute_result"
    }
   ],
   "source": [
    "tweets = en_train['tweet'].to_list()\n",
    "mod_tweets = filter_tweets(tweets)\n",
    "len(tweets), len(mod_tweets)"
   ]
  },
  {
   "cell_type": "code",
   "execution_count": 5,
   "id": "8bd20796",
   "metadata": {},
   "outputs": [
    {
     "data": {
      "text/plain": [
       "(32000, 21272)"
      ]
     },
     "execution_count": 5,
     "metadata": {},
     "output_type": "execute_result"
    }
   ],
   "source": [
    "tweet_feautures, en_vec = prepare_tweets_using_tfidf(mod_tweets, lang='en', is_train=True, vec=None)\n",
    "tweet_feautures.shape"
   ]
  },
  {
   "cell_type": "code",
   "execution_count": 6,
   "id": "844084c6",
   "metadata": {},
   "outputs": [
    {
     "data": {
      "text/plain": [
       "(160, 160)"
      ]
     },
     "execution_count": 6,
     "metadata": {},
     "output_type": "execute_result"
    }
   ],
   "source": [
    "auth_tweets = group_tweets_by_author(mod_tweets)\n",
    "\n",
    "labels = en_train['label'].to_numpy()\n",
    "prep_labels = prepare_labels(labels)\n",
    "\n",
    "len(auth_tweets), len(prep_labels)"
   ]
  },
  {
   "cell_type": "code",
   "execution_count": 7,
   "id": "82c41cf5",
   "metadata": {},
   "outputs": [
    {
     "data": {
      "text/plain": [
       "(32000, 21272)"
      ]
     },
     "execution_count": 7,
     "metadata": {},
     "output_type": "execute_result"
    }
   ],
   "source": [
    "auth_tfidf_train, en_vec = prepare_tweets_using_tfidf(mod_tweets, lang='en', is_train=True, vec=None)\n",
    "auth_tfidf_train.shape"
   ]
  },
  {
   "cell_type": "code",
   "execution_count": 8,
   "id": "ed0b5910",
   "metadata": {},
   "outputs": [
    {
     "data": {
      "text/plain": [
       "((160, 21272),\n",
       " (160,),\n",
       " TfidfVectorizer(analyzer='word', binary=False, decode_error='strict',\n",
       "                 dtype=<class 'numpy.float64'>, encoding='utf-8',\n",
       "                 input='content', lowercase=True, max_df=1.0, max_features=None,\n",
       "                 min_df=1, ngram_range=(1, 1), norm='l2', preprocessor=None,\n",
       "                 smooth_idf=True, stop_words='english', strip_accents=None,\n",
       "                 sublinear_tf=False, token_pattern='(?u)\\\\b\\\\w\\\\w+\\\\b',\n",
       "                 tokenizer=None, use_idf=True, vocabulary=None))"
      ]
     },
     "execution_count": 8,
     "metadata": {},
     "output_type": "execute_result"
    }
   ],
   "source": [
    "x_train, y_train, en_vec = prepare_xy(en_train, tweet_feature_method=prepare_tweets_using_tfidf, lang='en',\n",
    "                                      return_y=True, usr_len=200, is_train=True, vec=None)\n",
    "\n",
    "x_train.shape, y_train.shape, en_vec"
   ]
  },
  {
   "cell_type": "code",
   "execution_count": 9,
   "id": "13306b42",
   "metadata": {},
   "outputs": [
    {
     "data": {
      "text/plain": [
       "((40, 21272), (40,))"
      ]
     },
     "execution_count": 9,
     "metadata": {},
     "output_type": "execute_result"
    }
   ],
   "source": [
    "x_dev, y_dev, _ = prepare_xy(en_dev, tweet_feature_method=prepare_tweets_using_tfidf, lang='en',\n",
    "                             return_y=True, usr_len=200, is_train=False, vec=en_vec)\n",
    "x_dev.shape, y_dev.shape"
   ]
  },
  {
   "cell_type": "code",
   "execution_count": 10,
   "id": "ec596273",
   "metadata": {},
   "outputs": [
    {
     "data": {
      "text/plain": [
       "0.99375"
      ]
     },
     "execution_count": 10,
     "metadata": {},
     "output_type": "execute_result"
    }
   ],
   "source": [
    "clf = SVC()\n",
    "clf.fit(x_train, y_train)\n",
    "clf.score(x_train, y_train)"
   ]
  },
  {
   "cell_type": "code",
   "execution_count": 11,
   "id": "0746be0b",
   "metadata": {},
   "outputs": [
    {
     "data": {
      "text/plain": [
       "0.775"
      ]
     },
     "execution_count": 11,
     "metadata": {},
     "output_type": "execute_result"
    }
   ],
   "source": [
    "clf.score(x_dev, y_dev)"
   ]
  },
  {
   "cell_type": "code",
   "execution_count": 12,
   "id": "568e8bfd",
   "metadata": {},
   "outputs": [
    {
     "data": {
      "text/plain": [
       "0.8875"
      ]
     },
     "execution_count": 12,
     "metadata": {},
     "output_type": "execute_result"
    }
   ],
   "source": [
    "clf = LinearDiscriminantAnalysis()\n",
    "\n",
    "# Dense matrix is required, so convert sparse to dense\n",
    "x_train_dense = x_train.toarray()\n",
    "x_dev_dense = x_dev.toarray()\n",
    "\n",
    "clf.fit(x_train_dense, y_train)\n",
    "clf.score(x_train_dense, y_train)"
   ]
  },
  {
   "cell_type": "code",
   "execution_count": 13,
   "id": "6130d81f",
   "metadata": {},
   "outputs": [
    {
     "data": {
      "text/plain": [
       "0.6"
      ]
     },
     "execution_count": 13,
     "metadata": {},
     "output_type": "execute_result"
    }
   ],
   "source": [
    "clf.score(x_dev_dense, y_dev)"
   ]
  },
  {
   "cell_type": "code",
   "execution_count": 14,
   "id": "b5ca9b7f",
   "metadata": {},
   "outputs": [
    {
     "name": "stderr",
     "output_type": "stream",
     "text": [
      "/home/sagar/.local/lib/python3.8/site-packages/sklearn/discriminant_analysis.py:691: UserWarning: Variables are collinear\n",
      "  warnings.warn(\"Variables are collinear\")\n"
     ]
    },
    {
     "data": {
      "text/plain": [
       "1.0"
      ]
     },
     "execution_count": 14,
     "metadata": {},
     "output_type": "execute_result"
    }
   ],
   "source": [
    "clf = QuadraticDiscriminantAnalysis()\n",
    "\n",
    "# Dense matrix is required, so convert sparse to dense\n",
    "x_train_dense = x_train.toarray()\n",
    "x_dev_dense = x_dev.toarray()\n",
    "\n",
    "clf.fit(x_train_dense, y_train)\n",
    "clf.score(x_train_dense, y_train)"
   ]
  },
  {
   "cell_type": "code",
   "execution_count": 15,
   "id": "afbb3935",
   "metadata": {},
   "outputs": [
    {
     "data": {
      "text/plain": [
       "0.6"
      ]
     },
     "execution_count": 15,
     "metadata": {},
     "output_type": "execute_result"
    }
   ],
   "source": [
    "clf.score(x_dev_dense, y_dev)"
   ]
  },
  {
   "cell_type": "code",
   "execution_count": 16,
   "id": "ca63680e",
   "metadata": {},
   "outputs": [
    {
     "data": {
      "text/plain": [
       "0.99375"
      ]
     },
     "execution_count": 16,
     "metadata": {},
     "output_type": "execute_result"
    }
   ],
   "source": [
    "clf = LogisticRegression(penalty='l2', solver='lbfgs')\n",
    "clf.fit(x_train, y_train)\n",
    "clf.score(x_train, y_train)"
   ]
  },
  {
   "cell_type": "code",
   "execution_count": 17,
   "id": "5a06f7cf",
   "metadata": {},
   "outputs": [
    {
     "data": {
      "text/plain": [
       "0.775"
      ]
     },
     "execution_count": 17,
     "metadata": {},
     "output_type": "execute_result"
    }
   ],
   "source": [
    "clf.score(x_dev, y_dev)"
   ]
  },
  {
   "cell_type": "code",
   "execution_count": 18,
   "id": "7da05cf6",
   "metadata": {},
   "outputs": [
    {
     "data": {
      "text/plain": [
       "0.5"
      ]
     },
     "execution_count": 18,
     "metadata": {},
     "output_type": "execute_result"
    }
   ],
   "source": [
    "clf = LogisticRegression(penalty='l1', solver='liblinear')\n",
    "clf.fit(x_train, y_train)\n",
    "clf.score(x_train, y_train)"
   ]
  },
  {
   "cell_type": "code",
   "execution_count": 19,
   "id": "39060ccc",
   "metadata": {},
   "outputs": [
    {
     "data": {
      "text/plain": [
       "0.5"
      ]
     },
     "execution_count": 19,
     "metadata": {},
     "output_type": "execute_result"
    }
   ],
   "source": [
    "clf.score(x_dev, y_dev)"
   ]
  },
  {
   "cell_type": "code",
   "execution_count": 20,
   "id": "f700da61",
   "metadata": {},
   "outputs": [
    {
     "data": {
      "text/plain": [
       "1.0"
      ]
     },
     "execution_count": 20,
     "metadata": {},
     "output_type": "execute_result"
    }
   ],
   "source": [
    "clf = GaussianNB()\n",
    "clf.fit(x_train_dense, y_train)\n",
    "clf.score(x_train_dense, y_train)"
   ]
  },
  {
   "cell_type": "code",
   "execution_count": 21,
   "id": "ff934667",
   "metadata": {},
   "outputs": [
    {
     "data": {
      "text/plain": [
       "0.725"
      ]
     },
     "execution_count": 21,
     "metadata": {},
     "output_type": "execute_result"
    }
   ],
   "source": [
    "clf.score(x_dev_dense, y_dev)"
   ]
  },
  {
   "cell_type": "code",
   "execution_count": 22,
   "id": "51f6add2",
   "metadata": {},
   "outputs": [
    {
     "data": {
      "text/plain": [
       "0.9625"
      ]
     },
     "execution_count": 22,
     "metadata": {},
     "output_type": "execute_result"
    }
   ],
   "source": [
    "clf = MultinomialNB()\n",
    "clf.fit(x_train, y_train)\n",
    "clf.score(x_train, y_train)"
   ]
  },
  {
   "cell_type": "code",
   "execution_count": 23,
   "id": "e8966909",
   "metadata": {},
   "outputs": [
    {
     "data": {
      "text/plain": [
       "0.7"
      ]
     },
     "execution_count": 23,
     "metadata": {},
     "output_type": "execute_result"
    }
   ],
   "source": [
    "clf.score(x_dev, y_dev)"
   ]
  },
  {
   "cell_type": "code",
   "execution_count": 24,
   "id": "388a6c02",
   "metadata": {},
   "outputs": [
    {
     "data": {
      "text/plain": [
       "1.0"
      ]
     },
     "execution_count": 24,
     "metadata": {},
     "output_type": "execute_result"
    }
   ],
   "source": [
    "clf = KNeighborsClassifier(n_neighbors=5, weights='distance')\n",
    "clf.fit(x_train, y_train)\n",
    "clf.score(x_train, y_train)"
   ]
  },
  {
   "cell_type": "code",
   "execution_count": 25,
   "id": "b9796591",
   "metadata": {},
   "outputs": [
    {
     "data": {
      "text/plain": [
       "0.625"
      ]
     },
     "execution_count": 25,
     "metadata": {},
     "output_type": "execute_result"
    }
   ],
   "source": [
    "clf.score(x_dev, y_dev)"
   ]
  },
  {
   "cell_type": "code",
   "execution_count": 26,
   "id": "43e9ecd7",
   "metadata": {},
   "outputs": [
    {
     "data": {
      "text/plain": [
       "1.0"
      ]
     },
     "execution_count": 26,
     "metadata": {},
     "output_type": "execute_result"
    }
   ],
   "source": [
    "clf = DecisionTreeClassifier()\n",
    "clf.fit(x_train, y_train)\n",
    "clf.score(x_train, y_train)"
   ]
  },
  {
   "cell_type": "code",
   "execution_count": 27,
   "id": "b61193e0",
   "metadata": {},
   "outputs": [
    {
     "data": {
      "text/plain": [
       "0.675"
      ]
     },
     "execution_count": 27,
     "metadata": {},
     "output_type": "execute_result"
    }
   ],
   "source": [
    "clf.score(x_dev, y_dev)"
   ]
  },
  {
   "cell_type": "code",
   "execution_count": 28,
   "id": "c81d7292",
   "metadata": {},
   "outputs": [
    {
     "data": {
      "text/plain": [
       "1.0"
      ]
     },
     "execution_count": 28,
     "metadata": {},
     "output_type": "execute_result"
    }
   ],
   "source": [
    "clf = RandomForestClassifier(n_estimators=100)\n",
    "clf.fit(x_train, y_train)\n",
    "clf.score(x_train, y_train)"
   ]
  },
  {
   "cell_type": "code",
   "execution_count": 29,
   "id": "db8ff979",
   "metadata": {},
   "outputs": [
    {
     "data": {
      "text/plain": [
       "0.6"
      ]
     },
     "execution_count": 29,
     "metadata": {},
     "output_type": "execute_result"
    }
   ],
   "source": [
    "clf.score(x_dev, y_dev)"
   ]
  },
  {
   "cell_type": "code",
   "execution_count": 30,
   "id": "243a1e9c",
   "metadata": {},
   "outputs": [
    {
     "data": {
      "text/plain": [
       "MLPClassifier(activation='relu', alpha=0.0001, batch_size='auto', beta_1=0.9,\n",
       "              beta_2=0.999, early_stopping=False, epsilon=1e-08,\n",
       "              hidden_layer_sizes=200, learning_rate='constant',\n",
       "              learning_rate_init=0.001, max_fun=15000, max_iter=300,\n",
       "              momentum=0.9, n_iter_no_change=10, nesterovs_momentum=True,\n",
       "              power_t=0.5, random_state=None, shuffle=True, solver='adam',\n",
       "              tol=0.0001, validation_fraction=0.1, verbose=False,\n",
       "              warm_start=False)"
      ]
     },
     "execution_count": 30,
     "metadata": {},
     "output_type": "execute_result"
    }
   ],
   "source": [
    "hidden_layer_size = 200\n",
    "clf = MLPClassifier(hidden_layer_sizes=hidden_layer_size, activation='relu', solver='adam', \n",
    "                    alpha=0.0001, learning_rate_init=0.001, max_iter=300)\n",
    "clf.fit(x_train, y_train)"
   ]
  },
  {
   "cell_type": "code",
   "execution_count": 31,
   "id": "cee63a90",
   "metadata": {},
   "outputs": [
    {
     "data": {
      "text/plain": [
       "1.0"
      ]
     },
     "execution_count": 31,
     "metadata": {},
     "output_type": "execute_result"
    }
   ],
   "source": [
    "clf.score(x_train, y_train)"
   ]
  },
  {
   "cell_type": "code",
   "execution_count": 32,
   "id": "d57f842f",
   "metadata": {},
   "outputs": [
    {
     "data": {
      "text/plain": [
       "0.775"
      ]
     },
     "execution_count": 32,
     "metadata": {},
     "output_type": "execute_result"
    }
   ],
   "source": [
    "clf.score(x_dev, y_dev)"
   ]
  },
  {
   "cell_type": "code",
   "execution_count": 33,
   "id": "161bbe99",
   "metadata": {},
   "outputs": [
    {
     "name": "stdout",
     "output_type": "stream",
     "text": [
      "[0]\teval-mape:inf\ttrain-mape:inf\n",
      "[1]\teval-mape:inf\ttrain-mape:inf\n",
      "[2]\teval-mape:inf\ttrain-mape:inf\n",
      "[3]\teval-mape:inf\ttrain-mape:inf\n",
      "[4]\teval-mape:inf\ttrain-mape:inf\n",
      "[5]\teval-mape:inf\ttrain-mape:inf\n",
      "[6]\teval-mape:inf\ttrain-mape:inf\n",
      "[7]\teval-mape:inf\ttrain-mape:inf\n",
      "[8]\teval-mape:inf\ttrain-mape:inf\n",
      "[9]\teval-mape:inf\ttrain-mape:inf\n"
     ]
    },
    {
     "data": {
      "text/plain": [
       "1.0"
      ]
     },
     "execution_count": 33,
     "metadata": {},
     "output_type": "execute_result"
    }
   ],
   "source": [
    "dtrain = xgb.DMatrix(x_train, label=y_train)\n",
    "ddev = xgb.DMatrix(x_dev, label=y_dev)\n",
    "param = {'objective': 'binary:logistic', 'nthread': 4, 'eval_metric': 'mape', 'base_score': 0.5}\n",
    "num_round = 10\n",
    "evallist = [(ddev, 'eval'), (dtrain, 'train')]\n",
    "bst = xgb.train(param, dtrain, num_round, evallist)\n",
    "y_pred = np.around(bst.predict(dtrain))\n",
    "accuracy_score(y_true=y_train, y_pred=y_pred)"
   ]
  },
  {
   "cell_type": "code",
   "execution_count": 34,
   "id": "2d5cb284",
   "metadata": {},
   "outputs": [
    {
     "data": {
      "text/plain": [
       "0.55"
      ]
     },
     "execution_count": 34,
     "metadata": {},
     "output_type": "execute_result"
    }
   ],
   "source": [
    "y_pred = np.around(bst.predict(ddev))\n",
    "accuracy_score(y_true=y_dev, y_pred=y_pred)"
   ]
  },
  {
   "cell_type": "code",
   "execution_count": 35,
   "id": "e833b928",
   "metadata": {},
   "outputs": [],
   "source": [
    "with open(os.path.join(op_dir, 'dev-preds.npy'), 'wb') as f:\n",
    "    np.save(f, clf.predict(x_dev))"
   ]
  },
  {
   "cell_type": "code",
   "execution_count": 36,
   "id": "e432671e",
   "metadata": {},
   "outputs": [],
   "source": [
    "authors = en_dev['author_id'].to_list()\n",
    "authlist = prepare_authlist(authors, usr_len=200)\n",
    "\n",
    "with open(os.path.join(op_dir, '..', 'dev_auth_list.pkl'), 'wb') as f:\n",
    "    pickle.dump(authlist, f)"
   ]
  },
  {
   "cell_type": "code",
   "execution_count": 37,
   "id": "61708c5d",
   "metadata": {},
   "outputs": [
    {
     "data": {
      "text/plain": [
       "((40, 34833), (40,))"
      ]
     },
     "execution_count": 37,
     "metadata": {},
     "output_type": "execute_result"
    }
   ],
   "source": [
    "es_df = pq.read_table(os.path.join(data_dir, 'es_df.parquet')).to_pandas()\n",
    "es_train, es_dev = get_single_split(es_df, data_dir, 'es')\n",
    "\n",
    "x_train, y_train, es_vec = prepare_xy(es_train, tweet_feature_method=prepare_tweets_using_tfidf, lang='es',\n",
    "                                      return_y=True, usr_len=200, is_train=True, vec=None)\n",
    "\n",
    "x_dev, y_dev, _ = prepare_xy(es_dev, tweet_feature_method=prepare_tweets_using_tfidf, lang='en',\n",
    "                                      return_y=True, usr_len=200, is_train=False, vec=es_vec)\n",
    "\n",
    "x_dev.shape, y_dev.shape"
   ]
  },
  {
   "cell_type": "code",
   "execution_count": 38,
   "id": "ec596273",
   "metadata": {},
   "outputs": [
    {
     "data": {
      "text/plain": [
       "0.95"
      ]
     },
     "execution_count": 38,
     "metadata": {},
     "output_type": "execute_result"
    }
   ],
   "source": [
    "clf = SVC()\n",
    "clf.fit(x_train, y_train)\n",
    "clf.score(x_train, y_train)"
   ]
  },
  {
   "cell_type": "code",
   "execution_count": 39,
   "id": "0746be0b",
   "metadata": {},
   "outputs": [
    {
     "data": {
      "text/plain": [
       "0.75"
      ]
     },
     "execution_count": 39,
     "metadata": {},
     "output_type": "execute_result"
    }
   ],
   "source": [
    "clf.score(x_dev, y_dev)"
   ]
  },
  {
   "cell_type": "code",
   "execution_count": 40,
   "id": "568e8bfd",
   "metadata": {},
   "outputs": [
    {
     "data": {
      "text/plain": [
       "0.725"
      ]
     },
     "execution_count": 40,
     "metadata": {},
     "output_type": "execute_result"
    }
   ],
   "source": [
    "clf = LinearDiscriminantAnalysis()\n",
    "\n",
    "# Dense matrix is required, so convert sparse to dense\n",
    "x_train_dense = x_train.toarray()\n",
    "x_dev_dense = x_dev.toarray()\n",
    "\n",
    "clf.fit(x_train_dense, y_train)\n",
    "clf.score(x_train_dense, y_train)"
   ]
  },
  {
   "cell_type": "code",
   "execution_count": 41,
   "id": "6130d81f",
   "metadata": {},
   "outputs": [
    {
     "data": {
      "text/plain": [
       "0.75"
      ]
     },
     "execution_count": 41,
     "metadata": {},
     "output_type": "execute_result"
    }
   ],
   "source": [
    "clf.score(x_dev_dense, y_dev)"
   ]
  },
  {
   "cell_type": "code",
   "execution_count": 42,
   "id": "b5ca9b7f",
   "metadata": {},
   "outputs": [
    {
     "name": "stderr",
     "output_type": "stream",
     "text": [
      "/home/sagar/.local/lib/python3.8/site-packages/sklearn/discriminant_analysis.py:691: UserWarning: Variables are collinear\n",
      "  warnings.warn(\"Variables are collinear\")\n"
     ]
    },
    {
     "data": {
      "text/plain": [
       "1.0"
      ]
     },
     "execution_count": 42,
     "metadata": {},
     "output_type": "execute_result"
    }
   ],
   "source": [
    "clf = QuadraticDiscriminantAnalysis()\n",
    "\n",
    "# Dense matrix is required, so convert sparse to dense\n",
    "x_train_dense = x_train.toarray()\n",
    "x_dev_dense = x_dev.toarray()\n",
    "\n",
    "clf.fit(x_train_dense, y_train)\n",
    "clf.score(x_train_dense, y_train)"
   ]
  },
  {
   "cell_type": "code",
   "execution_count": 43,
   "id": "afbb3935",
   "metadata": {},
   "outputs": [
    {
     "data": {
      "text/plain": [
       "0.575"
      ]
     },
     "execution_count": 43,
     "metadata": {},
     "output_type": "execute_result"
    }
   ],
   "source": [
    "clf.score(x_dev_dense, y_dev)"
   ]
  },
  {
   "cell_type": "code",
   "execution_count": 44,
   "id": "ca63680e",
   "metadata": {},
   "outputs": [
    {
     "data": {
      "text/plain": [
       "0.9125"
      ]
     },
     "execution_count": 44,
     "metadata": {},
     "output_type": "execute_result"
    }
   ],
   "source": [
    "clf = LogisticRegression(penalty='l2', solver='lbfgs')\n",
    "clf.fit(x_train, y_train)\n",
    "clf.score(x_train, y_train)"
   ]
  },
  {
   "cell_type": "code",
   "execution_count": 45,
   "id": "5a06f7cf",
   "metadata": {},
   "outputs": [
    {
     "data": {
      "text/plain": [
       "0.775"
      ]
     },
     "execution_count": 45,
     "metadata": {},
     "output_type": "execute_result"
    }
   ],
   "source": [
    "clf.score(x_dev, y_dev)"
   ]
  },
  {
   "cell_type": "code",
   "execution_count": 46,
   "id": "7da05cf6",
   "metadata": {},
   "outputs": [
    {
     "data": {
      "text/plain": [
       "0.725"
      ]
     },
     "execution_count": 46,
     "metadata": {},
     "output_type": "execute_result"
    }
   ],
   "source": [
    "clf = LogisticRegression(penalty='l1', solver='liblinear')\n",
    "clf.fit(x_train, y_train)\n",
    "clf.score(x_train, y_train)"
   ]
  },
  {
   "cell_type": "code",
   "execution_count": 47,
   "id": "39060ccc",
   "metadata": {},
   "outputs": [
    {
     "data": {
      "text/plain": [
       "0.8"
      ]
     },
     "execution_count": 47,
     "metadata": {},
     "output_type": "execute_result"
    }
   ],
   "source": [
    "clf.score(x_dev, y_dev)"
   ]
  },
  {
   "cell_type": "code",
   "execution_count": 48,
   "id": "f700da61",
   "metadata": {},
   "outputs": [
    {
     "data": {
      "text/plain": [
       "1.0"
      ]
     },
     "execution_count": 48,
     "metadata": {},
     "output_type": "execute_result"
    }
   ],
   "source": [
    "clf = GaussianNB()\n",
    "clf.fit(x_train_dense, y_train)\n",
    "clf.score(x_train_dense, y_train)"
   ]
  },
  {
   "cell_type": "code",
   "execution_count": 49,
   "id": "ff934667",
   "metadata": {},
   "outputs": [
    {
     "data": {
      "text/plain": [
       "0.8"
      ]
     },
     "execution_count": 49,
     "metadata": {},
     "output_type": "execute_result"
    }
   ],
   "source": [
    "clf.score(x_dev_dense, y_dev)"
   ]
  },
  {
   "cell_type": "code",
   "execution_count": 50,
   "id": "51f6add2",
   "metadata": {},
   "outputs": [
    {
     "data": {
      "text/plain": [
       "0.9"
      ]
     },
     "execution_count": 50,
     "metadata": {},
     "output_type": "execute_result"
    }
   ],
   "source": [
    "clf = MultinomialNB()\n",
    "clf.fit(x_train, y_train)\n",
    "clf.score(x_train, y_train)"
   ]
  },
  {
   "cell_type": "code",
   "execution_count": 51,
   "id": "e8966909",
   "metadata": {},
   "outputs": [
    {
     "data": {
      "text/plain": [
       "0.725"
      ]
     },
     "execution_count": 51,
     "metadata": {},
     "output_type": "execute_result"
    }
   ],
   "source": [
    "clf.score(x_dev, y_dev)"
   ]
  },
  {
   "cell_type": "code",
   "execution_count": 52,
   "id": "388a6c02",
   "metadata": {},
   "outputs": [
    {
     "data": {
      "text/plain": [
       "1.0"
      ]
     },
     "execution_count": 52,
     "metadata": {},
     "output_type": "execute_result"
    }
   ],
   "source": [
    "clf = KNeighborsClassifier(n_neighbors=5, weights='distance')\n",
    "clf.fit(x_train, y_train)\n",
    "clf.score(x_train, y_train)"
   ]
  },
  {
   "cell_type": "code",
   "execution_count": 53,
   "id": "b9796591",
   "metadata": {},
   "outputs": [
    {
     "data": {
      "text/plain": [
       "0.725"
      ]
     },
     "execution_count": 53,
     "metadata": {},
     "output_type": "execute_result"
    }
   ],
   "source": [
    "clf.score(x_dev, y_dev)"
   ]
  },
  {
   "cell_type": "code",
   "execution_count": 54,
   "id": "43e9ecd7",
   "metadata": {},
   "outputs": [
    {
     "data": {
      "text/plain": [
       "1.0"
      ]
     },
     "execution_count": 54,
     "metadata": {},
     "output_type": "execute_result"
    }
   ],
   "source": [
    "clf = DecisionTreeClassifier()\n",
    "clf.fit(x_train, y_train)\n",
    "clf.score(x_train, y_train)"
   ]
  },
  {
   "cell_type": "code",
   "execution_count": 55,
   "id": "b61193e0",
   "metadata": {},
   "outputs": [
    {
     "data": {
      "text/plain": [
       "0.425"
      ]
     },
     "execution_count": 55,
     "metadata": {},
     "output_type": "execute_result"
    }
   ],
   "source": [
    "clf.score(x_dev, y_dev)"
   ]
  },
  {
   "cell_type": "code",
   "execution_count": 56,
   "id": "c81d7292",
   "metadata": {},
   "outputs": [
    {
     "data": {
      "text/plain": [
       "1.0"
      ]
     },
     "execution_count": 56,
     "metadata": {},
     "output_type": "execute_result"
    }
   ],
   "source": [
    "clf = RandomForestClassifier(n_estimators=100)\n",
    "clf.fit(x_train, y_train)\n",
    "clf.score(x_train, y_train)"
   ]
  },
  {
   "cell_type": "code",
   "execution_count": 57,
   "id": "db8ff979",
   "metadata": {},
   "outputs": [
    {
     "data": {
      "text/plain": [
       "0.75"
      ]
     },
     "execution_count": 57,
     "metadata": {},
     "output_type": "execute_result"
    }
   ],
   "source": [
    "clf.score(x_dev, y_dev)"
   ]
  },
  {
   "cell_type": "code",
   "execution_count": 58,
   "id": "243a1e9c",
   "metadata": {},
   "outputs": [
    {
     "data": {
      "text/plain": [
       "MLPClassifier(activation='relu', alpha=0.0001, batch_size='auto', beta_1=0.9,\n",
       "              beta_2=0.999, early_stopping=False, epsilon=1e-08,\n",
       "              hidden_layer_sizes=200, learning_rate='constant',\n",
       "              learning_rate_init=0.001, max_fun=15000, max_iter=300,\n",
       "              momentum=0.9, n_iter_no_change=10, nesterovs_momentum=True,\n",
       "              power_t=0.5, random_state=None, shuffle=True, solver='adam',\n",
       "              tol=0.0001, validation_fraction=0.1, verbose=False,\n",
       "              warm_start=False)"
      ]
     },
     "execution_count": 58,
     "metadata": {},
     "output_type": "execute_result"
    }
   ],
   "source": [
    "hidden_layer_size = 200\n",
    "clf = MLPClassifier(hidden_layer_sizes=hidden_layer_size, activation='relu', solver='adam', \n",
    "                    alpha=0.0001, learning_rate_init=0.001, max_iter=300)\n",
    "clf.fit(x_train, y_train)"
   ]
  },
  {
   "cell_type": "code",
   "execution_count": 59,
   "id": "cee63a90",
   "metadata": {},
   "outputs": [
    {
     "data": {
      "text/plain": [
       "1.0"
      ]
     },
     "execution_count": 59,
     "metadata": {},
     "output_type": "execute_result"
    }
   ],
   "source": [
    "clf.score(x_train, y_train)"
   ]
  },
  {
   "cell_type": "code",
   "execution_count": 60,
   "id": "d57f842f",
   "metadata": {},
   "outputs": [
    {
     "data": {
      "text/plain": [
       "0.825"
      ]
     },
     "execution_count": 60,
     "metadata": {},
     "output_type": "execute_result"
    }
   ],
   "source": [
    "clf.score(x_dev, y_dev)"
   ]
  },
  {
   "cell_type": "code",
   "execution_count": 61,
   "id": "161bbe99",
   "metadata": {},
   "outputs": [
    {
     "name": "stdout",
     "output_type": "stream",
     "text": [
      "[0]\teval-mape:inf\ttrain-mape:inf\n",
      "[1]\teval-mape:inf\ttrain-mape:inf\n",
      "[2]\teval-mape:inf\ttrain-mape:inf\n",
      "[3]\teval-mape:inf\ttrain-mape:inf\n",
      "[4]\teval-mape:inf\ttrain-mape:inf\n",
      "[5]\teval-mape:inf\ttrain-mape:inf\n",
      "[6]\teval-mape:inf\ttrain-mape:inf\n",
      "[7]\teval-mape:inf\ttrain-mape:inf\n",
      "[8]\teval-mape:inf\ttrain-mape:inf\n",
      "[9]\teval-mape:inf\ttrain-mape:inf\n"
     ]
    },
    {
     "data": {
      "text/plain": [
       "1.0"
      ]
     },
     "execution_count": 61,
     "metadata": {},
     "output_type": "execute_result"
    }
   ],
   "source": [
    "dtrain = xgb.DMatrix(x_train, label=y_train)\n",
    "ddev = xgb.DMatrix(x_dev, label=y_dev)\n",
    "param = {'objective': 'binary:logistic', 'nthread': 4, 'eval_metric': 'mape', 'base_score': 0.5}\n",
    "num_round = 10\n",
    "evallist = [(ddev, 'eval'), (dtrain, 'train')]\n",
    "bst = xgb.train(param, dtrain, num_round, evallist)\n",
    "y_pred = np.around(bst.predict(dtrain))\n",
    "accuracy_score(y_true=y_train, y_pred=y_pred)"
   ]
  },
  {
   "cell_type": "code",
   "execution_count": 62,
   "id": "2d5cb284",
   "metadata": {},
   "outputs": [
    {
     "data": {
      "text/plain": [
       "0.675"
      ]
     },
     "execution_count": 62,
     "metadata": {},
     "output_type": "execute_result"
    }
   ],
   "source": [
    "y_pred = np.around(bst.predict(ddev))\n",
    "accuracy_score(y_true=y_dev, y_pred=y_pred)"
   ]
  },
  {
   "cell_type": "code",
   "execution_count": null,
   "id": "4d9d9706",
   "metadata": {},
   "outputs": [],
   "source": []
  }
 ],
 "metadata": {
  "kernelspec": {
   "display_name": "Python 3",
   "language": "python",
   "name": "python3"
  },
  "language_info": {
   "codemirror_mode": {
    "name": "ipython",
    "version": 3
   },
   "file_extension": ".py",
   "mimetype": "text/x-python",
   "name": "python",
   "nbconvert_exporter": "python",
   "pygments_lexer": "ipython3",
   "version": "3.8.5"
  }
 },
 "nbformat": 4,
 "nbformat_minor": 5
}
