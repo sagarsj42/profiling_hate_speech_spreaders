{
 "cells": [
  {
   "cell_type": "code",
   "execution_count": 1,
   "id": "f7f9f917",
   "metadata": {},
   "outputs": [],
   "source": [
    "import os\n",
    "import pyarrow.parquet as pq\n",
    "\n",
    "from sklearn.decomposition import PCA\n",
    "from sklearn.decomposition import TruncatedSVD\n",
    "from sklearn.decomposition import LatentDirichletAllocation\n",
    "from sklearn.svm import SVC\n",
    "from sklearn.linear_model import LogisticRegression\n",
    "from sklearn.discriminant_analysis import LinearDiscriminantAnalysis\n",
    "from sklearn.naive_bayes import GaussianNB\n",
    "from sklearn.neighbors import KNeighborsClassifier\n",
    "from sklearn.tree import DecisionTreeClassifier\n",
    "from sklearn.ensemble import RandomForestClassifier\n",
    "from sklearn.neural_network import MLPClassifier\n",
    "from sklearn.metrics import accuracy_score\n",
    "\n",
    "import xgboost as xgb\n",
    "\n",
    "from data_io import *\n",
    "from prepare_data import *"
   ]
  },
  {
   "cell_type": "code",
   "execution_count": 2,
   "id": "44f173fa",
   "metadata": {},
   "outputs": [],
   "source": [
    "def fit_and_print_scores(clf, name, x_train, y_train, x_dev, y_dev):\n",
    "    clf.fit(x_train, y_train)\n",
    "    train_score = clf.score(x_train, y_train)\n",
    "    dev_score = clf.score(x_dev, y_dev)\n",
    "    \n",
    "    print(name, ': -> train = ', train_score, '|  dev = ', dev_score)\n",
    "    \n",
    "    return clf\n",
    "\n",
    "\n",
    "def run_classifiers(x_train, y_train, x_dev, y_dev):\n",
    "    clf = SVC()\n",
    "    fit_and_print_scores(clf, 'SVC', x_train, y_train, x_dev, y_dev)\n",
    "\n",
    "    clf = LogisticRegression()\n",
    "    fit_and_print_scores(clf, 'Logistic Regression', x_train, y_train, x_dev, y_dev)\n",
    "\n",
    "    clf = LinearDiscriminantAnalysis()\n",
    "    fit_and_print_scores(clf, 'LinearDiscriminantAnalysis', x_train, y_train, x_dev, y_dev)\n",
    "\n",
    "    clf = GaussianNB()\n",
    "    fit_and_print_scores(clf, 'GaussianNB', x_train, y_train, x_dev, y_dev)\n",
    "\n",
    "    clf = KNeighborsClassifier(n_neighbors=5, weights='distance')\n",
    "    fit_and_print_scores(clf, 'KNeighborsClassifier', x_train, y_train, x_dev, y_dev)\n",
    "\n",
    "    clf = DecisionTreeClassifier()\n",
    "    fit_and_print_scores(clf, 'DecisionTreeClassifier', x_train, y_train, x_dev, y_dev)\n",
    "\n",
    "    clf = RandomForestClassifier(n_estimators=100)\n",
    "    fit_and_print_scores(clf, 'RandomForestClassifier', x_train, y_train, x_dev, y_dev)\n",
    "\n",
    "    hidden_layer_size = 20\n",
    "    clf = MLPClassifier(hidden_layer_sizes=hidden_layer_size, activation='relu', solver='adam', \n",
    "                        alpha=0.0001, learning_rate_init=0.001, max_iter=1000)\n",
    "    clf.fit(x_train, y_train)\n",
    "    fit_and_print_scores(clf, 'MLPClassifier', x_train, y_train, x_dev, y_dev)\n",
    "\n",
    "    dtrain = xgb.DMatrix(x_train, label=y_train)\n",
    "    ddev = xgb.DMatrix(x_dev, label=y_dev)\n",
    "    param = {'objective': 'binary:logistic', 'nthread': 4, 'eval_metric': 'mape', 'base_score': 0.5}\n",
    "    num_round = 10\n",
    "    evallist = [(ddev, 'eval'), (dtrain, 'train')]\n",
    "    bst = xgb.train(param, dtrain, num_round, evallist)\n",
    "    y_pred = np.around(bst.predict(dtrain))\n",
    "    train_score = accuracy_score(y_true=y_train, y_pred=y_pred)\n",
    "    y_pred = np.around(bst.predict(ddev))\n",
    "    dev_score = accuracy_score(y_true=y_dev, y_pred=y_pred)\n",
    "    print('XGBoost', ': -> train = ', train_score, '|  dev = ', dev_score)\n",
    "    \n",
    "    return"
   ]
  },
  {
   "cell_type": "code",
   "execution_count": 3,
   "id": "29c79a0e",
   "metadata": {},
   "outputs": [],
   "source": [
    "data_dir = os.path.join('..', 'data', 'pan21-author-profiling-training-2021-03-14')\n",
    "op_dir = os.path.join('..', 'res', 'preds')\n",
    "df_columns = ['author_id', 'tweet', 'label']"
   ]
  },
  {
   "cell_type": "markdown",
   "id": "8e40e094",
   "metadata": {},
   "source": [
    "## English Data"
   ]
  },
  {
   "cell_type": "code",
   "execution_count": 4,
   "id": "c57e00bb",
   "metadata": {},
   "outputs": [
    {
     "data": {
      "text/plain": [
       "((32000, 3), (8000, 3))"
      ]
     },
     "execution_count": 4,
     "metadata": {},
     "output_type": "execute_result"
    }
   ],
   "source": [
    "#en_df = create_df(data_dir, lang='en', df_columns=df_columns)\n",
    "en_df = pq.read_table(os.path.join(data_dir, 'en_df.parquet')).to_pandas()\n",
    "en_train, en_dev = get_single_split(en_df, data_dir, lang='en')\n",
    "en_train.shape, en_dev.shape"
   ]
  },
  {
   "cell_type": "code",
   "execution_count": 5,
   "id": "d914905a",
   "metadata": {},
   "outputs": [
    {
     "data": {
      "text/html": [
       "<div>\n",
       "<style scoped>\n",
       "    .dataframe tbody tr th:only-of-type {\n",
       "        vertical-align: middle;\n",
       "    }\n",
       "\n",
       "    .dataframe tbody tr th {\n",
       "        vertical-align: top;\n",
       "    }\n",
       "\n",
       "    .dataframe thead th {\n",
       "        text-align: right;\n",
       "    }\n",
       "</style>\n",
       "<table border=\"1\" class=\"dataframe\">\n",
       "  <thead>\n",
       "    <tr style=\"text-align: right;\">\n",
       "      <th></th>\n",
       "      <th>author_id</th>\n",
       "      <th>tweet</th>\n",
       "      <th>label</th>\n",
       "    </tr>\n",
       "  </thead>\n",
       "  <tbody>\n",
       "    <tr>\n",
       "      <th>200</th>\n",
       "      <td>06893abba0bb8f94fed7562350233ed7</td>\n",
       "      <td>Romanian graftbuster’s firing violated rights,...</td>\n",
       "      <td>0</td>\n",
       "    </tr>\n",
       "    <tr>\n",
       "      <th>201</th>\n",
       "      <td>06893abba0bb8f94fed7562350233ed7</td>\n",
       "      <td>Russian ventilators sent to U.S. made by firm ...</td>\n",
       "      <td>0</td>\n",
       "    </tr>\n",
       "    <tr>\n",
       "      <th>202</th>\n",
       "      <td>06893abba0bb8f94fed7562350233ed7</td>\n",
       "      <td>Hezbollah prevented ISIS from reaching Europe:...</td>\n",
       "      <td>0</td>\n",
       "    </tr>\n",
       "    <tr>\n",
       "      <th>203</th>\n",
       "      <td>06893abba0bb8f94fed7562350233ed7</td>\n",
       "      <td>Epidemiologist Dr Knut Wittkowski: ‘Lockdown H...</td>\n",
       "      <td>0</td>\n",
       "    </tr>\n",
       "    <tr>\n",
       "      <th>204</th>\n",
       "      <td>06893abba0bb8f94fed7562350233ed7</td>\n",
       "      <td>China refuses to let WHO investigate truth beh...</td>\n",
       "      <td>0</td>\n",
       "    </tr>\n",
       "  </tbody>\n",
       "</table>\n",
       "</div>"
      ],
      "text/plain": [
       "                            author_id  \\\n",
       "200  06893abba0bb8f94fed7562350233ed7   \n",
       "201  06893abba0bb8f94fed7562350233ed7   \n",
       "202  06893abba0bb8f94fed7562350233ed7   \n",
       "203  06893abba0bb8f94fed7562350233ed7   \n",
       "204  06893abba0bb8f94fed7562350233ed7   \n",
       "\n",
       "                                                 tweet  label  \n",
       "200  Romanian graftbuster’s firing violated rights,...      0  \n",
       "201  Russian ventilators sent to U.S. made by firm ...      0  \n",
       "202  Hezbollah prevented ISIS from reaching Europe:...      0  \n",
       "203  Epidemiologist Dr Knut Wittkowski: ‘Lockdown H...      0  \n",
       "204  China refuses to let WHO investigate truth beh...      0  "
      ]
     },
     "execution_count": 5,
     "metadata": {},
     "output_type": "execute_result"
    }
   ],
   "source": [
    "en_train.head()"
   ]
  },
  {
   "cell_type": "code",
   "execution_count": 6,
   "id": "05467174",
   "metadata": {},
   "outputs": [
    {
     "data": {
      "text/plain": [
       "((160, 21272),\n",
       " (160,),\n",
       " TfidfVectorizer(analyzer='word', binary=False, decode_error='strict',\n",
       "                 dtype=<class 'numpy.float64'>, encoding='utf-8',\n",
       "                 input='content', lowercase=True, max_df=1.0, max_features=None,\n",
       "                 min_df=1, ngram_range=(1, 1), norm='l2', preprocessor=None,\n",
       "                 smooth_idf=True, stop_words='english', strip_accents=None,\n",
       "                 sublinear_tf=False, token_pattern='(?u)\\\\b\\\\w\\\\w+\\\\b',\n",
       "                 tokenizer=None, use_idf=True, vocabulary=None))"
      ]
     },
     "execution_count": 6,
     "metadata": {},
     "output_type": "execute_result"
    }
   ],
   "source": [
    "x_train, y_train, en_vec = prepare_xy(en_train, tweet_feature_method=prepare_tweets_using_tfidf, lang='en',\n",
    "                                      return_y=True, usr_len=200, is_train=True, vec=None)\n",
    "\n",
    "x_train = x_train.toarray()\n",
    "x_train.shape, y_train.shape, en_vec"
   ]
  },
  {
   "cell_type": "code",
   "execution_count": 7,
   "id": "fd494353",
   "metadata": {},
   "outputs": [
    {
     "data": {
      "text/plain": [
       "((40, 21272), (40,))"
      ]
     },
     "execution_count": 7,
     "metadata": {},
     "output_type": "execute_result"
    }
   ],
   "source": [
    "x_dev, y_dev, _ = prepare_xy(en_dev, tweet_feature_method=prepare_tweets_using_tfidf, lang='en',\n",
    "                             return_y=True, usr_len=200, is_train=False, vec=en_vec)\n",
    "x_dev = x_dev.toarray()\n",
    "x_dev.shape, y_dev.shape"
   ]
  },
  {
   "cell_type": "markdown",
   "id": "9667e96e",
   "metadata": {},
   "source": [
    "### All Features"
   ]
  },
  {
   "cell_type": "code",
   "execution_count": 8,
   "id": "c03025a5",
   "metadata": {},
   "outputs": [
    {
     "name": "stdout",
     "output_type": "stream",
     "text": [
      "SVC : -> train =  0.99375 |  dev =  0.775\n",
      "Logistic Regression : -> train =  0.99375 |  dev =  0.775\n",
      "LinearDiscriminantAnalysis : -> train =  0.8875 |  dev =  0.6\n",
      "GaussianNB : -> train =  1.0 |  dev =  0.725\n",
      "KNeighborsClassifier : -> train =  1.0 |  dev =  0.625\n",
      "DecisionTreeClassifier : -> train =  1.0 |  dev =  0.675\n",
      "RandomForestClassifier : -> train =  1.0 |  dev =  0.775\n",
      "MLPClassifier : -> train =  1.0 |  dev =  0.775\n",
      "[0]\teval-mape:inf\ttrain-mape:inf\n",
      "[1]\teval-mape:inf\ttrain-mape:inf\n",
      "[2]\teval-mape:inf\ttrain-mape:inf\n",
      "[3]\teval-mape:inf\ttrain-mape:inf\n",
      "[4]\teval-mape:inf\ttrain-mape:inf\n",
      "[5]\teval-mape:inf\ttrain-mape:inf\n",
      "[6]\teval-mape:inf\ttrain-mape:inf\n",
      "[7]\teval-mape:inf\ttrain-mape:inf\n",
      "[8]\teval-mape:inf\ttrain-mape:inf\n",
      "[9]\teval-mape:inf\ttrain-mape:inf\n",
      "XGBoost : -> train =  1.0 |  dev =  0.725\n"
     ]
    }
   ],
   "source": [
    "run_classifiers(x_train, y_train, x_dev, y_dev)"
   ]
  },
  {
   "cell_type": "markdown",
   "id": "c2ecb908",
   "metadata": {},
   "source": [
    "## PCA"
   ]
  },
  {
   "cell_type": "code",
   "execution_count": 26,
   "id": "5e97d36b",
   "metadata": {},
   "outputs": [
    {
     "name": "stdout",
     "output_type": "stream",
     "text": [
      "(160, 100) (40, 100)\n"
     ]
    },
    {
     "data": {
      "text/plain": [
       "array([1.88709773, 1.7627927 , 1.23424296, 1.10822803, 0.99869542,\n",
       "       0.99090601, 0.98040224, 0.94619594, 0.92065637, 0.89599113,\n",
       "       0.88693037, 0.88388725, 0.87080411, 0.85760221, 0.84527254,\n",
       "       0.83978436, 0.82254253, 0.81792313, 0.80597571, 0.80560853,\n",
       "       0.80074391, 0.7917119 , 0.78217109, 0.77573173, 0.76691145,\n",
       "       0.76216104, 0.76021899, 0.75470908, 0.74620466, 0.7407742 ,\n",
       "       0.73524779, 0.72004872, 0.71931262, 0.71888844, 0.70870966,\n",
       "       0.70749374, 0.69398157, 0.68895129, 0.68852643, 0.68417937,\n",
       "       0.67974224, 0.67787088, 0.67647547, 0.67331265, 0.6672057 ,\n",
       "       0.6649778 , 0.66037367, 0.65735135, 0.65478188, 0.6535329 ,\n",
       "       0.65159883, 0.64894467, 0.64432757, 0.64193421, 0.64077105,\n",
       "       0.63905547, 0.63610713, 0.63435741, 0.63101386, 0.62855841,\n",
       "       0.62797681, 0.6260488 , 0.62244886, 0.62152958, 0.61913268,\n",
       "       0.6178433 , 0.61650063, 0.61455007, 0.61264959, 0.61129309,\n",
       "       0.60879848, 0.60786659, 0.60300408, 0.60273369, 0.60221692,\n",
       "       0.59824637, 0.59671413, 0.59032042, 0.58780747, 0.5846002 ,\n",
       "       0.58397753, 0.58263443, 0.57994985, 0.57863252, 0.57610504,\n",
       "       0.57520481, 0.57402931, 0.56907903, 0.56855859, 0.56717469,\n",
       "       0.56486513, 0.56360965, 0.5630716 , 0.56106772, 0.55762975,\n",
       "       0.55563917, 0.55478089, 0.55058266, 0.54904297, 0.54567971])"
      ]
     },
     "execution_count": 26,
     "metadata": {},
     "output_type": "execute_result"
    }
   ],
   "source": [
    "n_components = 100\n",
    "pca = PCA(n_components=n_components)\n",
    "x_train_p = pca.fit_transform(x_train)\n",
    "x_dev_p = pca.transform(x_dev)\n",
    "print(x_train_p.shape, x_dev_p.shape)\n",
    "pca.singular_values_"
   ]
  },
  {
   "cell_type": "code",
   "execution_count": 27,
   "id": "98ee38cc",
   "metadata": {},
   "outputs": [
    {
     "name": "stdout",
     "output_type": "stream",
     "text": [
      "SVC : -> train =  0.94375 |  dev =  0.7\n",
      "Logistic Regression : -> train =  0.8875 |  dev =  0.775\n",
      "LinearDiscriminantAnalysis : -> train =  0.9625 |  dev =  0.75\n",
      "GaussianNB : -> train =  0.79375 |  dev =  0.525\n",
      "KNeighborsClassifier : -> train =  1.0 |  dev =  0.65\n",
      "DecisionTreeClassifier : -> train =  1.0 |  dev =  0.675\n",
      "RandomForestClassifier : -> train =  1.0 |  dev =  0.7\n"
     ]
    },
    {
     "name": "stderr",
     "output_type": "stream",
     "text": [
      "/home/sagar/.local/lib/python3.8/site-packages/sklearn/neural_network/_multilayer_perceptron.py:568: ConvergenceWarning: Stochastic Optimizer: Maximum iterations (1000) reached and the optimization hasn't converged yet.\n",
      "  warnings.warn(\n"
     ]
    },
    {
     "name": "stdout",
     "output_type": "stream",
     "text": [
      "MLPClassifier : -> train =  0.99375 |  dev =  0.775\n",
      "[0]\teval-mape:inf\ttrain-mape:inf\n",
      "[1]\teval-mape:inf\ttrain-mape:inf\n",
      "[2]\teval-mape:inf\ttrain-mape:inf\n",
      "[3]\teval-mape:inf\ttrain-mape:inf\n",
      "[4]\teval-mape:inf\ttrain-mape:inf\n",
      "[5]\teval-mape:inf\ttrain-mape:inf\n",
      "[6]\teval-mape:inf\ttrain-mape:inf\n",
      "[7]\teval-mape:inf\ttrain-mape:inf\n",
      "[8]\teval-mape:inf\ttrain-mape:inf\n",
      "[9]\teval-mape:inf\ttrain-mape:inf\n",
      "XGBoost : -> train =  1.0 |  dev =  0.625\n"
     ]
    },
    {
     "name": "stderr",
     "output_type": "stream",
     "text": [
      "/home/sagar/.local/lib/python3.8/site-packages/sklearn/neural_network/_multilayer_perceptron.py:568: ConvergenceWarning: Stochastic Optimizer: Maximum iterations (1000) reached and the optimization hasn't converged yet.\n",
      "  warnings.warn(\n"
     ]
    }
   ],
   "source": [
    "run_classifiers(x_train_p, y_train, x_dev_p, y_dev)"
   ]
  },
  {
   "cell_type": "markdown",
   "id": "06fb9ad0",
   "metadata": {},
   "source": [
    "### Truncated SVD"
   ]
  },
  {
   "cell_type": "code",
   "execution_count": 28,
   "id": "58a313c0",
   "metadata": {},
   "outputs": [
    {
     "name": "stdout",
     "output_type": "stream",
     "text": [
      "(160, 100) (40, 100)\n"
     ]
    },
    {
     "data": {
      "text/plain": [
       "array([9.49571531, 1.88196962, 1.24466245, 1.10971117, 1.02573705,\n",
       "       0.99300647, 0.98439712, 0.97864332, 0.94608482, 0.91155774,\n",
       "       0.89587301, 0.88427002, 0.88130109, 0.86676148, 0.85701234,\n",
       "       0.84008459, 0.83722951, 0.81976245, 0.8143686 , 0.80607262,\n",
       "       0.80236018, 0.79948554, 0.79139165, 0.781747  , 0.77591329,\n",
       "       0.76703918, 0.76216388, 0.76023475, 0.75486696, 0.74667286,\n",
       "       0.74133259, 0.73442765, 0.72007386, 0.71966412, 0.71589247,\n",
       "       0.70899346, 0.70734026, 0.69384813, 0.68941399, 0.686629  ,\n",
       "       0.6851345 , 0.68365383, 0.67947341, 0.67686956, 0.67349235,\n",
       "       0.66718253, 0.665197  , 0.66288371, 0.65992389, 0.65626649,\n",
       "       0.65600389, 0.65473491, 0.64999908, 0.64714101, 0.64453676,\n",
       "       0.64330558, 0.64239691, 0.6356471 , 0.63453501, 0.63243901,\n",
       "       0.63063348, 0.62926087, 0.62873524, 0.62572563, 0.62352265,\n",
       "       0.62178522, 0.61921941, 0.61672577, 0.6145876 , 0.61314166,\n",
       "       0.61101219, 0.60890681, 0.60834885, 0.60632381, 0.60409233,\n",
       "       0.6022069 , 0.59988111, 0.59693834, 0.5933989 , 0.59251808,\n",
       "       0.58948225, 0.58776714, 0.58419201, 0.58270712, 0.58214876,\n",
       "       0.57977718, 0.57721377, 0.57652819, 0.57536328, 0.57120069,\n",
       "       0.56946087, 0.56788357, 0.56609414, 0.56471462, 0.56355559,\n",
       "       0.55958377, 0.55939682, 0.55750658, 0.55432468, 0.55283515])"
      ]
     },
     "execution_count": 28,
     "metadata": {},
     "output_type": "execute_result"
    }
   ],
   "source": [
    "truncated_svd = TruncatedSVD(n_components=n_components)\n",
    "x_train_tsvd = truncated_svd.fit_transform(x_train)\n",
    "x_dev_tsvd = truncated_svd.transform(x_dev)\n",
    "print(x_train_tsvd.shape, x_dev_tsvd.shape)\n",
    "truncated_svd.singular_values_"
   ]
  },
  {
   "cell_type": "code",
   "execution_count": 29,
   "id": "86f46d0e",
   "metadata": {},
   "outputs": [
    {
     "name": "stdout",
     "output_type": "stream",
     "text": [
      "SVC : -> train =  0.91875 |  dev =  0.675\n",
      "Logistic Regression : -> train =  0.88125 |  dev =  0.8\n",
      "LinearDiscriminantAnalysis : -> train =  0.9375 |  dev =  0.75\n",
      "GaussianNB : -> train =  0.69375 |  dev =  0.525\n",
      "KNeighborsClassifier : -> train =  1.0 |  dev =  0.7\n",
      "DecisionTreeClassifier : -> train =  1.0 |  dev =  0.725\n",
      "RandomForestClassifier : -> train =  1.0 |  dev =  0.775\n"
     ]
    },
    {
     "name": "stderr",
     "output_type": "stream",
     "text": [
      "/home/sagar/.local/lib/python3.8/site-packages/sklearn/neural_network/_multilayer_perceptron.py:568: ConvergenceWarning: Stochastic Optimizer: Maximum iterations (1000) reached and the optimization hasn't converged yet.\n",
      "  warnings.warn(\n"
     ]
    },
    {
     "name": "stdout",
     "output_type": "stream",
     "text": [
      "MLPClassifier : -> train =  0.99375 |  dev =  0.8\n",
      "[0]\teval-mape:inf\ttrain-mape:inf\n",
      "[1]\teval-mape:inf\ttrain-mape:inf\n",
      "[2]\teval-mape:inf\ttrain-mape:inf\n",
      "[3]\teval-mape:inf\ttrain-mape:inf\n",
      "[4]\teval-mape:inf\ttrain-mape:inf\n",
      "[5]\teval-mape:inf\ttrain-mape:inf\n",
      "[6]\teval-mape:inf\ttrain-mape:inf\n",
      "[7]\teval-mape:inf\ttrain-mape:inf\n",
      "[8]\teval-mape:inf\ttrain-mape:inf\n",
      "[9]\teval-mape:inf\ttrain-mape:inf\n",
      "XGBoost : -> train =  1.0 |  dev =  0.7\n"
     ]
    },
    {
     "name": "stderr",
     "output_type": "stream",
     "text": [
      "/home/sagar/.local/lib/python3.8/site-packages/sklearn/neural_network/_multilayer_perceptron.py:568: ConvergenceWarning: Stochastic Optimizer: Maximum iterations (1000) reached and the optimization hasn't converged yet.\n",
      "  warnings.warn(\n"
     ]
    }
   ],
   "source": [
    "run_classifiers(x_train_tsvd, y_train, x_dev_tsvd, y_dev)"
   ]
  },
  {
   "cell_type": "markdown",
   "id": "4fe51a34",
   "metadata": {},
   "source": [
    "### LDA"
   ]
  },
  {
   "cell_type": "code",
   "execution_count": 30,
   "id": "29c59a4a",
   "metadata": {},
   "outputs": [
    {
     "name": "stdout",
     "output_type": "stream",
     "text": [
      "(160, 100) (40, 100)\n"
     ]
    },
    {
     "data": {
      "text/plain": [
       "array([[5.37218726e-47, 5.37218726e-47, 5.37218726e-47, ...,\n",
       "        5.37218726e-47, 5.37218726e-47, 5.37218726e-47],\n",
       "       [5.99606062e-47, 5.99606062e-47, 5.99606062e-47, ...,\n",
       "        5.99606062e-47, 5.99606062e-47, 5.99606062e-47],\n",
       "       [6.10372787e-47, 6.10372787e-47, 6.10372787e-47, ...,\n",
       "        6.10372787e-47, 6.10372787e-47, 6.10372787e-47],\n",
       "       ...,\n",
       "       [5.58551961e-47, 5.58551961e-47, 5.58551961e-47, ...,\n",
       "        5.58551961e-47, 5.58551961e-47, 5.58551961e-47],\n",
       "       [6.10372787e-47, 6.10372787e-47, 6.10372787e-47, ...,\n",
       "        6.10372787e-47, 6.10372787e-47, 6.10372787e-47],\n",
       "       [6.10372787e-47, 6.10372787e-47, 6.10372787e-47, ...,\n",
       "        6.10372787e-47, 6.10372787e-47, 6.10372787e-47]])"
      ]
     },
     "execution_count": 30,
     "metadata": {},
     "output_type": "execute_result"
    }
   ],
   "source": [
    "lda = LatentDirichletAllocation(n_components=n_components, batch_size=160, max_iter=100)\n",
    "x_train_lda = lda.fit_transform(x_train)\n",
    "x_dev_lda = lda.transform(x_dev)\n",
    "print(x_train_lda.shape, x_dev_lda.shape)\n",
    "lda.exp_dirichlet_component_"
   ]
  },
  {
   "cell_type": "code",
   "execution_count": 31,
   "id": "22156d40",
   "metadata": {},
   "outputs": [
    {
     "name": "stdout",
     "output_type": "stream",
     "text": [
      "SVC : -> train =  0.76875 |  dev =  0.7\n",
      "Logistic Regression : -> train =  0.76875 |  dev =  0.6\n",
      "LinearDiscriminantAnalysis : -> train =  0.85 |  dev =  0.725\n",
      "GaussianNB : -> train =  0.825 |  dev =  0.6\n",
      "KNeighborsClassifier : -> train =  1.0 |  dev =  0.525\n",
      "DecisionTreeClassifier : -> train =  1.0 |  dev =  0.575\n",
      "RandomForestClassifier : -> train =  1.0 |  dev =  0.725\n"
     ]
    },
    {
     "name": "stderr",
     "output_type": "stream",
     "text": [
      "/home/sagar/.local/lib/python3.8/site-packages/sklearn/neural_network/_multilayer_perceptron.py:568: ConvergenceWarning: Stochastic Optimizer: Maximum iterations (1000) reached and the optimization hasn't converged yet.\n",
      "  warnings.warn(\n"
     ]
    },
    {
     "name": "stdout",
     "output_type": "stream",
     "text": [
      "MLPClassifier : -> train =  0.86875 |  dev =  0.65\n",
      "[0]\teval-mape:inf\ttrain-mape:inf\n",
      "[1]\teval-mape:inf\ttrain-mape:inf\n",
      "[2]\teval-mape:inf\ttrain-mape:inf\n",
      "[3]\teval-mape:inf\ttrain-mape:inf\n",
      "[4]\teval-mape:inf\ttrain-mape:inf\n",
      "[5]\teval-mape:inf\ttrain-mape:inf\n",
      "[6]\teval-mape:inf\ttrain-mape:inf\n",
      "[7]\teval-mape:inf\ttrain-mape:inf\n",
      "[8]\teval-mape:inf\ttrain-mape:inf\n",
      "[9]\teval-mape:inf\ttrain-mape:inf\n",
      "XGBoost : -> train =  1.0 |  dev =  0.625\n"
     ]
    },
    {
     "name": "stderr",
     "output_type": "stream",
     "text": [
      "/home/sagar/.local/lib/python3.8/site-packages/sklearn/neural_network/_multilayer_perceptron.py:568: ConvergenceWarning: Stochastic Optimizer: Maximum iterations (1000) reached and the optimization hasn't converged yet.\n",
      "  warnings.warn(\n"
     ]
    }
   ],
   "source": [
    "run_classifiers(x_train_lda, y_train, x_dev_lda, y_dev)"
   ]
  },
  {
   "cell_type": "markdown",
   "id": "b69e4a1b",
   "metadata": {},
   "source": [
    "## Spanish Data"
   ]
  },
  {
   "cell_type": "code",
   "execution_count": 32,
   "id": "087c5ffe",
   "metadata": {},
   "outputs": [
    {
     "data": {
      "text/plain": [
       "((32000, 3), (8000, 3))"
      ]
     },
     "execution_count": 32,
     "metadata": {},
     "output_type": "execute_result"
    }
   ],
   "source": [
    "#es_df = create_df(data_dir, lang='es', df_columns=df_columns)\n",
    "es_df = pq.read_table(os.path.join(data_dir, 'es_df.parquet')).to_pandas()\n",
    "es_train, es_dev = get_single_split(es_df, data_dir, lang='es')\n",
    "es_train.shape, es_dev.shape"
   ]
  },
  {
   "cell_type": "code",
   "execution_count": 33,
   "id": "a6472998",
   "metadata": {},
   "outputs": [
    {
     "data": {
      "text/html": [
       "<div>\n",
       "<style scoped>\n",
       "    .dataframe tbody tr th:only-of-type {\n",
       "        vertical-align: middle;\n",
       "    }\n",
       "\n",
       "    .dataframe tbody tr th {\n",
       "        vertical-align: top;\n",
       "    }\n",
       "\n",
       "    .dataframe thead th {\n",
       "        text-align: right;\n",
       "    }\n",
       "</style>\n",
       "<table border=\"1\" class=\"dataframe\">\n",
       "  <thead>\n",
       "    <tr style=\"text-align: right;\">\n",
       "      <th></th>\n",
       "      <th>author_id</th>\n",
       "      <th>tweet</th>\n",
       "      <th>label</th>\n",
       "    </tr>\n",
       "  </thead>\n",
       "  <tbody>\n",
       "    <tr>\n",
       "      <th>0</th>\n",
       "      <td>0035a3060d075506f5b9b978a910aa1f</td>\n",
       "      <td>#USER# pasta con bichos de agua</td>\n",
       "      <td>0</td>\n",
       "    </tr>\n",
       "    <tr>\n",
       "      <th>1</th>\n",
       "      <td>0035a3060d075506f5b9b978a910aa1f</td>\n",
       "      <td>De verdad puto lol de mierda qué asco de juego...</td>\n",
       "      <td>0</td>\n",
       "    </tr>\n",
       "    <tr>\n",
       "      <th>2</th>\n",
       "      <td>0035a3060d075506f5b9b978a910aa1f</td>\n",
       "      <td>RT #USER#: me hice una pcr y ya tengo los resu...</td>\n",
       "      <td>0</td>\n",
       "    </tr>\n",
       "    <tr>\n",
       "      <th>3</th>\n",
       "      <td>0035a3060d075506f5b9b978a910aa1f</td>\n",
       "      <td>Y un lomo queso de baguette entera, tranqui #URL#</td>\n",
       "      <td>0</td>\n",
       "    </tr>\n",
       "    <tr>\n",
       "      <th>4</th>\n",
       "      <td>0035a3060d075506f5b9b978a910aa1f</td>\n",
       "      <td>Me cambio de curro y me llegan 3 ofertas direc...</td>\n",
       "      <td>0</td>\n",
       "    </tr>\n",
       "  </tbody>\n",
       "</table>\n",
       "</div>"
      ],
      "text/plain": [
       "                          author_id  \\\n",
       "0  0035a3060d075506f5b9b978a910aa1f   \n",
       "1  0035a3060d075506f5b9b978a910aa1f   \n",
       "2  0035a3060d075506f5b9b978a910aa1f   \n",
       "3  0035a3060d075506f5b9b978a910aa1f   \n",
       "4  0035a3060d075506f5b9b978a910aa1f   \n",
       "\n",
       "                                               tweet  label  \n",
       "0                    #USER# pasta con bichos de agua      0  \n",
       "1  De verdad puto lol de mierda qué asco de juego...      0  \n",
       "2  RT #USER#: me hice una pcr y ya tengo los resu...      0  \n",
       "3  Y un lomo queso de baguette entera, tranqui #URL#      0  \n",
       "4  Me cambio de curro y me llegan 3 ofertas direc...      0  "
      ]
     },
     "execution_count": 33,
     "metadata": {},
     "output_type": "execute_result"
    }
   ],
   "source": [
    "es_train.head()"
   ]
  },
  {
   "cell_type": "code",
   "execution_count": 34,
   "id": "4c70c61b",
   "metadata": {},
   "outputs": [
    {
     "data": {
      "text/plain": [
       "((160, 34833),\n",
       " (160,),\n",
       " TfidfVectorizer(analyzer='word', binary=False, decode_error='strict',\n",
       "                 dtype=<class 'numpy.float64'>, encoding='utf-8',\n",
       "                 input='content', lowercase=True, max_df=1.0, max_features=None,\n",
       "                 min_df=1, ngram_range=(1, 1), norm='l2', preprocessor=None,\n",
       "                 smooth_idf=True, stop_words=None, strip_accents=None,\n",
       "                 sublinear_tf=False, token_pattern='(?u)\\\\b\\\\w\\\\w+\\\\b',\n",
       "                 tokenizer=None, use_idf=True, vocabulary=None))"
      ]
     },
     "execution_count": 34,
     "metadata": {},
     "output_type": "execute_result"
    }
   ],
   "source": [
    "x_train, y_train, es_vec = prepare_xy(es_train, tweet_feature_method=prepare_tweets_using_tfidf, lang='es',\n",
    "                                      return_y=True, usr_len=200, is_train=True, vec=None)\n",
    "\n",
    "x_train = x_train.toarray()\n",
    "x_train.shape, y_train.shape, es_vec"
   ]
  },
  {
   "cell_type": "code",
   "execution_count": 35,
   "id": "ac25c8bb",
   "metadata": {},
   "outputs": [
    {
     "data": {
      "text/plain": [
       "((40, 34833), (40,))"
      ]
     },
     "execution_count": 35,
     "metadata": {},
     "output_type": "execute_result"
    }
   ],
   "source": [
    "x_dev, y_dev, _ = prepare_xy(es_dev, tweet_feature_method=prepare_tweets_using_tfidf, lang='es',\n",
    "                             return_y=True, usr_len=200, is_train=False, vec=es_vec)\n",
    "x_dev = x_dev.toarray()\n",
    "x_dev.shape, y_dev.shape"
   ]
  },
  {
   "cell_type": "markdown",
   "id": "76264e1a",
   "metadata": {},
   "source": [
    "### All Features"
   ]
  },
  {
   "cell_type": "code",
   "execution_count": 36,
   "id": "51c67fc0",
   "metadata": {},
   "outputs": [
    {
     "name": "stdout",
     "output_type": "stream",
     "text": [
      "SVC : -> train =  0.95 |  dev =  0.75\n",
      "Logistic Regression : -> train =  0.9125 |  dev =  0.775\n",
      "LinearDiscriminantAnalysis : -> train =  0.725 |  dev =  0.75\n",
      "GaussianNB : -> train =  1.0 |  dev =  0.8\n",
      "KNeighborsClassifier : -> train =  1.0 |  dev =  0.725\n",
      "DecisionTreeClassifier : -> train =  1.0 |  dev =  0.4\n",
      "RandomForestClassifier : -> train =  1.0 |  dev =  0.7\n",
      "MLPClassifier : -> train =  1.0 |  dev =  0.85\n",
      "[0]\teval-mape:inf\ttrain-mape:inf\n",
      "[1]\teval-mape:inf\ttrain-mape:inf\n",
      "[2]\teval-mape:inf\ttrain-mape:inf\n",
      "[3]\teval-mape:inf\ttrain-mape:inf\n",
      "[4]\teval-mape:inf\ttrain-mape:inf\n",
      "[5]\teval-mape:inf\ttrain-mape:inf\n",
      "[6]\teval-mape:inf\ttrain-mape:inf\n",
      "[7]\teval-mape:inf\ttrain-mape:inf\n",
      "[8]\teval-mape:inf\ttrain-mape:inf\n",
      "[9]\teval-mape:inf\ttrain-mape:inf\n",
      "XGBoost : -> train =  1.0 |  dev =  0.625\n"
     ]
    }
   ],
   "source": [
    "run_classifiers(x_train, y_train, x_dev, y_dev)"
   ]
  },
  {
   "cell_type": "markdown",
   "id": "c17e970b",
   "metadata": {},
   "source": [
    "### PCA"
   ]
  },
  {
   "cell_type": "code",
   "execution_count": 37,
   "id": "0ca1ac7e",
   "metadata": {},
   "outputs": [
    {
     "name": "stdout",
     "output_type": "stream",
     "text": [
      "(160, 100) (40, 100)\n"
     ]
    },
    {
     "data": {
      "text/plain": [
       "array([1.88709773, 1.7627927 , 1.23424292, 1.10822854, 0.99869356,\n",
       "       0.99090987, 0.98040475, 0.94619047, 0.92064974, 0.89601329,\n",
       "       0.88694517, 0.88389186, 0.87079409, 0.8575744 , 0.84521959,\n",
       "       0.83979441, 0.82259353, 0.81789115, 0.80595764, 0.8056426 ,\n",
       "       0.80090685, 0.79171605, 0.78222771, 0.77542693, 0.76671333,\n",
       "       0.76193328, 0.76046869, 0.75480901, 0.74640127, 0.74099812,\n",
       "       0.73573423, 0.71945   , 0.71933315, 0.71870976, 0.708867  ,\n",
       "       0.70755311, 0.6932554 , 0.68891537, 0.68858549, 0.68444116,\n",
       "       0.68302118, 0.67926234, 0.6755276 , 0.67272483, 0.66734227,\n",
       "       0.66586956, 0.66178657, 0.65834722, 0.65537609, 0.65408473,\n",
       "       0.65173268, 0.64969978, 0.64721833, 0.64298616, 0.64278752,\n",
       "       0.64124061, 0.63677594, 0.63535128, 0.63207617, 0.62964067,\n",
       "       0.62641554, 0.62531174, 0.62428635, 0.6225652 , 0.62147632,\n",
       "       0.61730836, 0.61436555, 0.61305073, 0.61046926, 0.61007768,\n",
       "       0.60824676, 0.60479808, 0.60327472, 0.60165628, 0.59898292,\n",
       "       0.59549413, 0.59246564, 0.59132744, 0.58901003, 0.58678871,\n",
       "       0.5862726 , 0.58307583, 0.58021486, 0.57853165, 0.57658296,\n",
       "       0.574944  , 0.57244316, 0.57102419, 0.56742894, 0.56639514,\n",
       "       0.56484897, 0.56283199, 0.56063938, 0.55955686, 0.55802458,\n",
       "       0.55575884, 0.55429027, 0.5529642 , 0.5489872 , 0.54889749])"
      ]
     },
     "execution_count": 37,
     "metadata": {},
     "output_type": "execute_result"
    }
   ],
   "source": [
    "pca = PCA(n_components=n_components)\n",
    "x_train_p = pca.fit_transform(x_train)\n",
    "x_dev_p = pca.transform(x_dev)\n",
    "print(x_train_p.shape, x_dev_p.shape)\n",
    "pca.singular_values_"
   ]
  },
  {
   "cell_type": "code",
   "execution_count": 38,
   "id": "82700520",
   "metadata": {},
   "outputs": [
    {
     "name": "stdout",
     "output_type": "stream",
     "text": [
      "SVC : -> train =  0.95 |  dev =  0.675\n",
      "Logistic Regression : -> train =  0.89375 |  dev =  0.775\n",
      "LinearDiscriminantAnalysis : -> train =  0.95 |  dev =  0.725\n",
      "GaussianNB : -> train =  0.73125 |  dev =  0.525\n",
      "KNeighborsClassifier : -> train =  1.0 |  dev =  0.625\n",
      "DecisionTreeClassifier : -> train =  1.0 |  dev =  0.675\n",
      "RandomForestClassifier : -> train =  1.0 |  dev =  0.8\n"
     ]
    },
    {
     "name": "stderr",
     "output_type": "stream",
     "text": [
      "/home/sagar/.local/lib/python3.8/site-packages/sklearn/neural_network/_multilayer_perceptron.py:568: ConvergenceWarning: Stochastic Optimizer: Maximum iterations (1000) reached and the optimization hasn't converged yet.\n",
      "  warnings.warn(\n"
     ]
    },
    {
     "name": "stdout",
     "output_type": "stream",
     "text": [
      "MLPClassifier : -> train =  0.99375 |  dev =  0.8\n",
      "[0]\teval-mape:inf\ttrain-mape:inf\n",
      "[1]\teval-mape:inf\ttrain-mape:inf\n",
      "[2]\teval-mape:inf\ttrain-mape:inf\n",
      "[3]\teval-mape:inf\ttrain-mape:inf\n",
      "[4]\teval-mape:inf\ttrain-mape:inf\n",
      "[5]\teval-mape:inf\ttrain-mape:inf\n",
      "[6]\teval-mape:inf\ttrain-mape:inf\n",
      "[7]\teval-mape:inf\ttrain-mape:inf\n",
      "[8]\teval-mape:inf\ttrain-mape:inf\n",
      "[9]\teval-mape:inf\ttrain-mape:inf\n"
     ]
    },
    {
     "name": "stderr",
     "output_type": "stream",
     "text": [
      "/home/sagar/.local/lib/python3.8/site-packages/sklearn/neural_network/_multilayer_perceptron.py:568: ConvergenceWarning: Stochastic Optimizer: Maximum iterations (1000) reached and the optimization hasn't converged yet.\n",
      "  warnings.warn(\n"
     ]
    },
    {
     "name": "stdout",
     "output_type": "stream",
     "text": [
      "XGBoost : -> train =  1.0 |  dev =  0.85\n"
     ]
    }
   ],
   "source": [
    "run_classifiers(x_train_p, y_train, x_dev_p, y_dev)"
   ]
  },
  {
   "cell_type": "markdown",
   "id": "86af9f0f",
   "metadata": {},
   "source": [
    "### Truncated SVD"
   ]
  },
  {
   "cell_type": "code",
   "execution_count": 39,
   "id": "d5a0fa23",
   "metadata": {},
   "outputs": [
    {
     "name": "stdout",
     "output_type": "stream",
     "text": [
      "(160, 100) (40, 100)\n"
     ]
    },
    {
     "data": {
      "text/plain": [
       "array([9.49571531, 1.88196962, 1.24466245, 1.10971114, 1.02573677,\n",
       "       0.9930061 , 0.98439716, 0.97864336, 0.94608418, 0.91155893,\n",
       "       0.89587227, 0.88427394, 0.8813099 , 0.86675975, 0.85701172,\n",
       "       0.84006896, 0.83721972, 0.81975396, 0.81437267, 0.80604117,\n",
       "       0.80238727, 0.79944003, 0.79136321, 0.78172513, 0.77592013,\n",
       "       0.7670123 , 0.76221873, 0.76032211, 0.75488975, 0.74668325,\n",
       "       0.74128781, 0.73442371, 0.72008272, 0.71979144, 0.71606612,\n",
       "       0.70910439, 0.70689746, 0.69392963, 0.68932446, 0.68664118,\n",
       "       0.68515832, 0.68368243, 0.67898717, 0.6771241 , 0.67320021,\n",
       "       0.66766008, 0.66544228, 0.66205057, 0.66048689, 0.65655634,\n",
       "       0.655431  , 0.65325607, 0.65105825, 0.64734654, 0.64474357,\n",
       "       0.64372649, 0.641927  , 0.63754572, 0.63559891, 0.63305792,\n",
       "       0.63118656, 0.63071926, 0.62897826, 0.62609072, 0.62427225,\n",
       "       0.62039222, 0.61937584, 0.61609714, 0.61481381, 0.61366451,\n",
       "       0.61169276, 0.61158381, 0.61036352, 0.60749755, 0.60333604,\n",
       "       0.60252425, 0.59843079, 0.5963201 , 0.59351351, 0.590521  ,\n",
       "       0.58875102, 0.58715136, 0.58627223, 0.58435951, 0.58086942,\n",
       "       0.58064502, 0.57841455, 0.57610229, 0.57556352, 0.57060285,\n",
       "       0.56906442, 0.56810177, 0.56660382, 0.56523068, 0.56157382,\n",
       "       0.56049069, 0.55771731, 0.55711393, 0.55453911, 0.55097841])"
      ]
     },
     "execution_count": 39,
     "metadata": {},
     "output_type": "execute_result"
    }
   ],
   "source": [
    "truncated_svd = TruncatedSVD(n_components=n_components)\n",
    "x_train_tsvd = truncated_svd.fit_transform(x_train)\n",
    "x_dev_tsvd = truncated_svd.transform(x_dev)\n",
    "print(x_train_tsvd.shape, x_dev_tsvd.shape)\n",
    "truncated_svd.singular_values_"
   ]
  },
  {
   "cell_type": "code",
   "execution_count": 40,
   "id": "dd9a8dfb",
   "metadata": {},
   "outputs": [
    {
     "name": "stdout",
     "output_type": "stream",
     "text": [
      "SVC : -> train =  0.925 |  dev =  0.675\n",
      "Logistic Regression : -> train =  0.88125 |  dev =  0.775\n",
      "LinearDiscriminantAnalysis : -> train =  0.94375 |  dev =  0.75\n",
      "GaussianNB : -> train =  0.6875 |  dev =  0.525\n",
      "KNeighborsClassifier : -> train =  1.0 |  dev =  0.675\n",
      "DecisionTreeClassifier : -> train =  1.0 |  dev =  0.6\n",
      "RandomForestClassifier : -> train =  1.0 |  dev =  0.725\n"
     ]
    },
    {
     "name": "stderr",
     "output_type": "stream",
     "text": [
      "/home/sagar/.local/lib/python3.8/site-packages/sklearn/neural_network/_multilayer_perceptron.py:568: ConvergenceWarning: Stochastic Optimizer: Maximum iterations (1000) reached and the optimization hasn't converged yet.\n",
      "  warnings.warn(\n"
     ]
    },
    {
     "name": "stdout",
     "output_type": "stream",
     "text": [
      "MLPClassifier : -> train =  0.99375 |  dev =  0.8\n",
      "[0]\teval-mape:inf\ttrain-mape:inf\n",
      "[1]\teval-mape:inf\ttrain-mape:inf\n",
      "[2]\teval-mape:inf\ttrain-mape:inf\n",
      "[3]\teval-mape:inf\ttrain-mape:inf\n",
      "[4]\teval-mape:inf\ttrain-mape:inf\n",
      "[5]\teval-mape:inf\ttrain-mape:inf\n",
      "[6]\teval-mape:inf\ttrain-mape:inf\n",
      "[7]\teval-mape:inf\ttrain-mape:inf\n",
      "[8]\teval-mape:inf\ttrain-mape:inf\n"
     ]
    },
    {
     "name": "stderr",
     "output_type": "stream",
     "text": [
      "/home/sagar/.local/lib/python3.8/site-packages/sklearn/neural_network/_multilayer_perceptron.py:568: ConvergenceWarning: Stochastic Optimizer: Maximum iterations (1000) reached and the optimization hasn't converged yet.\n",
      "  warnings.warn(\n"
     ]
    },
    {
     "name": "stdout",
     "output_type": "stream",
     "text": [
      "[9]\teval-mape:inf\ttrain-mape:inf\n",
      "XGBoost : -> train =  1.0 |  dev =  0.65\n"
     ]
    }
   ],
   "source": [
    "run_classifiers(x_train_tsvd, y_train, x_dev_tsvd, y_dev)"
   ]
  },
  {
   "cell_type": "markdown",
   "id": "dd3f6e99",
   "metadata": {},
   "source": [
    "### LDA"
   ]
  },
  {
   "cell_type": "code",
   "execution_count": 41,
   "id": "f9183e69",
   "metadata": {},
   "outputs": [
    {
     "name": "stdout",
     "output_type": "stream",
     "text": [
      "(160, 100) (40, 100)\n"
     ]
    },
    {
     "data": {
      "text/plain": [
       "array([[5.92653804e-47, 5.92653804e-47, 5.92653804e-47, ...,\n",
       "        5.92653804e-47, 5.92653804e-47, 5.92653804e-47],\n",
       "       [6.09206459e-47, 6.09206459e-47, 6.09206459e-47, ...,\n",
       "        6.09206459e-47, 6.09206459e-47, 6.09206459e-47],\n",
       "       [6.04948619e-47, 6.04948619e-47, 6.04948619e-47, ...,\n",
       "        6.04948619e-47, 6.04948619e-47, 6.04948619e-47],\n",
       "       ...,\n",
       "       [6.10372787e-47, 6.10372787e-47, 6.10372787e-47, ...,\n",
       "        6.10372787e-47, 6.10372787e-47, 6.10372787e-47],\n",
       "       [6.02307716e-47, 6.02307716e-47, 6.02307716e-47, ...,\n",
       "        6.02307716e-47, 6.02307716e-47, 6.02307716e-47],\n",
       "       [6.10372787e-47, 6.10372787e-47, 6.10372787e-47, ...,\n",
       "        6.10372787e-47, 6.10372787e-47, 6.10372787e-47]])"
      ]
     },
     "execution_count": 41,
     "metadata": {},
     "output_type": "execute_result"
    }
   ],
   "source": [
    "lda = LatentDirichletAllocation(n_components=n_components, batch_size=160, max_iter=100)\n",
    "x_train_lda = lda.fit_transform(x_train)\n",
    "x_dev_lda = lda.transform(x_dev)\n",
    "print(x_train_lda.shape, x_dev_lda.shape)\n",
    "lda.exp_dirichlet_component_"
   ]
  },
  {
   "cell_type": "code",
   "execution_count": 42,
   "id": "ab56144c",
   "metadata": {},
   "outputs": [
    {
     "name": "stdout",
     "output_type": "stream",
     "text": [
      "SVC : -> train =  0.78125 |  dev =  0.525\n",
      "Logistic Regression : -> train =  0.7125 |  dev =  0.55\n",
      "LinearDiscriminantAnalysis : -> train =  0.86875 |  dev =  0.675\n",
      "GaussianNB : -> train =  0.83125 |  dev =  0.675\n",
      "KNeighborsClassifier : -> train =  1.0 |  dev =  0.625\n",
      "DecisionTreeClassifier : -> train =  1.0 |  dev =  0.675\n",
      "RandomForestClassifier : -> train =  1.0 |  dev =  0.75\n"
     ]
    },
    {
     "name": "stderr",
     "output_type": "stream",
     "text": [
      "/home/sagar/.local/lib/python3.8/site-packages/sklearn/neural_network/_multilayer_perceptron.py:568: ConvergenceWarning: Stochastic Optimizer: Maximum iterations (1000) reached and the optimization hasn't converged yet.\n",
      "  warnings.warn(\n"
     ]
    },
    {
     "name": "stdout",
     "output_type": "stream",
     "text": [
      "MLPClassifier : -> train =  0.86875 |  dev =  0.75\n",
      "[0]\teval-mape:inf\ttrain-mape:inf\n",
      "[1]\teval-mape:inf\ttrain-mape:inf\n",
      "[2]\teval-mape:inf\ttrain-mape:inf\n",
      "[3]\teval-mape:inf\ttrain-mape:inf\n",
      "[4]\teval-mape:inf\ttrain-mape:inf\n",
      "[5]\teval-mape:inf\ttrain-mape:inf\n",
      "[6]\teval-mape:inf\ttrain-mape:inf\n",
      "[7]\teval-mape:inf\ttrain-mape:inf\n",
      "[8]\teval-mape:inf\ttrain-mape:inf\n",
      "[9]\teval-mape:inf\ttrain-mape:inf\n",
      "XGBoost : -> train =  1.0 |  dev =  0.725\n"
     ]
    },
    {
     "name": "stderr",
     "output_type": "stream",
     "text": [
      "/home/sagar/.local/lib/python3.8/site-packages/sklearn/neural_network/_multilayer_perceptron.py:568: ConvergenceWarning: Stochastic Optimizer: Maximum iterations (1000) reached and the optimization hasn't converged yet.\n",
      "  warnings.warn(\n"
     ]
    }
   ],
   "source": [
    "run_classifiers(x_train_lda, y_train, x_dev_lda, y_dev)"
   ]
  },
  {
   "cell_type": "code",
   "execution_count": null,
   "id": "5dd4139c",
   "metadata": {},
   "outputs": [],
   "source": []
  }
 ],
 "metadata": {
  "kernelspec": {
   "display_name": "Python 3",
   "language": "python",
   "name": "python3"
  },
  "language_info": {
   "codemirror_mode": {
    "name": "ipython",
    "version": 3
   },
   "file_extension": ".py",
   "mimetype": "text/x-python",
   "name": "python",
   "nbconvert_exporter": "python",
   "pygments_lexer": "ipython3",
   "version": "3.8.5"
  }
 },
 "nbformat": 4,
 "nbformat_minor": 5
}
