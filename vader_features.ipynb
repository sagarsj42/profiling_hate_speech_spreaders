{
 "cells": [
  {
   "cell_type": "code",
   "execution_count": 342,
   "id": "7125b7af",
   "metadata": {},
   "outputs": [],
   "source": [
    "import os\n",
    "import numpy as np\n",
    "from vaderSentiment.vaderSentiment import SentimentIntensityAnalyzer\n",
    "\n",
    "from sklearn.preprocessing import minmax_scale\n",
    "from sklearn.svm import SVC\n",
    "from sklearn.discriminant_analysis import LinearDiscriminantAnalysis\n",
    "from sklearn.discriminant_analysis import QuadraticDiscriminantAnalysis\n",
    "from sklearn.linear_model import LogisticRegression\n",
    "from sklearn.naive_bayes import GaussianNB\n",
    "from sklearn.naive_bayes import MultinomialNB\n",
    "from sklearn.neighbors import KNeighborsClassifier\n",
    "from sklearn.tree import DecisionTreeClassifier\n",
    "from sklearn.ensemble import RandomForestClassifier\n",
    "from sklearn.neural_network import MLPClassifier\n",
    "from sklearn.metrics import accuracy_score\n",
    "\n",
    "import xgboost as xgb\n",
    "\n",
    "from data_io import *"
   ]
  },
  {
   "cell_type": "code",
   "execution_count": 3,
   "id": "69a797a4",
   "metadata": {},
   "outputs": [
    {
     "data": {
      "text/plain": [
       "((32000, 3), (8000, 3))"
      ]
     },
     "execution_count": 3,
     "metadata": {},
     "output_type": "execute_result"
    }
   ],
   "source": [
    "data_dir = os.path.join('..', 'data', 'pan21-author-profiling-training-2021-03-14')\n",
    "en_train, en_dev = get_single_split(data_dir, 'en')\n",
    "en_train.shape, en_dev.shape"
   ]
  },
  {
   "cell_type": "code",
   "execution_count": 4,
   "id": "23e49dd2",
   "metadata": {},
   "outputs": [
    {
     "data": {
      "text/html": [
       "<div>\n",
       "<style scoped>\n",
       "    .dataframe tbody tr th:only-of-type {\n",
       "        vertical-align: middle;\n",
       "    }\n",
       "\n",
       "    .dataframe tbody tr th {\n",
       "        vertical-align: top;\n",
       "    }\n",
       "\n",
       "    .dataframe thead th {\n",
       "        text-align: right;\n",
       "    }\n",
       "</style>\n",
       "<table border=\"1\" class=\"dataframe\">\n",
       "  <thead>\n",
       "    <tr style=\"text-align: right;\">\n",
       "      <th></th>\n",
       "      <th>author_id</th>\n",
       "      <th>tweet</th>\n",
       "      <th>label</th>\n",
       "    </tr>\n",
       "  </thead>\n",
       "  <tbody>\n",
       "    <tr>\n",
       "      <th>200</th>\n",
       "      <td>06893abba0bb8f94fed7562350233ed7</td>\n",
       "      <td>Romanian graftbuster’s firing violated rights,...</td>\n",
       "      <td>0</td>\n",
       "    </tr>\n",
       "    <tr>\n",
       "      <th>201</th>\n",
       "      <td>06893abba0bb8f94fed7562350233ed7</td>\n",
       "      <td>Russian ventilators sent to U.S. made by firm ...</td>\n",
       "      <td>0</td>\n",
       "    </tr>\n",
       "    <tr>\n",
       "      <th>202</th>\n",
       "      <td>06893abba0bb8f94fed7562350233ed7</td>\n",
       "      <td>Hezbollah prevented ISIS from reaching Europe:...</td>\n",
       "      <td>0</td>\n",
       "    </tr>\n",
       "    <tr>\n",
       "      <th>203</th>\n",
       "      <td>06893abba0bb8f94fed7562350233ed7</td>\n",
       "      <td>Epidemiologist Dr Knut Wittkowski: ‘Lockdown H...</td>\n",
       "      <td>0</td>\n",
       "    </tr>\n",
       "    <tr>\n",
       "      <th>204</th>\n",
       "      <td>06893abba0bb8f94fed7562350233ed7</td>\n",
       "      <td>China refuses to let WHO investigate truth beh...</td>\n",
       "      <td>0</td>\n",
       "    </tr>\n",
       "  </tbody>\n",
       "</table>\n",
       "</div>"
      ],
      "text/plain": [
       "                            author_id  \\\n",
       "200  06893abba0bb8f94fed7562350233ed7   \n",
       "201  06893abba0bb8f94fed7562350233ed7   \n",
       "202  06893abba0bb8f94fed7562350233ed7   \n",
       "203  06893abba0bb8f94fed7562350233ed7   \n",
       "204  06893abba0bb8f94fed7562350233ed7   \n",
       "\n",
       "                                                 tweet  label  \n",
       "200  Romanian graftbuster’s firing violated rights,...      0  \n",
       "201  Russian ventilators sent to U.S. made by firm ...      0  \n",
       "202  Hezbollah prevented ISIS from reaching Europe:...      0  \n",
       "203  Epidemiologist Dr Knut Wittkowski: ‘Lockdown H...      0  \n",
       "204  China refuses to let WHO investigate truth beh...      0  "
      ]
     },
     "execution_count": 4,
     "metadata": {},
     "output_type": "execute_result"
    }
   ],
   "source": [
    "en_train.head()"
   ]
  },
  {
   "cell_type": "code",
   "execution_count": 5,
   "id": "3af136dd",
   "metadata": {},
   "outputs": [
    {
     "data": {
      "text/plain": [
       "{'neg': 0.453, 'neu': 0.547, 'pos': 0.0, 'compound': -0.7003}"
      ]
     },
     "execution_count": 5,
     "metadata": {},
     "output_type": "execute_result"
    }
   ],
   "source": [
    "tweet = en_train['tweet'].iloc[0]\n",
    "analyzer = SentimentIntensityAnalyzer()\n",
    "analyzer.polarity_scores(tweet)"
   ]
  },
  {
   "cell_type": "code",
   "execution_count": 6,
   "id": "82cab951",
   "metadata": {},
   "outputs": [
    {
     "data": {
      "text/plain": [
       "32000"
      ]
     },
     "execution_count": 6,
     "metadata": {},
     "output_type": "execute_result"
    }
   ],
   "source": [
    "tweets = en_train['tweet'].to_list()\n",
    "mod_tweets = list()\n",
    "\n",
    "for tweet in tweets:\n",
    "    mod_tweet = tweet.replace('#URL#', 'url')\n",
    "    mod_tweet = mod_tweet.replace('#USER#', 'user')\n",
    "    mod_tweet = mod_tweet.replace('#HASHTAG#', '')\n",
    "    mod_tweet = mod_tweet.replace('RT', '')\n",
    "    mod_tweets.append(mod_tweet)\n",
    "\n",
    "len(mod_tweets)"
   ]
  },
  {
   "cell_type": "code",
   "execution_count": 11,
   "id": "e7b1b79e",
   "metadata": {},
   "outputs": [
    {
     "data": {
      "text/plain": [
       "(32000, 4)"
      ]
     },
     "execution_count": 11,
     "metadata": {},
     "output_type": "execute_result"
    }
   ],
   "source": [
    "vader_feats = np.zeros((32000, 4))\n",
    "\n",
    "for i, tweet in enumerate(mod_tweets):\n",
    "    feats = analyzer.polarity_scores(tweet)\n",
    "    vader_feats[i][0] = feats['compound']\n",
    "    vader_feats[i][1] = feats['neg']\n",
    "    vader_feats[i][2] = feats['neu']\n",
    "    vader_feats[i][3] = feats['pos']\n",
    "    \n",
    "vader_feats.shape"
   ]
  },
  {
   "cell_type": "code",
   "execution_count": 27,
   "id": "f8bcdab2",
   "metadata": {},
   "outputs": [
    {
     "data": {
      "text/plain": [
       "80.0"
      ]
     },
     "execution_count": 27,
     "metadata": {},
     "output_type": "execute_result"
    }
   ],
   "source": [
    "labels = en_train['label'].to_numpy()\n",
    "\n",
    "y_labels = np.zeros(160)\n",
    "for i in range(160):\n",
    "    y_labels[i] = labels[i*200]\n",
    "    \n",
    "y_labels.sum()"
   ]
  },
  {
   "cell_type": "code",
   "execution_count": 18,
   "id": "e87b882e",
   "metadata": {},
   "outputs": [
    {
     "data": {
      "text/plain": [
       "(160, 600)"
      ]
     },
     "execution_count": 18,
     "metadata": {},
     "output_type": "execute_result"
    }
   ],
   "source": [
    "user_feats = np.zeros((160, 600))\n",
    "for i in range(160):\n",
    "    vader_start = i*200\n",
    "#     print(user_feats[i, :200].shape)\n",
    "#     print(vader_feats[vader_start:vader_start+200, 0].shape)\n",
    "    user_feats[i, :200] = vader_feats[vader_start:vader_start+200, 0]\n",
    "    user_feats[i, 200:400] = vader_feats[vader_start:vader_start+200, 1]\n",
    "    user_feats[i, 400:600] = vader_feats[vader_start:vader_start+200, 2]\n",
    "\n",
    "user_feats.shape"
   ]
  },
  {
   "cell_type": "code",
   "execution_count": 20,
   "id": "c0fcb981",
   "metadata": {},
   "outputs": [
    {
     "data": {
      "text/plain": [
       "SVC(C=1.0, break_ties=False, cache_size=200, class_weight=None, coef0=0.0,\n",
       "    decision_function_shape='ovr', degree=3, gamma='auto', kernel='rbf',\n",
       "    max_iter=-1, probability=False, random_state=None, shrinking=True,\n",
       "    tol=0.001, verbose=False)"
      ]
     },
     "execution_count": 20,
     "metadata": {},
     "output_type": "execute_result"
    }
   ],
   "source": [
    "clf = SVC(gamma='auto')\n",
    "clf"
   ]
  },
  {
   "cell_type": "code",
   "execution_count": 37,
   "id": "1b040b00",
   "metadata": {},
   "outputs": [
    {
     "data": {
      "text/plain": [
       "0.9125"
      ]
     },
     "execution_count": 37,
     "metadata": {},
     "output_type": "execute_result"
    }
   ],
   "source": [
    "clf.fit(user_feats, y_labels)\n",
    "clf.score(user_feats, y_labels)"
   ]
  },
  {
   "cell_type": "code",
   "execution_count": 104,
   "id": "a769e232",
   "metadata": {},
   "outputs": [
    {
     "data": {
      "text/plain": [
       "\"Pensioners in Bulgaria fourth-highest in EU at risk of poverty - Eurostat #URL# via #USER# Hey check this out #URL# #URL# +++ UK parliament Brexit vote — live updates +++ Greece, Bulgaria, Romania and Serbia Declare War on Islam and its Trojan... #URL# via #USER# Top bank warns clients to stop trading pound before Brexit vote #URL# May faces defeat in parliament over Brexit plan #URL# France: “Yellow Vest” Protesters Take to Streets for 9th Straight Week #URL# via #USER# Finnish President expresses his 'disgust' at migrant grooming gangs #URL# via #USER# Verona declares itself a ‘pro-life city’, and fights to prevent abortion #URL# British Lawmakers to Vote on Brexit Deal #URL#\""
      ]
     },
     "execution_count": 104,
     "metadata": {},
     "output_type": "execute_result"
    }
   ],
   "source": [
    "grp_size = 10\n",
    "n_grps = int(len(tweets) / grp_size)\n",
    "grp_tweets = list()\n",
    "\n",
    "for i in range(n_grps):\n",
    "    start = i*grp_size\n",
    "    grp_tweet = ' '.join(tweets[start:start+grp_size])\n",
    "    grp_tweets.append(grp_tweet)\n",
    "    \n",
    "grp_tweets[10]"
   ]
  },
  {
   "cell_type": "code",
   "execution_count": 310,
   "id": "32080802",
   "metadata": {},
   "outputs": [],
   "source": [
    "def filter_tweets(tweets):\n",
    "    mod_tweets = list()\n",
    "    \n",
    "    for tweet in tweets:\n",
    "        mod_tweet = tweet.replace('#URL#', 'url')\n",
    "        mod_tweet = mod_tweet.replace('#USER#', 'user')\n",
    "        mod_tweet = mod_tweet.replace('#HASHTAG#', '')\n",
    "        mod_tweet = mod_tweet.replace('RT', '')\n",
    "        mod_tweets.append(mod_tweet)\n",
    "        \n",
    "    return mod_tweets\n",
    "\n",
    "def group_tweets(tweets, grp_size=1):\n",
    "    n_grps = int(len(tweets) / grp_size)\n",
    "    grouped_tweets = list()\n",
    "    \n",
    "    for i in range(n_grps):\n",
    "        start = i*grp_size\n",
    "        grouped_tweet = ' '.join(tweets[start:start+grp_size])\n",
    "        grouped_tweets.append(grouped_tweet)\n",
    "        \n",
    "    return grouped_tweets\n",
    "\n",
    "def get_vader_features(tweets):\n",
    "    rows = len(tweets)\n",
    "    vader_feats = np.zeros((rows, 4))\n",
    "    analyzer = SentimentIntensityAnalyzer()\n",
    "    \n",
    "    for i, tweet in enumerate(tweets):\n",
    "        feats = analyzer.polarity_scores(tweet)\n",
    "        vader_feats[i][0] = feats['compound']\n",
    "        vader_feats[i][1] = feats['neg']\n",
    "        vader_feats[i][2] = feats['neu']\n",
    "        vader_feats[i][3] = feats['pos']\n",
    "        \n",
    "    return vader_feats\n",
    "\n",
    "def prepare_user_matrix(features, usr_len=200, n_features=3):\n",
    "    n_rows = int(features.shape[0] / usr_len)\n",
    "    user_feats = np.zeros((n_rows, usr_len*n_features))\n",
    "    \n",
    "    for i in range(n_rows):\n",
    "        start = i*usr_len\n",
    "        user_feats[i, : usr_len] = vader_feats[start : start+usr_len, 0]\n",
    "        user_feats[i, usr_len : usr_len*2] = vader_feats[start : start+usr_len, 1]\n",
    "        user_feats[i, usr_len*2 : usr_len*3] = vader_feats[start : start+usr_len, 2]\n",
    "        \n",
    "    return user_feats\n",
    "\n",
    "def prepare_labels(labels, usr_len=200):\n",
    "    n_vals = int(len(labels) / usr_len)\n",
    "    y_labels = np.zeros(n_vals)\n",
    "    \n",
    "    for i in range(n_vals):\n",
    "        y_labels[i] = labels[i*usr_len]\n",
    "        \n",
    "    return y_labels\n",
    "        \n",
    "def prepare_xy(df, usr_len=200, grp_size=10, n_features=3):\n",
    "    tweets = df['tweet'].to_list()\n",
    "    labels = df['label'].to_list()\n",
    "    \n",
    "    y_labels = prepare_labels(labels, usr_len=usr_len)\n",
    "    mod_tweets = filter_tweets(tweets)\n",
    "    grouped_tweets = group_tweets(mod_tweets, grp_size=grp_size)\n",
    "    usr_len = int(usr_len / grp_size)\n",
    "    vader_feats = get_vader_features(grouped_tweets)\n",
    "    x_feats = prepare_user_matrix(vader_feats, usr_len=usr_len, n_features=n_features)\n",
    "    \n",
    "    return (x_feats, y_labels)"
   ]
  },
  {
   "cell_type": "code",
   "execution_count": 311,
   "id": "b87cb108",
   "metadata": {},
   "outputs": [],
   "source": [
    "grp_size = 10"
   ]
  },
  {
   "cell_type": "code",
   "execution_count": 312,
   "id": "68f3c8ce",
   "metadata": {},
   "outputs": [
    {
     "data": {
      "text/plain": [
       "((160, 60), (160,))"
      ]
     },
     "execution_count": 312,
     "metadata": {},
     "output_type": "execute_result"
    }
   ],
   "source": [
    "x_train, y_train = prepare_xy(en_train, grp_size=grp_size)\n",
    "x_train.shape, y_train.shape"
   ]
  },
  {
   "cell_type": "code",
   "execution_count": 313,
   "id": "7e6e0ae3",
   "metadata": {},
   "outputs": [
    {
     "data": {
      "text/plain": [
       "0.74375"
      ]
     },
     "execution_count": 313,
     "metadata": {},
     "output_type": "execute_result"
    }
   ],
   "source": [
    "clf = SVC(gamma='auto')\n",
    "clf.fit(x_train, y_train)\n",
    "clf.score(x_train, y_train)"
   ]
  },
  {
   "cell_type": "code",
   "execution_count": 314,
   "id": "8a36b0f4",
   "metadata": {},
   "outputs": [
    {
     "data": {
      "text/plain": [
       "((40, 60), (40,))"
      ]
     },
     "execution_count": 314,
     "metadata": {},
     "output_type": "execute_result"
    }
   ],
   "source": [
    "x_dev, y_dev = prepare_xy(en_dev, grp_size=grp_size)\n",
    "x_dev.shape, y_dev.shape"
   ]
  },
  {
   "cell_type": "code",
   "execution_count": 315,
   "id": "0c3a525b",
   "metadata": {},
   "outputs": [
    {
     "data": {
      "text/plain": [
       "0.4"
      ]
     },
     "execution_count": 315,
     "metadata": {},
     "output_type": "execute_result"
    }
   ],
   "source": [
    "clf.score(x_dev, y_dev)"
   ]
  },
  {
   "cell_type": "code",
   "execution_count": 316,
   "id": "5b103526",
   "metadata": {},
   "outputs": [
    {
     "name": "stderr",
     "output_type": "stream",
     "text": [
      "/home/sagar/.local/lib/python3.8/site-packages/sklearn/discriminant_analysis.py:458: ChangedBehaviorWarning: n_components cannot be larger than min(n_features, n_classes - 1). Using min(n_features, n_classes - 1) = min(60, 2 - 1) = 1 components.\n",
      "  warnings.warn(\n",
      "/home/sagar/.local/lib/python3.8/site-packages/sklearn/discriminant_analysis.py:469: FutureWarning: In version 0.23, setting n_components > min(n_features, n_classes - 1) will raise a ValueError. You should set n_components to None (default), or a value smaller or equal to min(n_features, n_classes - 1).\n",
      "  warnings.warn(future_msg, FutureWarning)\n"
     ]
    },
    {
     "data": {
      "text/plain": [
       "LinearDiscriminantAnalysis(n_components=10, priors=None, shrinkage=None,\n",
       "                           solver='svd', store_covariance=False, tol=0.0001)"
      ]
     },
     "execution_count": 316,
     "metadata": {},
     "output_type": "execute_result"
    }
   ],
   "source": [
    "clf = LinearDiscriminantAnalysis(solver='svd', n_components=10)\n",
    "clf.fit(x_train, y_train)"
   ]
  },
  {
   "cell_type": "code",
   "execution_count": 317,
   "id": "542b06a0",
   "metadata": {},
   "outputs": [
    {
     "data": {
      "text/plain": [
       "0.76875"
      ]
     },
     "execution_count": 317,
     "metadata": {},
     "output_type": "execute_result"
    }
   ],
   "source": [
    "clf.score(x_train, y_train)"
   ]
  },
  {
   "cell_type": "code",
   "execution_count": 318,
   "id": "b7817de0",
   "metadata": {},
   "outputs": [
    {
     "data": {
      "text/plain": [
       "0.475"
      ]
     },
     "execution_count": 318,
     "metadata": {},
     "output_type": "execute_result"
    }
   ],
   "source": [
    "clf.score(x_dev, y_dev)"
   ]
  },
  {
   "cell_type": "code",
   "execution_count": 319,
   "id": "91ab5e35",
   "metadata": {},
   "outputs": [
    {
     "data": {
      "text/plain": [
       "0.76875"
      ]
     },
     "execution_count": 319,
     "metadata": {},
     "output_type": "execute_result"
    }
   ],
   "source": [
    "clf = LinearDiscriminantAnalysis(solver='eigen')\n",
    "clf.fit(x_train, y_train)\n",
    "clf.score(x_train ,y_train)"
   ]
  },
  {
   "cell_type": "code",
   "execution_count": 320,
   "id": "0d413ac8",
   "metadata": {},
   "outputs": [
    {
     "data": {
      "text/plain": [
       "0.475"
      ]
     },
     "execution_count": 320,
     "metadata": {},
     "output_type": "execute_result"
    }
   ],
   "source": [
    "clf.score(x_dev, y_dev)"
   ]
  },
  {
   "cell_type": "code",
   "execution_count": 321,
   "id": "a046b9fc",
   "metadata": {},
   "outputs": [
    {
     "data": {
      "text/plain": [
       "1.0"
      ]
     },
     "execution_count": 321,
     "metadata": {},
     "output_type": "execute_result"
    }
   ],
   "source": [
    "clf = QuadraticDiscriminantAnalysis()\n",
    "clf.fit(x_train, y_train)\n",
    "clf.score(x_train, y_train)"
   ]
  },
  {
   "cell_type": "code",
   "execution_count": 322,
   "id": "94bdc8c6",
   "metadata": {},
   "outputs": [
    {
     "data": {
      "text/plain": [
       "0.425"
      ]
     },
     "execution_count": 322,
     "metadata": {},
     "output_type": "execute_result"
    }
   ],
   "source": [
    "clf.score(x_dev, y_dev)"
   ]
  },
  {
   "cell_type": "code",
   "execution_count": 323,
   "id": "ed2ed3c1",
   "metadata": {},
   "outputs": [
    {
     "data": {
      "text/plain": [
       "0.76875"
      ]
     },
     "execution_count": 323,
     "metadata": {},
     "output_type": "execute_result"
    }
   ],
   "source": [
    "clf = LogisticRegression(penalty='l2', solver='lbfgs')\n",
    "clf.fit(x_train, y_train)\n",
    "clf.score(x_train, y_train)"
   ]
  },
  {
   "cell_type": "code",
   "execution_count": 324,
   "id": "65de4226",
   "metadata": {},
   "outputs": [
    {
     "data": {
      "text/plain": [
       "0.4"
      ]
     },
     "execution_count": 324,
     "metadata": {},
     "output_type": "execute_result"
    }
   ],
   "source": [
    "clf.score(x_dev, y_dev)"
   ]
  },
  {
   "cell_type": "code",
   "execution_count": 325,
   "id": "a0865845",
   "metadata": {},
   "outputs": [
    {
     "data": {
      "text/plain": [
       "0.73125"
      ]
     },
     "execution_count": 325,
     "metadata": {},
     "output_type": "execute_result"
    }
   ],
   "source": [
    "clf = LogisticRegression(penalty='l1', solver='liblinear')\n",
    "clf.fit(x_train, y_train)\n",
    "clf.score(x_train, y_train)"
   ]
  },
  {
   "cell_type": "code",
   "execution_count": 326,
   "id": "dc23170c",
   "metadata": {},
   "outputs": [
    {
     "data": {
      "text/plain": [
       "0.35"
      ]
     },
     "execution_count": 326,
     "metadata": {},
     "output_type": "execute_result"
    }
   ],
   "source": [
    "clf.score(x_dev, y_dev)"
   ]
  },
  {
   "cell_type": "code",
   "execution_count": 327,
   "id": "75627bd4",
   "metadata": {},
   "outputs": [
    {
     "data": {
      "text/plain": [
       "0.725"
      ]
     },
     "execution_count": 327,
     "metadata": {},
     "output_type": "execute_result"
    }
   ],
   "source": [
    "clf = GaussianNB()\n",
    "clf.fit(x_train, y_train)\n",
    "clf.score(x_train, y_train)"
   ]
  },
  {
   "cell_type": "code",
   "execution_count": 328,
   "id": "1195faf7",
   "metadata": {},
   "outputs": [
    {
     "data": {
      "text/plain": [
       "0.425"
      ]
     },
     "execution_count": 328,
     "metadata": {},
     "output_type": "execute_result"
    }
   ],
   "source": [
    "clf.score(x_dev, y_dev)"
   ]
  },
  {
   "cell_type": "code",
   "execution_count": 329,
   "id": "bc839513",
   "metadata": {},
   "outputs": [
    {
     "data": {
      "text/plain": [
       "0.675"
      ]
     },
     "execution_count": 329,
     "metadata": {},
     "output_type": "execute_result"
    }
   ],
   "source": [
    "clf = MultinomialNB()\n",
    "\n",
    "# Does not accept negative feature values, so scaling needed\n",
    "x_train_scaled = minmax_scale(x_train, feature_range=(0, 1))\n",
    "\n",
    "clf.fit(x_train_scaled, y_train)\n",
    "clf.score(x_train_scaled, y_train)"
   ]
  },
  {
   "cell_type": "code",
   "execution_count": 330,
   "id": "ac0bf7fc",
   "metadata": {},
   "outputs": [
    {
     "data": {
      "text/plain": [
       "0.425"
      ]
     },
     "execution_count": 330,
     "metadata": {},
     "output_type": "execute_result"
    }
   ],
   "source": [
    "x_dev_scaled = minmax_scale(x_dev, feature_range=(0, 1))\n",
    "clf.score(x_dev_scaled, y_dev)"
   ]
  },
  {
   "cell_type": "code",
   "execution_count": 331,
   "id": "cc1083c6",
   "metadata": {},
   "outputs": [
    {
     "data": {
      "text/plain": [
       "1.0"
      ]
     },
     "execution_count": 331,
     "metadata": {},
     "output_type": "execute_result"
    }
   ],
   "source": [
    "clf = KNeighborsClassifier(n_neighbors=5, weights='distance')\n",
    "clf.fit(x_train, y_train)\n",
    "clf.score(x_train, y_train)"
   ]
  },
  {
   "cell_type": "code",
   "execution_count": 332,
   "id": "66d896bc",
   "metadata": {},
   "outputs": [
    {
     "data": {
      "text/plain": [
       "0.425"
      ]
     },
     "execution_count": 332,
     "metadata": {},
     "output_type": "execute_result"
    }
   ],
   "source": [
    "clf.score(x_dev, y_dev)"
   ]
  },
  {
   "cell_type": "code",
   "execution_count": 333,
   "id": "674ad2bc",
   "metadata": {},
   "outputs": [
    {
     "data": {
      "text/plain": [
       "1.0"
      ]
     },
     "execution_count": 333,
     "metadata": {},
     "output_type": "execute_result"
    }
   ],
   "source": [
    "clf = DecisionTreeClassifier()\n",
    "clf.fit(x_train, y_train)\n",
    "clf.score(x_train, y_train)"
   ]
  },
  {
   "cell_type": "code",
   "execution_count": 334,
   "id": "5693e3bf",
   "metadata": {},
   "outputs": [
    {
     "data": {
      "text/plain": [
       "0.425"
      ]
     },
     "execution_count": 334,
     "metadata": {},
     "output_type": "execute_result"
    }
   ],
   "source": [
    "clf.score(x_dev, y_dev)"
   ]
  },
  {
   "cell_type": "code",
   "execution_count": 335,
   "id": "51f0a662",
   "metadata": {},
   "outputs": [
    {
     "data": {
      "text/plain": [
       "1.0"
      ]
     },
     "execution_count": 335,
     "metadata": {},
     "output_type": "execute_result"
    }
   ],
   "source": [
    "clf = RandomForestClassifier(n_estimators=100)\n",
    "clf.fit(x_train, y_train)\n",
    "clf.score(x_train, y_train)"
   ]
  },
  {
   "cell_type": "code",
   "execution_count": 336,
   "id": "ee18859e",
   "metadata": {},
   "outputs": [
    {
     "data": {
      "text/plain": [
       "0.425"
      ]
     },
     "execution_count": 336,
     "metadata": {},
     "output_type": "execute_result"
    }
   ],
   "source": [
    "clf.score(x_dev, y_dev)"
   ]
  },
  {
   "cell_type": "code",
   "execution_count": 337,
   "id": "aa327063",
   "metadata": {},
   "outputs": [
    {
     "data": {
      "text/plain": [
       "MLPClassifier(activation='relu', alpha=0.0001, batch_size='auto', beta_1=0.9,\n",
       "              beta_2=0.999, early_stopping=False, epsilon=1e-08,\n",
       "              hidden_layer_sizes=30, learning_rate='constant',\n",
       "              learning_rate_init=0.001, max_fun=15000, max_iter=300,\n",
       "              momentum=0.9, n_iter_no_change=10, nesterovs_momentum=True,\n",
       "              power_t=0.5, random_state=None, shuffle=True, solver='lbfgs',\n",
       "              tol=0.0001, validation_fraction=0.1, verbose=False,\n",
       "              warm_start=False)"
      ]
     },
     "execution_count": 337,
     "metadata": {},
     "output_type": "execute_result"
    }
   ],
   "source": [
    "hidden_layer_size = int(x_train.shape[1] / 2)\n",
    "clf = MLPClassifier(hidden_layer_sizes=hidden_layer_size, activation='relu', solver='lbfgs', \n",
    "                    alpha=0.0001, max_iter=300)\n",
    "clf.fit(x_train, y_train)"
   ]
  },
  {
   "cell_type": "code",
   "execution_count": 338,
   "id": "5b8bcdc6",
   "metadata": {},
   "outputs": [
    {
     "data": {
      "text/plain": [
       "1.0"
      ]
     },
     "execution_count": 338,
     "metadata": {},
     "output_type": "execute_result"
    }
   ],
   "source": [
    "clf.score(x_train, y_train)"
   ]
  },
  {
   "cell_type": "code",
   "execution_count": 339,
   "id": "f0a998c1",
   "metadata": {},
   "outputs": [
    {
     "data": {
      "text/plain": [
       "0.425"
      ]
     },
     "execution_count": 339,
     "metadata": {},
     "output_type": "execute_result"
    }
   ],
   "source": [
    "clf.score(x_dev, y_dev)"
   ]
  },
  {
   "cell_type": "code",
   "execution_count": 348,
   "id": "eb774056",
   "metadata": {},
   "outputs": [
    {
     "name": "stdout",
     "output_type": "stream",
     "text": [
      "[0]\teval-mape:inf\ttrain-mape:inf\n",
      "[1]\teval-mape:inf\ttrain-mape:inf\n",
      "[2]\teval-mape:inf\ttrain-mape:inf\n",
      "[3]\teval-mape:inf\ttrain-mape:inf\n",
      "[4]\teval-mape:inf\ttrain-mape:inf\n",
      "[5]\teval-mape:inf\ttrain-mape:inf\n",
      "[6]\teval-mape:inf\ttrain-mape:inf\n",
      "[7]\teval-mape:inf\ttrain-mape:inf\n",
      "[8]\teval-mape:inf\ttrain-mape:inf\n",
      "[9]\teval-mape:inf\ttrain-mape:inf\n"
     ]
    },
    {
     "data": {
      "text/plain": [
       "1.0"
      ]
     },
     "execution_count": 348,
     "metadata": {},
     "output_type": "execute_result"
    }
   ],
   "source": [
    "dtrain = xgb.DMatrix(x_train, label=y_train)\n",
    "ddev = xgb.DMatrix(x_dev, label=y_dev)\n",
    "param = {'objective': 'binary:logistic', 'nthread': 4, 'eval_metric': 'mape', 'base_score': 0.5}\n",
    "num_round = 10\n",
    "evallist = [(ddev, 'eval'), (dtrain, 'train')]\n",
    "bst = xgb.train(param, dtrain, num_round, evallist)\n",
    "y_pred = np.around(bst.predict(dtrain))\n",
    "accuracy_score(y_true=y_train, y_pred=y_pred)"
   ]
  },
  {
   "cell_type": "code",
   "execution_count": 349,
   "id": "fb5d6684",
   "metadata": {},
   "outputs": [
    {
     "data": {
      "text/plain": [
       "0.425"
      ]
     },
     "execution_count": 349,
     "metadata": {},
     "output_type": "execute_result"
    }
   ],
   "source": [
    "y_pred = np.around(bst.predict(ddev))\n",
    "accuracy_score(y_true=y_dev, y_pred=y_pred)"
   ]
  },
  {
   "cell_type": "code",
   "execution_count": null,
   "id": "bd43d1c9",
   "metadata": {},
   "outputs": [],
   "source": []
  }
 ],
 "metadata": {
  "kernelspec": {
   "display_name": "Python 3",
   "language": "python",
   "name": "python3"
  },
  "language_info": {
   "codemirror_mode": {
    "name": "ipython",
    "version": 3
   },
   "file_extension": ".py",
   "mimetype": "text/x-python",
   "name": "python",
   "nbconvert_exporter": "python",
   "pygments_lexer": "ipython3",
   "version": "3.8.5"
  }
 },
 "nbformat": 4,
 "nbformat_minor": 5
}
