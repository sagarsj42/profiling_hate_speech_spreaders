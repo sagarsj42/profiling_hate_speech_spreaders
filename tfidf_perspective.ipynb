{
 "cells": [
  {
   "cell_type": "code",
   "execution_count": 1,
   "id": "efb9dedd",
   "metadata": {},
   "outputs": [],
   "source": [
    "import os\n",
    "import pyarrow.parquet as pq\n",
    "\n",
    "from sklearn.decomposition import PCA\n",
    "from sklearn.decomposition import KernelPCA\n",
    "from sklearn.decomposition import NMF\n",
    "from sklearn.svm import SVC\n",
    "from sklearn.linear_model import LogisticRegression\n",
    "from sklearn.discriminant_analysis import LinearDiscriminantAnalysis\n",
    "from sklearn.naive_bayes import GaussianNB\n",
    "from sklearn.neighbors import KNeighborsClassifier\n",
    "from sklearn.tree import DecisionTreeClassifier\n",
    "from sklearn.ensemble import RandomForestClassifier\n",
    "from sklearn.neural_network import MLPClassifier\n",
    "from sklearn.metrics import accuracy_score\n",
    "\n",
    "import xgboost as xgb\n",
    "\n",
    "from data_io import *\n",
    "from prepare_data import *\n",
    "from perspective_scores_api import extract_perspective_scores_for_authors"
   ]
  },
  {
   "cell_type": "code",
   "execution_count": 2,
   "id": "824ee8ae",
   "metadata": {},
   "outputs": [],
   "source": [
    "def fit_and_print_scores(clf, name, x_train, y_train, x_dev, y_dev):\n",
    "    clf.fit(x_train, y_train)\n",
    "    train_score = clf.score(x_train, y_train)\n",
    "    dev_score = clf.score(x_dev, y_dev)\n",
    "    \n",
    "    print(name, ': -> train = ', train_score, '|  dev = ', dev_score)\n",
    "    \n",
    "    return clf\n",
    "\n",
    "\n",
    "def run_classifiers(x_train, y_train, x_dev, y_dev):\n",
    "    clf = SVC()\n",
    "    fit_and_print_scores(clf, 'SVC', x_train, y_train, x_dev, y_dev)\n",
    "\n",
    "    clf = LogisticRegression()\n",
    "    fit_and_print_scores(clf, 'Logistic Regression', x_train, y_train, x_dev, y_dev)\n",
    "\n",
    "    clf = LinearDiscriminantAnalysis()\n",
    "    fit_and_print_scores(clf, 'LinearDiscriminantAnalysis', x_train, y_train, x_dev, y_dev)\n",
    "\n",
    "    clf = GaussianNB()\n",
    "    fit_and_print_scores(clf, 'GaussianNB', x_train, y_train, x_dev, y_dev)\n",
    "\n",
    "    clf = KNeighborsClassifier(n_neighbors=5, weights='distance')\n",
    "    fit_and_print_scores(clf, 'KNeighborsClassifier', x_train, y_train, x_dev, y_dev)\n",
    "\n",
    "    clf = DecisionTreeClassifier()\n",
    "    fit_and_print_scores(clf, 'DecisionTreeClassifier', x_train, y_train, x_dev, y_dev)\n",
    "\n",
    "    clf = RandomForestClassifier(n_estimators=100)\n",
    "    fit_and_print_scores(clf, 'RandomForestClassifier', x_train, y_train, x_dev, y_dev)\n",
    "\n",
    "    hidden_layer_size = 20\n",
    "    clf = MLPClassifier(hidden_layer_sizes=hidden_layer_size, activation='relu', solver='adam', \n",
    "                        alpha=0.0001, learning_rate_init=0.001, max_iter=1000)\n",
    "    clf.fit(x_train, y_train)\n",
    "    fit_and_print_scores(clf, 'MLPClassifier', x_train, y_train, x_dev, y_dev)\n",
    "\n",
    "    dtrain = xgb.DMatrix(x_train, label=y_train)\n",
    "    ddev = xgb.DMatrix(x_dev, label=y_dev)\n",
    "    param = {'objective': 'binary:logistic', 'nthread': 4, 'eval_metric': 'mape', 'base_score': 0.5}\n",
    "    num_round = 10\n",
    "    evallist = [(ddev, 'eval'), (dtrain, 'train')]\n",
    "    bst = xgb.train(param, dtrain, num_round, evallist)\n",
    "    y_pred = np.around(bst.predict(dtrain))\n",
    "    train_score = accuracy_score(y_true=y_train, y_pred=y_pred)\n",
    "    y_pred = np.around(bst.predict(ddev))\n",
    "    dev_score = accuracy_score(y_true=y_dev, y_pred=y_pred)\n",
    "    print('XGBoost', ': -> train = ', train_score, '|  dev = ', dev_score)\n",
    "    \n",
    "    return"
   ]
  },
  {
   "cell_type": "code",
   "execution_count": 3,
   "id": "18401ea3",
   "metadata": {},
   "outputs": [],
   "source": [
    "data_dir = os.path.join('..', 'data', 'pan21-author-profiling-training-2021-03-14')\n",
    "op_dir = os.path.join('..', 'res', 'preds')\n",
    "df_columns = ['author_id', 'tweet', 'label']"
   ]
  },
  {
   "cell_type": "markdown",
   "id": "5672c24e",
   "metadata": {},
   "source": [
    "## English Data"
   ]
  },
  {
   "cell_type": "code",
   "execution_count": 4,
   "id": "2f512413",
   "metadata": {},
   "outputs": [
    {
     "data": {
      "text/plain": [
       "((32000, 3), (8000, 3))"
      ]
     },
     "execution_count": 4,
     "metadata": {},
     "output_type": "execute_result"
    }
   ],
   "source": [
    "#en_df = create_df(data_dir, lang='en', df_columns=df_columns)\n",
    "en_df = pq.read_table(os.path.join(data_dir, 'en_df.parquet')).to_pandas()\n",
    "en_train, en_dev = get_single_split(en_df, data_dir, lang='en')\n",
    "en_train.shape, en_dev.shape"
   ]
  },
  {
   "cell_type": "code",
   "execution_count": 5,
   "id": "88ee9980",
   "metadata": {},
   "outputs": [
    {
     "data": {
      "text/html": [
       "<div>\n",
       "<style scoped>\n",
       "    .dataframe tbody tr th:only-of-type {\n",
       "        vertical-align: middle;\n",
       "    }\n",
       "\n",
       "    .dataframe tbody tr th {\n",
       "        vertical-align: top;\n",
       "    }\n",
       "\n",
       "    .dataframe thead th {\n",
       "        text-align: right;\n",
       "    }\n",
       "</style>\n",
       "<table border=\"1\" class=\"dataframe\">\n",
       "  <thead>\n",
       "    <tr style=\"text-align: right;\">\n",
       "      <th></th>\n",
       "      <th>author_id</th>\n",
       "      <th>tweet</th>\n",
       "      <th>label</th>\n",
       "    </tr>\n",
       "  </thead>\n",
       "  <tbody>\n",
       "    <tr>\n",
       "      <th>200</th>\n",
       "      <td>06893abba0bb8f94fed7562350233ed7</td>\n",
       "      <td>Romanian graftbuster’s firing violated rights,...</td>\n",
       "      <td>0</td>\n",
       "    </tr>\n",
       "    <tr>\n",
       "      <th>201</th>\n",
       "      <td>06893abba0bb8f94fed7562350233ed7</td>\n",
       "      <td>Russian ventilators sent to U.S. made by firm ...</td>\n",
       "      <td>0</td>\n",
       "    </tr>\n",
       "    <tr>\n",
       "      <th>202</th>\n",
       "      <td>06893abba0bb8f94fed7562350233ed7</td>\n",
       "      <td>Hezbollah prevented ISIS from reaching Europe:...</td>\n",
       "      <td>0</td>\n",
       "    </tr>\n",
       "    <tr>\n",
       "      <th>203</th>\n",
       "      <td>06893abba0bb8f94fed7562350233ed7</td>\n",
       "      <td>Epidemiologist Dr Knut Wittkowski: ‘Lockdown H...</td>\n",
       "      <td>0</td>\n",
       "    </tr>\n",
       "    <tr>\n",
       "      <th>204</th>\n",
       "      <td>06893abba0bb8f94fed7562350233ed7</td>\n",
       "      <td>China refuses to let WHO investigate truth beh...</td>\n",
       "      <td>0</td>\n",
       "    </tr>\n",
       "  </tbody>\n",
       "</table>\n",
       "</div>"
      ],
      "text/plain": [
       "                            author_id  \\\n",
       "200  06893abba0bb8f94fed7562350233ed7   \n",
       "201  06893abba0bb8f94fed7562350233ed7   \n",
       "202  06893abba0bb8f94fed7562350233ed7   \n",
       "203  06893abba0bb8f94fed7562350233ed7   \n",
       "204  06893abba0bb8f94fed7562350233ed7   \n",
       "\n",
       "                                                 tweet  label  \n",
       "200  Romanian graftbuster’s firing violated rights,...      0  \n",
       "201  Russian ventilators sent to U.S. made by firm ...      0  \n",
       "202  Hezbollah prevented ISIS from reaching Europe:...      0  \n",
       "203  Epidemiologist Dr Knut Wittkowski: ‘Lockdown H...      0  \n",
       "204  China refuses to let WHO investigate truth beh...      0  "
      ]
     },
     "execution_count": 5,
     "metadata": {},
     "output_type": "execute_result"
    }
   ],
   "source": [
    "en_train.head()"
   ]
  },
  {
   "cell_type": "code",
   "execution_count": 6,
   "id": "0f105a4c",
   "metadata": {},
   "outputs": [
    {
     "data": {
      "text/plain": [
       "((160, 160), (160, 21272), (160,))"
      ]
     },
     "execution_count": 6,
     "metadata": {},
     "output_type": "execute_result"
    }
   ],
   "source": [
    "x_train_persp = extract_perspective_scores_for_authors(en_train, data_dir, lang='en', steps=20)\n",
    "x_train_tfidf, y_train, en_vec = prepare_xy(en_train, tweet_feature_method=prepare_tweets_using_tfidf, lang='en',\n",
    "                           return_y=True, usr_len=200, is_train=True, vec=None)\n",
    "x_train_persp.shape, x_train_tfidf.shape, y_train.shape"
   ]
  },
  {
   "cell_type": "code",
   "execution_count": 7,
   "id": "8e3e9e4c",
   "metadata": {},
   "outputs": [
    {
     "data": {
      "text/plain": [
       "(160, 21432)"
      ]
     },
     "execution_count": 7,
     "metadata": {},
     "output_type": "execute_result"
    }
   ],
   "source": [
    "x_train = np.concatenate((x_train_persp, x_train_tfidf.toarray()), axis=1)\n",
    "x_train.shape"
   ]
  },
  {
   "cell_type": "code",
   "execution_count": 8,
   "id": "75cdbfb6",
   "metadata": {},
   "outputs": [
    {
     "data": {
      "text/plain": [
       "((40, 160), (40, 21272), (40,))"
      ]
     },
     "execution_count": 8,
     "metadata": {},
     "output_type": "execute_result"
    }
   ],
   "source": [
    "x_dev_persp = extract_perspective_scores_for_authors(en_dev, data_dir, lang='en', steps=20)\n",
    "x_dev_tfidf, y_dev, _ = prepare_xy(en_dev, tweet_feature_method=prepare_tweets_using_tfidf, lang='en',\n",
    "                           return_y=True, usr_len=200, is_train=False, vec=en_vec)\n",
    "x_dev_persp.shape, x_dev_tfidf.shape, y_dev.shape"
   ]
  },
  {
   "cell_type": "code",
   "execution_count": 9,
   "id": "5fc2c0cd",
   "metadata": {},
   "outputs": [
    {
     "data": {
      "text/plain": [
       "(40, 21432)"
      ]
     },
     "execution_count": 9,
     "metadata": {},
     "output_type": "execute_result"
    }
   ],
   "source": [
    "x_dev = np.concatenate((x_dev_persp, x_dev_tfidf.toarray()), axis=1)\n",
    "x_dev.shape"
   ]
  },
  {
   "cell_type": "markdown",
   "id": "4643050e",
   "metadata": {},
   "source": [
    "### All Features"
   ]
  },
  {
   "cell_type": "code",
   "execution_count": 10,
   "id": "161a7e4c",
   "metadata": {},
   "outputs": [
    {
     "name": "stdout",
     "output_type": "stream",
     "text": [
      "SVC : -> train =  0.75 |  dev =  0.675\n",
      "Logistic Regression : -> train =  0.9375 |  dev =  0.725\n",
      "LinearDiscriminantAnalysis : -> train =  0.8625 |  dev =  0.575\n",
      "GaussianNB : -> train =  1.0 |  dev =  0.725\n",
      "KNeighborsClassifier : -> train =  1.0 |  dev =  0.65\n",
      "DecisionTreeClassifier : -> train =  1.0 |  dev =  0.625\n",
      "RandomForestClassifier : -> train =  1.0 |  dev =  0.675\n",
      "MLPClassifier : -> train =  1.0 |  dev =  0.75\n",
      "[0]\teval-mape:inf\ttrain-mape:inf\n",
      "[1]\teval-mape:inf\ttrain-mape:inf\n",
      "[2]\teval-mape:inf\ttrain-mape:inf\n",
      "[3]\teval-mape:inf\ttrain-mape:inf\n",
      "[4]\teval-mape:inf\ttrain-mape:inf\n",
      "[5]\teval-mape:inf\ttrain-mape:inf\n",
      "[6]\teval-mape:inf\ttrain-mape:inf\n",
      "[7]\teval-mape:inf\ttrain-mape:inf\n",
      "[8]\teval-mape:inf\ttrain-mape:inf\n",
      "[9]\teval-mape:inf\ttrain-mape:inf\n",
      "XGBoost : -> train =  1.0 |  dev =  0.75\n"
     ]
    }
   ],
   "source": [
    "run_classifiers(x_train, y_train, x_dev, y_dev)"
   ]
  },
  {
   "cell_type": "markdown",
   "id": "75bbe259",
   "metadata": {},
   "source": [
    "### PCA"
   ]
  },
  {
   "cell_type": "code",
   "execution_count": 11,
   "id": "3d93357c",
   "metadata": {},
   "outputs": [
    {
     "name": "stdout",
     "output_type": "stream",
     "text": [
      "(160, 150) (40, 150)\n"
     ]
    },
    {
     "data": {
      "text/plain": [
       "array([26.29147186,  7.89351222,  7.1861139 ,  7.06663141,  6.63726251,\n",
       "        6.43951781,  6.28157013,  6.03197852,  5.9558171 ,  5.8546631 ,\n",
       "        5.64424455,  5.52427195,  5.39060644,  5.15839657,  4.99804256,\n",
       "        4.89681144,  4.73572564,  4.55696296,  4.46976193,  4.32895296,\n",
       "        4.20240271,  3.91079196,  3.60456092,  3.46442572,  3.2779889 ,\n",
       "        3.15869641,  3.07719332,  3.01440373,  2.99642844,  2.866378  ,\n",
       "        2.84750655,  2.80796788,  2.78055358,  2.75135562,  2.67509308,\n",
       "        2.64517652,  2.61810081,  2.57066016,  2.53291551,  2.48809138,\n",
       "        2.42565624,  2.3756952 ,  2.34625576,  2.30874411,  2.27306876,\n",
       "        2.2567691 ,  2.22952165,  2.1823069 ,  2.16851625,  2.1358046 ,\n",
       "        2.11881357,  2.09768744,  2.07380189,  2.03853751,  2.00470971,\n",
       "        1.98559964,  1.93668805,  1.91900062,  1.88430523,  1.86732307,\n",
       "        1.85239624,  1.80711147,  1.77064697,  1.75900136,  1.72124969,\n",
       "        1.70936101,  1.69122559,  1.66495474,  1.64965366,  1.59062083,\n",
       "        1.57636699,  1.53853215,  1.51870274,  1.49887906,  1.48627444,\n",
       "        1.46376431,  1.44397722,  1.43407525,  1.42052349,  1.38111367,\n",
       "        1.37280306,  1.35296655,  1.34024132,  1.31739912,  1.30674165,\n",
       "        1.30192774,  1.28783486,  1.2760573 ,  1.27025579,  1.24843665,\n",
       "        1.23271634,  1.22788003,  1.20943352,  1.19623007,  1.18391569,\n",
       "        1.17351694,  1.16062213,  1.14793751,  1.13957021,  1.12684437,\n",
       "        1.12496992,  1.10936064,  1.10257717,  1.09557778,  1.0882838 ,\n",
       "        1.0852691 ,  1.06427815,  1.05314615,  1.04731153,  1.03836538,\n",
       "        1.03314752,  1.02452574,  1.02354402,  1.01873097,  1.00972926,\n",
       "        1.00656505,  0.99901275,  0.99290765,  0.98880721,  0.98515381,\n",
       "        0.97676625,  0.97047348,  0.96390933,  0.96040855,  0.95556068,\n",
       "        0.95117289,  0.94669416,  0.94418471,  0.93842223,  0.92951813,\n",
       "        0.92857622,  0.91996318,  0.91722957,  0.91513823,  0.91386541,\n",
       "        0.91056989,  0.90730947,  0.89758484,  0.89516791,  0.8912532 ,\n",
       "        0.88714776,  0.88180775,  0.8790978 ,  0.87411461,  0.86850395,\n",
       "        0.86639512,  0.86273094,  0.85793645,  0.85661588,  0.85081792])"
      ]
     },
     "execution_count": 11,
     "metadata": {},
     "output_type": "execute_result"
    }
   ],
   "source": [
    "n_components = 150\n",
    "pca = PCA(n_components=n_components, svd_solver='full')\n",
    "x_train_p = pca.fit_transform(x_train)\n",
    "x_dev_p = pca.transform(x_dev)\n",
    "print(x_train_p.shape, x_dev_p.shape)\n",
    "pca.singular_values_"
   ]
  },
  {
   "cell_type": "code",
   "execution_count": 12,
   "id": "3e669728",
   "metadata": {},
   "outputs": [
    {
     "name": "stdout",
     "output_type": "stream",
     "text": [
      "SVC : -> train =  0.95 |  dev =  0.725\n",
      "Logistic Regression : -> train =  0.9375 |  dev =  0.775\n",
      "LinearDiscriminantAnalysis : -> train =  1.0 |  dev =  0.65\n",
      "GaussianNB : -> train =  0.95 |  dev =  0.625\n",
      "KNeighborsClassifier : -> train =  1.0 |  dev =  0.675\n",
      "DecisionTreeClassifier : -> train =  1.0 |  dev =  0.775\n",
      "RandomForestClassifier : -> train =  1.0 |  dev =  0.7\n",
      "MLPClassifier : -> train =  1.0 |  dev =  0.7\n",
      "[0]\teval-mape:inf\ttrain-mape:inf\n",
      "[1]\teval-mape:inf\ttrain-mape:inf\n",
      "[2]\teval-mape:inf\ttrain-mape:inf\n",
      "[3]\teval-mape:inf\ttrain-mape:inf\n",
      "[4]\teval-mape:inf\ttrain-mape:inf\n",
      "[5]\teval-mape:inf\ttrain-mape:inf\n",
      "[6]\teval-mape:inf\ttrain-mape:inf\n",
      "[7]\teval-mape:inf\ttrain-mape:inf\n",
      "[8]\teval-mape:inf\ttrain-mape:inf\n",
      "[9]\teval-mape:inf\ttrain-mape:inf\n",
      "XGBoost : -> train =  1.0 |  dev =  0.7\n"
     ]
    }
   ],
   "source": [
    "run_classifiers(x_train_p, y_train, x_dev_p, y_dev)"
   ]
  },
  {
   "cell_type": "markdown",
   "id": "0480daca",
   "metadata": {},
   "source": [
    "### PCA - PCA"
   ]
  },
  {
   "cell_type": "code",
   "execution_count": 13,
   "id": "d75a707f",
   "metadata": {},
   "outputs": [
    {
     "name": "stdout",
     "output_type": "stream",
     "text": [
      "(160, 60) (40, 60)\n",
      "[26.19382969  7.83508751  7.10265551  6.97600428  6.55426293  6.36509136\n",
      "  6.20802854  5.95206833  5.86963011  5.77430962  5.56067101  5.43460676\n",
      "  5.30549088  5.06903537  4.90511163  4.81436008  4.64481584  4.46325598\n",
      "  4.36193513  4.22569465  4.09509179  3.80768813  3.4514503   3.3350317\n",
      "  3.14021894  2.99495971  2.93743654  2.86905819  2.83695026  2.71634341\n",
      "  2.68874415  2.64934544  2.61997657  2.55876661  2.50754807  2.47601816\n",
      "  2.43672051  2.40817307  2.36182404  2.29694776  2.2421081   2.19225205\n",
      "  2.15617101  2.12744053  2.08958321  2.04318623  2.02566307  1.98751921\n",
      "  1.96672489  1.92258272  1.90523377  1.89204672  1.86143007  1.8233823\n",
      "  1.75946473  1.74126904  1.70622589  1.67897042  1.6426074   1.60870548]\n",
      "(160, 160) (40, 160)\n",
      "[2.78780047e+00 1.70684847e+00 1.46312205e+00 1.41228093e+00\n",
      " 1.32122297e+00 1.29168040e+00 1.26514358e+00 1.19676899e+00\n",
      " 1.17291601e+00 1.15915979e+00 1.14118061e+00 1.11859197e+00\n",
      " 1.11372634e+00 1.10888053e+00 1.09084617e+00 1.08938515e+00\n",
      " 1.07189473e+00 1.06253317e+00 1.05646084e+00 1.04599714e+00\n",
      " 1.03171737e+00 1.02782214e+00 1.02575937e+00 1.02230201e+00\n",
      " 1.01662773e+00 1.01225812e+00 1.00899767e+00 1.00191435e+00\n",
      " 9.99294228e-01 9.97762765e-01 9.95252103e-01 9.92145346e-01\n",
      " 9.89307984e-01 9.87853435e-01 9.82984328e-01 9.78097248e-01\n",
      " 9.75840743e-01 9.73880570e-01 9.73160962e-01 9.69572278e-01\n",
      " 9.68241514e-01 9.65764872e-01 9.62378057e-01 9.60224307e-01\n",
      " 9.58441791e-01 9.57656799e-01 9.53349114e-01 9.50500300e-01\n",
      " 9.49102226e-01 9.47563847e-01 9.44231493e-01 9.41144240e-01\n",
      " 9.39683259e-01 9.38417394e-01 9.35355099e-01 9.33113401e-01\n",
      " 9.31386814e-01 9.30503650e-01 9.29104773e-01 9.26974095e-01\n",
      " 9.24950336e-01 9.23005833e-01 9.19859533e-01 9.18997256e-01\n",
      " 9.17971796e-01 9.15015931e-01 9.12615163e-01 9.11751466e-01\n",
      " 9.09634958e-01 9.07413602e-01 9.05980759e-01 9.02327682e-01\n",
      " 9.02157486e-01 9.00394784e-01 8.97345810e-01 8.94948810e-01\n",
      " 8.93833119e-01 8.91579603e-01 8.89736409e-01 8.88855823e-01\n",
      " 8.86771925e-01 8.86276049e-01 8.84937830e-01 8.81884426e-01\n",
      " 8.79475474e-01 8.77886118e-01 8.76125223e-01 8.75391826e-01\n",
      " 8.72791478e-01 8.70230422e-01 8.69181417e-01 8.67483661e-01\n",
      " 8.66250486e-01 8.63388661e-01 8.62592535e-01 8.60307317e-01\n",
      " 8.58274766e-01 8.57065526e-01 8.55129766e-01 8.53051698e-01\n",
      " 8.52637843e-01 8.50375870e-01 8.49221745e-01 8.46387759e-01\n",
      " 8.43949180e-01 8.43368679e-01 8.39731439e-01 8.37050105e-01\n",
      " 8.34838038e-01 8.32313352e-01 8.31755566e-01 8.30232679e-01\n",
      " 8.28379033e-01 8.28181321e-01 8.23787647e-01 8.20795362e-01\n",
      " 8.18387318e-01 8.16470223e-01 8.12706747e-01 8.11899877e-01\n",
      " 8.09096414e-01 8.05551640e-01 8.04723231e-01 8.01819511e-01\n",
      " 8.00589328e-01 7.99684948e-01 7.99329953e-01 7.96181909e-01\n",
      " 7.91430111e-01 7.89309159e-01 7.85878711e-01 7.84072196e-01\n",
      " 7.80335152e-01 7.77824295e-01 7.72589055e-01 7.71264254e-01\n",
      " 7.70447979e-01 7.68838277e-01 7.62476145e-01 7.60692629e-01\n",
      " 7.58658707e-01 7.53972758e-01 7.51617650e-01 7.47071886e-01\n",
      " 7.40986421e-01 7.40036652e-01 7.37314232e-01 7.28028254e-01\n",
      " 7.23275083e-01 7.17667780e-01 7.14415894e-01 7.07364668e-01\n",
      " 7.01583289e-01 6.95161483e-01 6.80218111e-01 6.71625329e-01\n",
      " 6.57272352e-01 6.17774284e-01 2.00610371e-01 2.76974244e-15]\n"
     ]
    },
    {
     "data": {
      "text/plain": [
       "((160, 220), (40, 220))"
      ]
     },
     "execution_count": 13,
     "metadata": {},
     "output_type": "execute_result"
    }
   ],
   "source": [
    "n_components = 60\n",
    "pca = PCA(n_components=n_components, svd_solver='full')\n",
    "x_train_persp_p = pca.fit_transform(x_train_persp)\n",
    "x_dev_persp_p = pca.transform(x_dev_persp)\n",
    "print(x_train_persp_p.shape, x_dev_persp_p.shape)\n",
    "print(pca.singular_values_)\n",
    "\n",
    "n_components = 160\n",
    "pca = PCA(n_components=n_components, svd_solver='full')\n",
    "x_train_tfidf_p = pca.fit_transform(x_train_tfidf.toarray())\n",
    "x_dev_tfidf_p = pca.transform(x_dev_tfidf.toarray())\n",
    "print(x_train_tfidf_p.shape, x_dev_tfidf_p.shape)\n",
    "print(pca.singular_values_)\n",
    "\n",
    "x_train_p_p = np.concatenate((x_train_persp_p, x_train_tfidf_p), axis=1)\n",
    "x_dev_p_p = np.concatenate((x_dev_persp_p, x_dev_tfidf_p), axis=1)\n",
    "x_train_p_p.shape, x_dev_p_p.shape"
   ]
  },
  {
   "cell_type": "code",
   "execution_count": 14,
   "id": "e39d1c80",
   "metadata": {},
   "outputs": [
    {
     "name": "stdout",
     "output_type": "stream",
     "text": [
      "SVC : -> train =  0.95 |  dev =  0.725\n",
      "Logistic Regression : -> train =  0.925 |  dev =  0.775\n",
      "LinearDiscriminantAnalysis : -> train =  0.61875 |  dev =  0.4\n",
      "GaussianNB : -> train =  0.8125 |  dev =  0.725\n",
      "KNeighborsClassifier : -> train =  1.0 |  dev =  0.675\n",
      "DecisionTreeClassifier : -> train =  1.0 |  dev =  0.6\n",
      "RandomForestClassifier : -> train =  1.0 |  dev =  0.7\n",
      "MLPClassifier : -> train =  1.0 |  dev =  0.825\n",
      "[0]\teval-mape:inf\ttrain-mape:inf\n",
      "[1]\teval-mape:inf\ttrain-mape:inf\n",
      "[2]\teval-mape:inf\ttrain-mape:inf\n",
      "[3]\teval-mape:inf\ttrain-mape:inf\n",
      "[4]\teval-mape:inf\ttrain-mape:inf\n",
      "[5]\teval-mape:inf\ttrain-mape:inf\n",
      "[6]\teval-mape:inf\ttrain-mape:inf\n",
      "[7]\teval-mape:inf\ttrain-mape:inf\n",
      "[8]\teval-mape:inf\ttrain-mape:inf\n",
      "[9]\teval-mape:inf\ttrain-mape:inf\n",
      "XGBoost : -> train =  1.0 |  dev =  0.675\n"
     ]
    }
   ],
   "source": [
    "run_classifiers(x_train_p_p, y_train, x_dev_p_p, y_dev)"
   ]
  },
  {
   "cell_type": "markdown",
   "id": "7dd47efd",
   "metadata": {},
   "source": [
    "## Spanish Data"
   ]
  },
  {
   "cell_type": "code",
   "execution_count": 15,
   "id": "89895050",
   "metadata": {},
   "outputs": [
    {
     "data": {
      "text/plain": [
       "((32000, 3), (8000, 3))"
      ]
     },
     "execution_count": 15,
     "metadata": {},
     "output_type": "execute_result"
    }
   ],
   "source": [
    "#es_df = create_df(data_dir, lang='es', df_columns=df_columns)\n",
    "es_df = pq.read_table(os.path.join(data_dir, 'es_df.parquet')).to_pandas()\n",
    "es_train, es_dev = get_single_split(es_df, data_dir, lang='es')\n",
    "es_train.shape, es_dev.shape"
   ]
  },
  {
   "cell_type": "code",
   "execution_count": 16,
   "id": "892208e5",
   "metadata": {},
   "outputs": [
    {
     "data": {
      "text/html": [
       "<div>\n",
       "<style scoped>\n",
       "    .dataframe tbody tr th:only-of-type {\n",
       "        vertical-align: middle;\n",
       "    }\n",
       "\n",
       "    .dataframe tbody tr th {\n",
       "        vertical-align: top;\n",
       "    }\n",
       "\n",
       "    .dataframe thead th {\n",
       "        text-align: right;\n",
       "    }\n",
       "</style>\n",
       "<table border=\"1\" class=\"dataframe\">\n",
       "  <thead>\n",
       "    <tr style=\"text-align: right;\">\n",
       "      <th></th>\n",
       "      <th>author_id</th>\n",
       "      <th>tweet</th>\n",
       "      <th>label</th>\n",
       "    </tr>\n",
       "  </thead>\n",
       "  <tbody>\n",
       "    <tr>\n",
       "      <th>0</th>\n",
       "      <td>0035a3060d075506f5b9b978a910aa1f</td>\n",
       "      <td>#USER# pasta con bichos de agua</td>\n",
       "      <td>0</td>\n",
       "    </tr>\n",
       "    <tr>\n",
       "      <th>1</th>\n",
       "      <td>0035a3060d075506f5b9b978a910aa1f</td>\n",
       "      <td>De verdad puto lol de mierda qué asco de juego...</td>\n",
       "      <td>0</td>\n",
       "    </tr>\n",
       "    <tr>\n",
       "      <th>2</th>\n",
       "      <td>0035a3060d075506f5b9b978a910aa1f</td>\n",
       "      <td>RT #USER#: me hice una pcr y ya tengo los resu...</td>\n",
       "      <td>0</td>\n",
       "    </tr>\n",
       "    <tr>\n",
       "      <th>3</th>\n",
       "      <td>0035a3060d075506f5b9b978a910aa1f</td>\n",
       "      <td>Y un lomo queso de baguette entera, tranqui #URL#</td>\n",
       "      <td>0</td>\n",
       "    </tr>\n",
       "    <tr>\n",
       "      <th>4</th>\n",
       "      <td>0035a3060d075506f5b9b978a910aa1f</td>\n",
       "      <td>Me cambio de curro y me llegan 3 ofertas direc...</td>\n",
       "      <td>0</td>\n",
       "    </tr>\n",
       "  </tbody>\n",
       "</table>\n",
       "</div>"
      ],
      "text/plain": [
       "                          author_id  \\\n",
       "0  0035a3060d075506f5b9b978a910aa1f   \n",
       "1  0035a3060d075506f5b9b978a910aa1f   \n",
       "2  0035a3060d075506f5b9b978a910aa1f   \n",
       "3  0035a3060d075506f5b9b978a910aa1f   \n",
       "4  0035a3060d075506f5b9b978a910aa1f   \n",
       "\n",
       "                                               tweet  label  \n",
       "0                    #USER# pasta con bichos de agua      0  \n",
       "1  De verdad puto lol de mierda qué asco de juego...      0  \n",
       "2  RT #USER#: me hice una pcr y ya tengo los resu...      0  \n",
       "3  Y un lomo queso de baguette entera, tranqui #URL#      0  \n",
       "4  Me cambio de curro y me llegan 3 ofertas direc...      0  "
      ]
     },
     "execution_count": 16,
     "metadata": {},
     "output_type": "execute_result"
    }
   ],
   "source": [
    "es_train.head()"
   ]
  },
  {
   "cell_type": "code",
   "execution_count": 17,
   "id": "a1387c3c",
   "metadata": {},
   "outputs": [
    {
     "data": {
      "text/plain": [
       "((160, 120), (160, 34833), (160,))"
      ]
     },
     "execution_count": 17,
     "metadata": {},
     "output_type": "execute_result"
    }
   ],
   "source": [
    "x_train_persp = extract_perspective_scores_for_authors(es_train, data_dir, lang='es', steps=20)\n",
    "x_train_tfidf, y_train, es_vec = prepare_xy(es_train, tweet_feature_method=prepare_tweets_using_tfidf, lang='es',\n",
    "                           return_y=True, usr_len=200, is_train=True, vec=None)\n",
    "x_train_persp.shape, x_train_tfidf.shape, y_train.shape"
   ]
  },
  {
   "cell_type": "code",
   "execution_count": 18,
   "id": "0ff5ddd8",
   "metadata": {},
   "outputs": [
    {
     "data": {
      "text/plain": [
       "(160, 34953)"
      ]
     },
     "execution_count": 18,
     "metadata": {},
     "output_type": "execute_result"
    }
   ],
   "source": [
    "x_train = np.concatenate((x_train_persp, x_train_tfidf.toarray()), axis=1)\n",
    "x_train.shape"
   ]
  },
  {
   "cell_type": "code",
   "execution_count": 19,
   "id": "98a16fb4",
   "metadata": {},
   "outputs": [
    {
     "data": {
      "text/plain": [
       "((40, 120), (40, 34833), (40,))"
      ]
     },
     "execution_count": 19,
     "metadata": {},
     "output_type": "execute_result"
    }
   ],
   "source": [
    "x_dev_persp = extract_perspective_scores_for_authors(es_dev, data_dir, lang='es', steps=20)\n",
    "x_dev_tfidf, y_dev, _ = prepare_xy(es_dev, tweet_feature_method=prepare_tweets_using_tfidf, lang='es',\n",
    "                           return_y=True, usr_len=200, is_train=False, vec=es_vec)\n",
    "x_dev_persp.shape, x_dev_tfidf.shape, y_dev.shape"
   ]
  },
  {
   "cell_type": "code",
   "execution_count": 20,
   "id": "25ff15f2",
   "metadata": {},
   "outputs": [
    {
     "data": {
      "text/plain": [
       "(40, 34953)"
      ]
     },
     "execution_count": 20,
     "metadata": {},
     "output_type": "execute_result"
    }
   ],
   "source": [
    "x_dev = np.concatenate((x_dev_persp, x_dev_tfidf.toarray()), axis=1)\n",
    "x_dev.shape"
   ]
  },
  {
   "cell_type": "markdown",
   "id": "841b31c6",
   "metadata": {},
   "source": [
    "### All Features"
   ]
  },
  {
   "cell_type": "code",
   "execution_count": 21,
   "id": "3bcdb6a2",
   "metadata": {},
   "outputs": [
    {
     "name": "stdout",
     "output_type": "stream",
     "text": [
      "SVC : -> train =  0.84375 |  dev =  0.825\n",
      "Logistic Regression : -> train =  0.9 |  dev =  0.825\n",
      "LinearDiscriminantAnalysis : -> train =  0.7375 |  dev =  0.8\n",
      "GaussianNB : -> train =  1.0 |  dev =  0.8\n",
      "KNeighborsClassifier : -> train =  1.0 |  dev =  0.75\n",
      "DecisionTreeClassifier : -> train =  1.0 |  dev =  0.725\n",
      "RandomForestClassifier : -> train =  1.0 |  dev =  0.8\n",
      "MLPClassifier : -> train =  1.0 |  dev =  0.875\n",
      "[0]\teval-mape:inf\ttrain-mape:inf\n",
      "[1]\teval-mape:inf\ttrain-mape:inf\n",
      "[2]\teval-mape:inf\ttrain-mape:inf\n",
      "[3]\teval-mape:inf\ttrain-mape:inf\n",
      "[4]\teval-mape:inf\ttrain-mape:inf\n",
      "[5]\teval-mape:inf\ttrain-mape:inf\n",
      "[6]\teval-mape:inf\ttrain-mape:inf\n",
      "[7]\teval-mape:inf\ttrain-mape:inf\n",
      "[8]\teval-mape:inf\ttrain-mape:inf\n",
      "[9]\teval-mape:inf\ttrain-mape:inf\n",
      "XGBoost : -> train =  1.0 |  dev =  0.775\n"
     ]
    }
   ],
   "source": [
    "run_classifiers(x_train, y_train, x_dev, y_dev)"
   ]
  },
  {
   "cell_type": "markdown",
   "id": "0f213fe3",
   "metadata": {},
   "source": [
    "### PCA"
   ]
  },
  {
   "cell_type": "code",
   "execution_count": 22,
   "id": "49b9ce38",
   "metadata": {},
   "outputs": [
    {
     "name": "stdout",
     "output_type": "stream",
     "text": [
      "(160, 150) (40, 150)\n"
     ]
    },
    {
     "data": {
      "text/plain": [
       "array([20.89626911,  8.09456632,  7.00516292,  6.96457061,  6.62599988,\n",
       "        6.33673761,  6.20809503,  6.09879187,  5.93224175,  5.54020067,\n",
       "        5.49205014,  5.34593299,  5.30326712,  5.12742299,  4.85370965,\n",
       "        4.62480257,  4.54380143,  4.3820815 ,  4.21724943,  4.00674233,\n",
       "        3.69482155,  3.61155168,  2.93163516,  2.90895913,  2.71891407,\n",
       "        2.64328871,  2.58776863,  2.56068026,  2.41197468,  2.3642625 ,\n",
       "        2.33300257,  2.28644073,  2.24930084,  2.19665349,  2.09607915,\n",
       "        2.07307792,  2.03361732,  2.02524551,  1.94777377,  1.88081232,\n",
       "        1.84097723,  1.83041072,  1.8127762 ,  1.79449199,  1.74446406,\n",
       "        1.70551498,  1.68430999,  1.66624004,  1.61154366,  1.59354796,\n",
       "        1.56040979,  1.54027011,  1.5223149 ,  1.50341524,  1.45202614,\n",
       "        1.42815932,  1.42062347,  1.38969869,  1.379727  ,  1.34130924,\n",
       "        1.32205039,  1.28454687,  1.25268499,  1.23075418,  1.21509387,\n",
       "        1.20220478,  1.18537535,  1.16573449,  1.15069684,  1.11876873,\n",
       "        1.10191428,  1.08537214,  1.05862204,  1.04446971,  1.01973847,\n",
       "        1.01300217,  1.00320037,  0.99612329,  0.96557284,  0.95578222,\n",
       "        0.93285768,  0.91566497,  0.89909527,  0.89160801,  0.87046559,\n",
       "        0.87023972,  0.86292188,  0.84520483,  0.83113039,  0.8271393 ,\n",
       "        0.81857346,  0.79324731,  0.78950329,  0.78722499,  0.77805418,\n",
       "        0.77078425,  0.76655314,  0.75931773,  0.74820201,  0.74357878,\n",
       "        0.73245719,  0.72644566,  0.72461603,  0.71788519,  0.71360075,\n",
       "        0.70340976,  0.69602724,  0.6925969 ,  0.68518937,  0.68420556,\n",
       "        0.67707905,  0.67326066,  0.66795103,  0.66265988,  0.65709165,\n",
       "        0.65229575,  0.64911358,  0.6476131 ,  0.64289171,  0.64095   ,\n",
       "        0.63760667,  0.63567369,  0.63305373,  0.63195477,  0.62644174,\n",
       "        0.62220353,  0.61920173,  0.61681775,  0.61026802,  0.60807623,\n",
       "        0.60472469,  0.5984516 ,  0.5969127 ,  0.59514739,  0.59490707,\n",
       "        0.5917027 ,  0.5876028 ,  0.58510673,  0.58398564,  0.58184891,\n",
       "        0.57939623,  0.57714872,  0.57296399,  0.57074253,  0.56791978,\n",
       "        0.56566598,  0.56269472,  0.55910497,  0.55687225,  0.55459898])"
      ]
     },
     "execution_count": 22,
     "metadata": {},
     "output_type": "execute_result"
    }
   ],
   "source": [
    "n_components = 150\n",
    "pca = PCA(n_components=n_components, svd_solver='full')\n",
    "x_train_p = pca.fit_transform(x_train)\n",
    "x_dev_p = pca.transform(x_dev)\n",
    "print(x_train_p.shape, x_dev_p.shape)\n",
    "pca.singular_values_"
   ]
  },
  {
   "cell_type": "code",
   "execution_count": 23,
   "id": "c01f7349",
   "metadata": {},
   "outputs": [
    {
     "name": "stdout",
     "output_type": "stream",
     "text": [
      "SVC : -> train =  0.94375 |  dev =  0.825\n",
      "Logistic Regression : -> train =  0.9 |  dev =  0.825\n",
      "LinearDiscriminantAnalysis : -> train =  1.0 |  dev =  0.7\n",
      "GaussianNB : -> train =  0.95 |  dev =  0.75\n",
      "KNeighborsClassifier : -> train =  1.0 |  dev =  0.75\n",
      "DecisionTreeClassifier : -> train =  1.0 |  dev =  0.55\n",
      "RandomForestClassifier : -> train =  1.0 |  dev =  0.7\n",
      "MLPClassifier : -> train =  1.0 |  dev =  0.7\n",
      "[0]\teval-mape:inf\ttrain-mape:inf\n",
      "[1]\teval-mape:inf\ttrain-mape:inf\n",
      "[2]\teval-mape:inf\ttrain-mape:inf\n",
      "[3]\teval-mape:inf\ttrain-mape:inf\n",
      "[4]\teval-mape:inf\ttrain-mape:inf\n",
      "[5]\teval-mape:inf\ttrain-mape:inf\n",
      "[6]\teval-mape:inf\ttrain-mape:inf\n",
      "[7]\teval-mape:inf\ttrain-mape:inf\n",
      "[8]\teval-mape:inf\ttrain-mape:inf\n",
      "[9]\teval-mape:inf\ttrain-mape:inf\n",
      "XGBoost : -> train =  1.0 |  dev =  0.75\n"
     ]
    }
   ],
   "source": [
    "run_classifiers(x_train_p, y_train, x_dev_p, y_dev)"
   ]
  },
  {
   "cell_type": "markdown",
   "id": "2bb985bf",
   "metadata": {},
   "source": [
    "### PCA - PCA"
   ]
  },
  {
   "cell_type": "code",
   "execution_count": 24,
   "id": "af9a3f00",
   "metadata": {},
   "outputs": [
    {
     "name": "stdout",
     "output_type": "stream",
     "text": [
      "(160, 60) (40, 60)\n",
      "[20.87730389  7.95694644  6.97541445  6.93562704  6.58450391  6.30114656\n",
      "  6.17187826  6.06417209  5.89434985  5.50202955  5.44674671  5.30659403\n",
      "  5.26211737  5.08392637  4.80990758  4.58096578  4.48959968  4.33392519\n",
      "  4.16842643  3.95374989  3.60460936  3.52793679  2.86087818  2.82063837\n",
      "  2.63969822  2.55722055  2.50677374  2.43613251  2.31841893  2.27574376\n",
      "  2.23359802  2.18630093  2.14898616  2.09827094  1.99493171  1.95634788\n",
      "  1.93050352  1.85866554  1.78640636  1.74362207  1.71331985  1.69500619\n",
      "  1.68049853  1.64390359  1.59230607  1.58415438  1.5600032   1.51236445\n",
      "  1.44888163  1.42556953  1.38441092  1.37061986  1.36203311  1.32598334\n",
      "  1.27988835  1.2580756   1.23857846  1.22413973  1.17691693  1.13808741]\n",
      "(160, 160) (40, 160)\n",
      "[1.88709773e+00 1.76279270e+00 1.23424314e+00 1.10822957e+00\n",
      " 9.98701518e-01 9.90915002e-01 9.80410356e-01 9.46211362e-01\n",
      " 9.20689040e-01 8.96050763e-01 8.86980378e-01 8.83917611e-01\n",
      " 8.70842659e-01 8.57653118e-01 8.45332994e-01 8.39925044e-01\n",
      " 8.22736067e-01 8.18007060e-01 8.06194211e-01 8.05880730e-01\n",
      " 8.01023371e-01 7.91879955e-01 7.82506872e-01 7.76056168e-01\n",
      " 7.67156592e-01 7.62460513e-01 7.60856871e-01 7.55197831e-01\n",
      " 7.46843249e-01 7.41565871e-01 7.36325285e-01 7.20398950e-01\n",
      " 7.20270119e-01 7.19586520e-01 7.09838537e-01 7.09299622e-01\n",
      " 6.95240304e-01 6.90709346e-01 6.89789078e-01 6.85955144e-01\n",
      " 6.84368177e-01 6.80438154e-01 6.78153682e-01 6.74641343e-01\n",
      " 6.69728690e-01 6.67041105e-01 6.63730376e-01 6.62317481e-01\n",
      " 6.58097743e-01 6.57379689e-01 6.55905450e-01 6.54129983e-01\n",
      " 6.49817340e-01 6.46322353e-01 6.45093361e-01 6.44772787e-01\n",
      " 6.40457807e-01 6.39174504e-01 6.35535848e-01 6.34023355e-01\n",
      " 6.32698804e-01 6.31515737e-01 6.28289504e-01 6.27653196e-01\n",
      " 6.25229366e-01 6.23723882e-01 6.19711463e-01 6.18963258e-01\n",
      " 6.17704903e-01 6.16198034e-01 6.15852341e-01 6.13857273e-01\n",
      " 6.12353216e-01 6.09214780e-01 6.06575269e-01 6.06341399e-01\n",
      " 6.04024116e-01 6.00914171e-01 5.99020485e-01 5.97477300e-01\n",
      " 5.93646400e-01 5.93073172e-01 5.91820366e-01 5.89955924e-01\n",
      " 5.86728537e-01 5.84884974e-01 5.84441048e-01 5.82696682e-01\n",
      " 5.82379494e-01 5.81020795e-01 5.78601750e-01 5.78014926e-01\n",
      " 5.75662862e-01 5.73985635e-01 5.72679325e-01 5.70991025e-01\n",
      " 5.68682310e-01 5.67115092e-01 5.66580554e-01 5.63935975e-01\n",
      " 5.62414533e-01 5.61795067e-01 5.60949910e-01 5.60195058e-01\n",
      " 5.57668349e-01 5.56304732e-01 5.54802259e-01 5.54272568e-01\n",
      " 5.52226492e-01 5.51163729e-01 5.49469843e-01 5.48152838e-01\n",
      " 5.48013657e-01 5.46829336e-01 5.45456855e-01 5.43247072e-01\n",
      " 5.42318459e-01 5.41394766e-01 5.39677953e-01 5.38614350e-01\n",
      " 5.37427677e-01 5.35976639e-01 5.33260737e-01 5.32479108e-01\n",
      " 5.31416134e-01 5.29311480e-01 5.27772678e-01 5.26601989e-01\n",
      " 5.26014948e-01 5.24342367e-01 5.23223012e-01 5.22598048e-01\n",
      " 5.21027892e-01 5.18677273e-01 5.16812024e-01 5.16442786e-01\n",
      " 5.14703179e-01 5.11220441e-01 5.10712760e-01 5.08840179e-01\n",
      " 5.07893958e-01 5.06369062e-01 5.05485532e-01 5.03047085e-01\n",
      " 5.01981612e-01 5.00341724e-01 4.99201026e-01 4.97861681e-01\n",
      " 4.94320672e-01 4.92021013e-01 4.90148728e-01 4.88071283e-01\n",
      " 4.84933256e-01 4.82871092e-01 4.82369365e-01 4.74584024e-01\n",
      " 4.72707610e-01 4.71416030e-01 4.67930736e-01 2.60867143e-15]\n"
     ]
    },
    {
     "data": {
      "text/plain": [
       "((160, 220), (40, 220))"
      ]
     },
     "execution_count": 24,
     "metadata": {},
     "output_type": "execute_result"
    }
   ],
   "source": [
    "n_components = 60\n",
    "pca = PCA(n_components=n_components, svd_solver='full')\n",
    "x_train_persp_p = pca.fit_transform(x_train_persp)\n",
    "x_dev_persp_p = pca.transform(x_dev_persp)\n",
    "print(x_train_persp_p.shape, x_dev_persp_p.shape)\n",
    "print(pca.singular_values_)\n",
    "\n",
    "n_components = 160\n",
    "pca = PCA(n_components=n_components, svd_solver='full')\n",
    "x_train_tfidf_p = pca.fit_transform(x_train_tfidf.toarray())\n",
    "x_dev_tfidf_p = pca.transform(x_dev_tfidf.toarray())\n",
    "print(x_train_tfidf_p.shape, x_dev_tfidf_p.shape)\n",
    "print(pca.singular_values_)\n",
    "\n",
    "x_train_p_p = np.concatenate((x_train_persp_p, x_train_tfidf_p), axis=1)\n",
    "x_dev_p_p = np.concatenate((x_dev_persp_p, x_dev_tfidf_p), axis=1)\n",
    "x_train_p_p.shape, x_dev_p_p.shape"
   ]
  },
  {
   "cell_type": "code",
   "execution_count": 25,
   "id": "b3208e25",
   "metadata": {},
   "outputs": [
    {
     "name": "stdout",
     "output_type": "stream",
     "text": [
      "SVC : -> train =  0.94375 |  dev =  0.8\n",
      "Logistic Regression : -> train =  0.8875 |  dev =  0.825\n",
      "LinearDiscriminantAnalysis : -> train =  0.7125 |  dev =  0.575\n",
      "GaussianNB : -> train =  0.90625 |  dev =  0.85\n",
      "KNeighborsClassifier : -> train =  1.0 |  dev =  0.75\n",
      "DecisionTreeClassifier : -> train =  1.0 |  dev =  0.625\n",
      "RandomForestClassifier : -> train =  1.0 |  dev =  0.875\n",
      "MLPClassifier : -> train =  1.0 |  dev =  0.775\n",
      "[0]\teval-mape:inf\ttrain-mape:inf\n",
      "[1]\teval-mape:inf\ttrain-mape:inf\n",
      "[2]\teval-mape:inf\ttrain-mape:inf\n",
      "[3]\teval-mape:inf\ttrain-mape:inf\n",
      "[4]\teval-mape:inf\ttrain-mape:inf\n",
      "[5]\teval-mape:inf\ttrain-mape:inf\n",
      "[6]\teval-mape:inf\ttrain-mape:inf\n",
      "[7]\teval-mape:inf\ttrain-mape:inf\n",
      "[8]\teval-mape:inf\ttrain-mape:inf\n",
      "[9]\teval-mape:inf\ttrain-mape:inf\n",
      "XGBoost : -> train =  1.0 |  dev =  0.775\n"
     ]
    }
   ],
   "source": [
    "run_classifiers(x_train_p_p, y_train, x_dev_p_p, y_dev)"
   ]
  },
  {
   "cell_type": "code",
   "execution_count": null,
   "id": "2f4d9062",
   "metadata": {},
   "outputs": [],
   "source": []
  }
 ],
 "metadata": {
  "kernelspec": {
   "display_name": "Python 3",
   "language": "python",
   "name": "python3"
  },
  "language_info": {
   "codemirror_mode": {
    "name": "ipython",
    "version": 3
   },
   "file_extension": ".py",
   "mimetype": "text/x-python",
   "name": "python",
   "nbconvert_exporter": "python",
   "pygments_lexer": "ipython3",
   "version": "3.8.5"
  }
 },
 "nbformat": 4,
 "nbformat_minor": 5
}
