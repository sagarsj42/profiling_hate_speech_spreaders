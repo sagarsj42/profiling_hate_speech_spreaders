{
 "cells": [
  {
   "cell_type": "code",
   "execution_count": 1,
   "id": "continued-anthony",
   "metadata": {},
   "outputs": [],
   "source": [
    "import os\n",
    "from pathlib import Path\n",
    "import glob\n",
    "import xml.etree.ElementTree as ET\n",
    "\n",
    "import pyarrow\n",
    "import pyarrow.feather as fth\n",
    "import pyarrow.parquet as pq\n",
    "\n",
    "import numpy as np\n",
    "import pandas as pd\n",
    "from sklearn.model_selection import StratifiedShuffleSplit"
   ]
  },
  {
   "cell_type": "code",
   "execution_count": 2,
   "id": "varying-recall",
   "metadata": {},
   "outputs": [
    {
     "data": {
      "text/plain": [
       "PosixPath('../data/pan21-author-profiling-training-2021-03-14')"
      ]
     },
     "execution_count": 2,
     "metadata": {},
     "output_type": "execute_result"
    }
   ],
   "source": [
    "data_dir = Path('..', 'data', 'pan21-author-profiling-training-2021-03-14')\n",
    "data_dir"
   ]
  },
  {
   "cell_type": "code",
   "execution_count": 3,
   "id": "geological-concept",
   "metadata": {},
   "outputs": [],
   "source": [
    "def create_df(data_dir, lang, df_columns):\n",
    "    lang_df = pd.DataFrame(columns=df_columns)\n",
    "    \n",
    "    for auth_file in sorted(glob.glob(os.path.join(data_dir, lang + '/*.xml'))):\n",
    "        root = ET.parse(auth_file).getroot()\n",
    "        author_id = os.path.basename(auth_file)[:-4]\n",
    "        label = root.get('class')\n",
    "        tweets = root.findall('./documents/*')\n",
    "    \n",
    "        for tweet in tweets:\n",
    "            temp_df = pd.DataFrame(data=[[author_id, tweet.text, label]], columns=df_columns)\n",
    "            lang_df = lang_df.append(temp_df, ignore_index=True)\n",
    "        \n",
    "    return lang_df"
   ]
  },
  {
   "cell_type": "code",
   "execution_count": 4,
   "id": "sunrise-sellers",
   "metadata": {},
   "outputs": [
    {
     "data": {
      "text/plain": [
       "(40000, 3)"
      ]
     },
     "execution_count": 4,
     "metadata": {},
     "output_type": "execute_result"
    }
   ],
   "source": [
    "df_columns = ['author_id', 'tweet', 'label']\n",
    "en_df = create_df(data_dir, 'en', df_columns)\n",
    "en_df.shape"
   ]
  },
  {
   "cell_type": "code",
   "execution_count": 5,
   "id": "occupational-surrey",
   "metadata": {},
   "outputs": [
    {
     "data": {
      "text/plain": [
       "(40000, 3)"
      ]
     },
     "execution_count": 5,
     "metadata": {},
     "output_type": "execute_result"
    }
   ],
   "source": [
    "es_df = create_df(data_dir, 'es', df_columns)\n",
    "es_df.shape"
   ]
  },
  {
   "cell_type": "code",
   "execution_count": 6,
   "id": "loved-paragraph",
   "metadata": {},
   "outputs": [
    {
     "data": {
      "text/html": [
       "<div>\n",
       "<style scoped>\n",
       "    .dataframe tbody tr th:only-of-type {\n",
       "        vertical-align: middle;\n",
       "    }\n",
       "\n",
       "    .dataframe tbody tr th {\n",
       "        vertical-align: top;\n",
       "    }\n",
       "\n",
       "    .dataframe thead th {\n",
       "        text-align: right;\n",
       "    }\n",
       "</style>\n",
       "<table border=\"1\" class=\"dataframe\">\n",
       "  <thead>\n",
       "    <tr style=\"text-align: right;\">\n",
       "      <th></th>\n",
       "      <th>author_id</th>\n",
       "      <th>tweet</th>\n",
       "      <th>label</th>\n",
       "    </tr>\n",
       "  </thead>\n",
       "  <tbody>\n",
       "    <tr>\n",
       "      <th>39990</th>\n",
       "      <td>fde1d7437a12068e0e39505af6948f99</td>\n",
       "      <td>RT #USER#: Votar independentismo es esto...</td>\n",
       "      <td>1</td>\n",
       "    </tr>\n",
       "    <tr>\n",
       "      <th>39991</th>\n",
       "      <td>fde1d7437a12068e0e39505af6948f99</td>\n",
       "      <td>RT #USER#: Soy el único que ya está hasta las ...</td>\n",
       "      <td>1</td>\n",
       "    </tr>\n",
       "    <tr>\n",
       "      <th>39992</th>\n",
       "      <td>fde1d7437a12068e0e39505af6948f99</td>\n",
       "      <td>RT #USER#: Quiero que mis impuestos paguen vac...</td>\n",
       "      <td>1</td>\n",
       "    </tr>\n",
       "    <tr>\n",
       "      <th>39993</th>\n",
       "      <td>fde1d7437a12068e0e39505af6948f99</td>\n",
       "      <td>RT #USER#: Dime que eres facha sin decirme que...</td>\n",
       "      <td>1</td>\n",
       "    </tr>\n",
       "    <tr>\n",
       "      <th>39994</th>\n",
       "      <td>fde1d7437a12068e0e39505af6948f99</td>\n",
       "      <td>RT #USER#: Dos menestras podemoides yéndose a ...</td>\n",
       "      <td>1</td>\n",
       "    </tr>\n",
       "    <tr>\n",
       "      <th>39995</th>\n",
       "      <td>fde1d7437a12068e0e39505af6948f99</td>\n",
       "      <td>RT #USER#: Herrera, a Iglesias: \"Es una anomal...</td>\n",
       "      <td>1</td>\n",
       "    </tr>\n",
       "    <tr>\n",
       "      <th>39996</th>\n",
       "      <td>fde1d7437a12068e0e39505af6948f99</td>\n",
       "      <td>RT #USER#: Dice el hijøputa de Otegi que lo má...</td>\n",
       "      <td>1</td>\n",
       "    </tr>\n",
       "    <tr>\n",
       "      <th>39997</th>\n",
       "      <td>fde1d7437a12068e0e39505af6948f99</td>\n",
       "      <td>RT #USER#: Iñaqui, #USER# lo que opines de #US...</td>\n",
       "      <td>1</td>\n",
       "    </tr>\n",
       "    <tr>\n",
       "      <th>39998</th>\n",
       "      <td>fde1d7437a12068e0e39505af6948f99</td>\n",
       "      <td>RT #USER#: Si te gusta alguna de las putas que...</td>\n",
       "      <td>1</td>\n",
       "    </tr>\n",
       "    <tr>\n",
       "      <th>39999</th>\n",
       "      <td>fde1d7437a12068e0e39505af6948f99</td>\n",
       "      <td>RT #USER#: Se ofrece tarotista fiable, serio, ...</td>\n",
       "      <td>1</td>\n",
       "    </tr>\n",
       "  </tbody>\n",
       "</table>\n",
       "</div>"
      ],
      "text/plain": [
       "                              author_id  \\\n",
       "39990  fde1d7437a12068e0e39505af6948f99   \n",
       "39991  fde1d7437a12068e0e39505af6948f99   \n",
       "39992  fde1d7437a12068e0e39505af6948f99   \n",
       "39993  fde1d7437a12068e0e39505af6948f99   \n",
       "39994  fde1d7437a12068e0e39505af6948f99   \n",
       "39995  fde1d7437a12068e0e39505af6948f99   \n",
       "39996  fde1d7437a12068e0e39505af6948f99   \n",
       "39997  fde1d7437a12068e0e39505af6948f99   \n",
       "39998  fde1d7437a12068e0e39505af6948f99   \n",
       "39999  fde1d7437a12068e0e39505af6948f99   \n",
       "\n",
       "                                                   tweet label  \n",
       "39990        RT #USER#: Votar independentismo es esto...     1  \n",
       "39991  RT #USER#: Soy el único que ya está hasta las ...     1  \n",
       "39992  RT #USER#: Quiero que mis impuestos paguen vac...     1  \n",
       "39993  RT #USER#: Dime que eres facha sin decirme que...     1  \n",
       "39994  RT #USER#: Dos menestras podemoides yéndose a ...     1  \n",
       "39995  RT #USER#: Herrera, a Iglesias: \"Es una anomal...     1  \n",
       "39996  RT #USER#: Dice el hijøputa de Otegi que lo má...     1  \n",
       "39997  RT #USER#: Iñaqui, #USER# lo que opines de #US...     1  \n",
       "39998  RT #USER#: Si te gusta alguna de las putas que...     1  \n",
       "39999  RT #USER#: Se ofrece tarotista fiable, serio, ...     1  "
      ]
     },
     "execution_count": 6,
     "metadata": {},
     "output_type": "execute_result"
    }
   ],
   "source": [
    "es_df.tail(10)"
   ]
  },
  {
   "cell_type": "code",
   "execution_count": 7,
   "id": "endangered-interim",
   "metadata": {},
   "outputs": [],
   "source": [
    "en_table = pyarrow.Table.from_pandas(en_df)\n",
    "pq.write_table(en_table, str(data_dir)+'/en_df.parquet')\n",
    "es_table = pyarrow.Table.from_pandas(es_df)\n",
    "pq.write_table(es_table, str(data_dir)+'/es_df.parquet')"
   ]
  },
  {
   "cell_type": "code",
   "execution_count": 8,
   "id": "parental-discretion",
   "metadata": {},
   "outputs": [],
   "source": [
    "en_df_parquet = pq.read_table(str(data_dir)+'/en_df.parquet').to_pandas()\n",
    "es_df_parquet = pq.read_table(str(data_dir)+'/es_df.parquet').to_pandas()"
   ]
  },
  {
   "cell_type": "code",
   "execution_count": 9,
   "id": "continent-illness",
   "metadata": {},
   "outputs": [],
   "source": [
    "fth.write_feather(df=en_df, dest=str(data_dir)+'/en_df.feather')\n",
    "fth.write_feather(df=es_df, dest=str(data_dir)+'/es_df.feather')"
   ]
  },
  {
   "cell_type": "code",
   "execution_count": 10,
   "id": "hispanic-detector",
   "metadata": {},
   "outputs": [],
   "source": [
    "en_df_fth = fth.read_feather(str(data_dir)+'/en_df.feather')\n",
    "es_df_fth = fth.read_feather(str(data_dir)+'/es_df.feather')"
   ]
  },
  {
   "cell_type": "code",
   "execution_count": 11,
   "id": "functioning-enterprise",
   "metadata": {},
   "outputs": [],
   "source": [
    "en_df.to_csv(str(data_dir)+'/en_df.csv', index=False)\n",
    "es_df.to_csv(str(data_dir)+'/es_df.csv', index=False)"
   ]
  },
  {
   "cell_type": "code",
   "execution_count": 12,
   "id": "forbidden-influence",
   "metadata": {},
   "outputs": [],
   "source": [
    "en_df_csv = pd.read_csv(str(data_dir)+'/en_df.csv')\n",
    "es_df_csv = pd.read_csv(str(data_dir)+'/es_df.csv')"
   ]
  },
  {
   "cell_type": "code",
   "execution_count": 13,
   "id": "rotary-chamber",
   "metadata": {},
   "outputs": [],
   "source": [
    "def verify_with_truth(df, data_dir, lang):\n",
    "    with open(Path(data_dir, lang, 'truth.txt'), 'r') as f:\n",
    "        lines = f.readlines()\n",
    "        for line in lines:\n",
    "            author, label = line.split(':::')\n",
    "            author_df = df.loc[df['author_id'] == author.strip()]\n",
    "            \n",
    "            assert author_df.shape[0] == 200\n",
    "            assert (author_df['label'] == label.strip()).all()"
   ]
  },
  {
   "cell_type": "code",
   "execution_count": 14,
   "id": "legislative-colon",
   "metadata": {},
   "outputs": [],
   "source": [
    "verify_with_truth(es_df_parquet, data_dir, 'es')"
   ]
  },
  {
   "cell_type": "code",
   "execution_count": 15,
   "id": "immediate-collar",
   "metadata": {},
   "outputs": [],
   "source": [
    "def split_authorwise(data_dir, lang, train_ratio=0.8, n_splits=1):\n",
    "    with open(Path(data_dir, lang, 'truth.txt'), 'r') as f:\n",
    "        lines = f.readlines()\n",
    "        author_labels = np.array(list(map(\n",
    "            lambda l: [l.split(':::')[0].strip(), l.split(':::')[1].strip()], lines)))\n",
    "        authors = author_labels[:, 0]\n",
    "        labels = author_labels[:, 1]\n",
    "        splits = list()\n",
    "        \n",
    "        sss = StratifiedShuffleSplit(n_splits=n_splits, train_size=train_ratio, random_state=0)\n",
    "        for train_index, dev_index in sss.split(authors, labels):\n",
    "            splits.append((authors[train_index], authors[dev_index]))\n",
    "            \n",
    "        return splits"
   ]
  },
  {
   "cell_type": "code",
   "execution_count": 16,
   "id": "fixed-importance",
   "metadata": {},
   "outputs": [],
   "source": [
    "def get_train_dev_from_split(df, author_split):\n",
    "    train_split = df.loc[df.author_id.isin(author_split[0])]\n",
    "    dev_split = df.loc[df.author_id.isin(author_split[1])]\n",
    "    \n",
    "    assert (train_split['author_id'].value_counts() == 200).all()\n",
    "    assert (dev_split['author_id'].value_counts() == 200).all()\n",
    "    assert (train_split['label'].value_counts() == len(author_split[0]) * 100).all()\n",
    "    assert (dev_split['label'].value_counts() == len(author_split[1]) * 100).all()\n",
    "    \n",
    "    return train_split, dev_split"
   ]
  },
  {
   "cell_type": "code",
   "execution_count": 17,
   "id": "gross-papua",
   "metadata": {},
   "outputs": [],
   "source": [
    "def get_single_split(data_dir, lang):\n",
    "    df = pq.read_table(os.path.join(data_dir, lang+'_df.parquet')).to_pandas()\n",
    "    author_splits = split_authorwise(data_dir, lang)\n",
    "    train_split, dev_split = get_train_dev_from_split(df, author_splits[0])\n",
    "    \n",
    "    return train_split, dev_split"
   ]
  },
  {
   "cell_type": "code",
   "execution_count": 18,
   "id": "willing-essay",
   "metadata": {},
   "outputs": [
    {
     "data": {
      "text/html": [
       "<div>\n",
       "<style scoped>\n",
       "    .dataframe tbody tr th:only-of-type {\n",
       "        vertical-align: middle;\n",
       "    }\n",
       "\n",
       "    .dataframe tbody tr th {\n",
       "        vertical-align: top;\n",
       "    }\n",
       "\n",
       "    .dataframe thead th {\n",
       "        text-align: right;\n",
       "    }\n",
       "</style>\n",
       "<table border=\"1\" class=\"dataframe\">\n",
       "  <thead>\n",
       "    <tr style=\"text-align: right;\">\n",
       "      <th></th>\n",
       "      <th>author_id</th>\n",
       "      <th>tweet</th>\n",
       "      <th>label</th>\n",
       "    </tr>\n",
       "  </thead>\n",
       "  <tbody>\n",
       "    <tr>\n",
       "      <th>200</th>\n",
       "      <td>06893abba0bb8f94fed7562350233ed7</td>\n",
       "      <td>Romanian graftbuster’s firing violated rights,...</td>\n",
       "      <td>0</td>\n",
       "    </tr>\n",
       "    <tr>\n",
       "      <th>201</th>\n",
       "      <td>06893abba0bb8f94fed7562350233ed7</td>\n",
       "      <td>Russian ventilators sent to U.S. made by firm ...</td>\n",
       "      <td>0</td>\n",
       "    </tr>\n",
       "    <tr>\n",
       "      <th>202</th>\n",
       "      <td>06893abba0bb8f94fed7562350233ed7</td>\n",
       "      <td>Hezbollah prevented ISIS from reaching Europe:...</td>\n",
       "      <td>0</td>\n",
       "    </tr>\n",
       "    <tr>\n",
       "      <th>203</th>\n",
       "      <td>06893abba0bb8f94fed7562350233ed7</td>\n",
       "      <td>Epidemiologist Dr Knut Wittkowski: ‘Lockdown H...</td>\n",
       "      <td>0</td>\n",
       "    </tr>\n",
       "    <tr>\n",
       "      <th>204</th>\n",
       "      <td>06893abba0bb8f94fed7562350233ed7</td>\n",
       "      <td>China refuses to let WHO investigate truth beh...</td>\n",
       "      <td>0</td>\n",
       "    </tr>\n",
       "  </tbody>\n",
       "</table>\n",
       "</div>"
      ],
      "text/plain": [
       "                            author_id  \\\n",
       "200  06893abba0bb8f94fed7562350233ed7   \n",
       "201  06893abba0bb8f94fed7562350233ed7   \n",
       "202  06893abba0bb8f94fed7562350233ed7   \n",
       "203  06893abba0bb8f94fed7562350233ed7   \n",
       "204  06893abba0bb8f94fed7562350233ed7   \n",
       "\n",
       "                                                 tweet label  \n",
       "200  Romanian graftbuster’s firing violated rights,...     0  \n",
       "201  Russian ventilators sent to U.S. made by firm ...     0  \n",
       "202  Hezbollah prevented ISIS from reaching Europe:...     0  \n",
       "203  Epidemiologist Dr Knut Wittkowski: ‘Lockdown H...     0  \n",
       "204  China refuses to let WHO investigate truth beh...     0  "
      ]
     },
     "execution_count": 18,
     "metadata": {},
     "output_type": "execute_result"
    }
   ],
   "source": [
    "en_train_split, en_dev_split = get_single_split(data_dir, 'en')\n",
    "en_train_split.head()"
   ]
  },
  {
   "cell_type": "code",
   "execution_count": 19,
   "id": "veterinary-romania",
   "metadata": {},
   "outputs": [
    {
     "data": {
      "text/html": [
       "<div>\n",
       "<style scoped>\n",
       "    .dataframe tbody tr th:only-of-type {\n",
       "        vertical-align: middle;\n",
       "    }\n",
       "\n",
       "    .dataframe tbody tr th {\n",
       "        vertical-align: top;\n",
       "    }\n",
       "\n",
       "    .dataframe thead th {\n",
       "        text-align: right;\n",
       "    }\n",
       "</style>\n",
       "<table border=\"1\" class=\"dataframe\">\n",
       "  <thead>\n",
       "    <tr style=\"text-align: right;\">\n",
       "      <th></th>\n",
       "      <th>author_id</th>\n",
       "      <th>tweet</th>\n",
       "      <th>label</th>\n",
       "    </tr>\n",
       "  </thead>\n",
       "  <tbody>\n",
       "    <tr>\n",
       "      <th>0</th>\n",
       "      <td>0035a3060d075506f5b9b978a910aa1f</td>\n",
       "      <td>#USER# pasta con bichos de agua</td>\n",
       "      <td>0</td>\n",
       "    </tr>\n",
       "    <tr>\n",
       "      <th>1</th>\n",
       "      <td>0035a3060d075506f5b9b978a910aa1f</td>\n",
       "      <td>De verdad puto lol de mierda qué asco de juego...</td>\n",
       "      <td>0</td>\n",
       "    </tr>\n",
       "    <tr>\n",
       "      <th>2</th>\n",
       "      <td>0035a3060d075506f5b9b978a910aa1f</td>\n",
       "      <td>RT #USER#: me hice una pcr y ya tengo los resu...</td>\n",
       "      <td>0</td>\n",
       "    </tr>\n",
       "    <tr>\n",
       "      <th>3</th>\n",
       "      <td>0035a3060d075506f5b9b978a910aa1f</td>\n",
       "      <td>Y un lomo queso de baguette entera, tranqui #URL#</td>\n",
       "      <td>0</td>\n",
       "    </tr>\n",
       "    <tr>\n",
       "      <th>4</th>\n",
       "      <td>0035a3060d075506f5b9b978a910aa1f</td>\n",
       "      <td>Me cambio de curro y me llegan 3 ofertas direc...</td>\n",
       "      <td>0</td>\n",
       "    </tr>\n",
       "  </tbody>\n",
       "</table>\n",
       "</div>"
      ],
      "text/plain": [
       "                          author_id  \\\n",
       "0  0035a3060d075506f5b9b978a910aa1f   \n",
       "1  0035a3060d075506f5b9b978a910aa1f   \n",
       "2  0035a3060d075506f5b9b978a910aa1f   \n",
       "3  0035a3060d075506f5b9b978a910aa1f   \n",
       "4  0035a3060d075506f5b9b978a910aa1f   \n",
       "\n",
       "                                               tweet label  \n",
       "0                    #USER# pasta con bichos de agua     0  \n",
       "1  De verdad puto lol de mierda qué asco de juego...     0  \n",
       "2  RT #USER#: me hice una pcr y ya tengo los resu...     0  \n",
       "3  Y un lomo queso de baguette entera, tranqui #URL#     0  \n",
       "4  Me cambio de curro y me llegan 3 ofertas direc...     0  "
      ]
     },
     "execution_count": 19,
     "metadata": {},
     "output_type": "execute_result"
    }
   ],
   "source": [
    "es_train_split, es_dev_split = get_single_split(data_dir, 'es')\n",
    "es_train_split.head()"
   ]
  },
  {
   "cell_type": "code",
   "execution_count": null,
   "id": "boxed-traveler",
   "metadata": {},
   "outputs": [],
   "source": []
  }
 ],
 "metadata": {
  "kernelspec": {
   "display_name": "Python 3",
   "language": "python",
   "name": "python3"
  },
  "language_info": {
   "codemirror_mode": {
    "name": "ipython",
    "version": 3
   },
   "file_extension": ".py",
   "mimetype": "text/x-python",
   "name": "python",
   "nbconvert_exporter": "python",
   "pygments_lexer": "ipython3",
   "version": "3.8.5"
  }
 },
 "nbformat": 4,
 "nbformat_minor": 5
}
