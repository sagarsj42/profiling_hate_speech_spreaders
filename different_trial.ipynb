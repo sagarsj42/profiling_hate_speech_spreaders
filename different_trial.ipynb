{
 "cells": [
  {
   "cell_type": "code",
   "execution_count": 2,
   "id": "fd1b3e69",
   "metadata": {},
   "outputs": [],
   "source": [
    "import datetime"
   ]
  },
  {
   "cell_type": "code",
   "execution_count": 5,
   "id": "4fd3013d",
   "metadata": {},
   "outputs": [
    {
     "data": {
      "text/plain": [
       "datetime.date(2021, 5, 12)"
      ]
     },
     "execution_count": 5,
     "metadata": {},
     "output_type": "execute_result"
    }
   ],
   "source": [
    "dt = datetime.date.today()\n",
    "dt"
   ]
  },
  {
   "cell_type": "code",
   "execution_count": 8,
   "id": "4a2eea38",
   "metadata": {},
   "outputs": [
    {
     "data": {
      "text/plain": [
       "(int, 12)"
      ]
     },
     "execution_count": 8,
     "metadata": {},
     "output_type": "execute_result"
    }
   ],
   "source": [
    "type(dt.day), dt.day"
   ]
  },
  {
   "cell_type": "code",
   "execution_count": 9,
   "id": "ecab9c80",
   "metadata": {},
   "outputs": [
    {
     "data": {
      "text/plain": [
       "(int, 5)"
      ]
     },
     "execution_count": 9,
     "metadata": {},
     "output_type": "execute_result"
    }
   ],
   "source": [
    "type(dt.month), dt.month"
   ]
  },
  {
   "cell_type": "code",
   "execution_count": 10,
   "id": "96e1e034",
   "metadata": {},
   "outputs": [
    {
     "data": {
      "text/plain": [
       "(int, 2021)"
      ]
     },
     "execution_count": 10,
     "metadata": {},
     "output_type": "execute_result"
    }
   ],
   "source": [
    "type(dt.year), dt.year"
   ]
  },
  {
   "cell_type": "code",
   "execution_count": 14,
   "id": "b3c4f2ae",
   "metadata": {},
   "outputs": [
    {
     "data": {
      "text/plain": [
       "(str, 'May')"
      ]
     },
     "execution_count": 14,
     "metadata": {},
     "output_type": "execute_result"
    }
   ],
   "source": [
    "type(dt.strftime('%B')), dt.strftime('%B')"
   ]
  },
  {
   "cell_type": "code",
   "execution_count": 15,
   "id": "c8fea183",
   "metadata": {},
   "outputs": [
    {
     "data": {
      "text/plain": [
       "\"\\n*If you have any outage, it's not my responsibility. I won't pay any money for loss due to it. * I have paid for cable tv as per my service level. There won't be any refund or adjustment if you don't like the content of have different choices. * Don't ask for any compensation while leaving.\\n*I will pay the property & other taxes on house.*Dont smoke at my home. *You are not rented for forever, so do not expect to make this your permanent home.\\n*We both will take a copy of it.\\n *You don't have to pay any advance.\\n*I will increase the rent by 5% every year.\\n*No pets here.\\n*\\nI am not responsible for any injury or damage at my place, in case of any accident.\\n\""
      ]
     },
     "execution_count": 15,
     "metadata": {},
     "output_type": "execute_result"
    }
   ],
   "source": [
    "freeform = '''\n",
    "*If you have any outage, it's not my responsibility. I won't pay any money for loss due to it. * I have paid for cable tv as per my service level. There won't be any refund or adjustment if you don't like the content of have different choices. * Don't ask for any compensation while leaving.\n",
    "*I will pay the property & other taxes on house.*Dont smoke at my home. *You are not rented for forever, so do not expect to make this your permanent home.\n",
    "*We both will take a copy of it.\n",
    " *You don't have to pay any advance.\n",
    "*I will increase the rent by 5% every year.\n",
    "*No pets here.\n",
    "*\n",
    "I am not responsible for any injury or damage at my place, in case of any accident.\n",
    "'''\n",
    "freeform"
   ]
  },
  {
   "cell_type": "code",
   "execution_count": 18,
   "id": "3e4b30f2",
   "metadata": {},
   "outputs": [
    {
     "data": {
      "text/plain": [
       "['\\n',\n",
       " \"If you have any outage, it's not my responsibility. I won't pay any money for loss due to it. \",\n",
       " \" I have paid for cable tv as per my service level. There won't be any refund or adjustment if you don't like the content of have different choices. \",\n",
       " \" Don't ask for any compensation while leaving.\\n\",\n",
       " 'I will pay the property & other taxes on house.',\n",
       " 'Dont smoke at my home. ',\n",
       " 'You are not rented for forever, so do not expect to make this your permanent home.\\n',\n",
       " 'We both will take a copy of it.\\n ',\n",
       " \"You don't have to pay any advance.\\n\",\n",
       " 'I will increase the rent by 5% every year.\\n',\n",
       " 'No pets here.\\n',\n",
       " '\\nI am not responsible for any injury or damage at my place, in case of any accident.\\n']"
      ]
     },
     "execution_count": 18,
     "metadata": {},
     "output_type": "execute_result"
    }
   ],
   "source": [
    "freeform.split('*')"
   ]
  },
  {
   "cell_type": "code",
   "execution_count": 2,
   "id": "40306360",
   "metadata": {},
   "outputs": [
    {
     "data": {
      "text/plain": [
       "'Sample test string\\n'"
      ]
     },
     "execution_count": 2,
     "metadata": {},
     "output_type": "execute_result"
    }
   ],
   "source": [
    "string = 'Sample test string'\n",
    "string + '\\n'"
   ]
  },
  {
   "cell_type": "code",
   "execution_count": null,
   "id": "80f37193",
   "metadata": {},
   "outputs": [],
   "source": []
  }
 ],
 "metadata": {
  "kernelspec": {
   "display_name": "Python 3",
   "language": "python",
   "name": "python3"
  },
  "language_info": {
   "codemirror_mode": {
    "name": "ipython",
    "version": 3
   },
   "file_extension": ".py",
   "mimetype": "text/x-python",
   "name": "python",
   "nbconvert_exporter": "python",
   "pygments_lexer": "ipython3",
   "version": "3.8.5"
  }
 },
 "nbformat": 4,
 "nbformat_minor": 5
}
